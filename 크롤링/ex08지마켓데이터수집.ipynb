{
 "cells": [
  {
   "cell_type": "code",
   "execution_count": 7,
   "id": "601318ea",
   "metadata": {},
   "outputs": [],
   "source": [
    "# 1.브라우저 역할을 하는 라이브러리 --> webdriver\n",
    "from selenium import webdriver as wb\n",
    "# 2. 컴용 키보드 라이브러리\n",
    "from selenium.webdriver.common.keys import Keys  #--> 대문자 주의\n",
    "#3.선택자를 구분지어 주는 라이브러리\n",
    "from selenium.webdriver.common.by import By   #--> 대문자 주의\n",
    "import pandas as pd\n",
    "import time"
   ]
  },
  {
   "cell_type": "code",
   "execution_count": null,
   "id": "6784220a",
   "metadata": {},
   "outputs": [],
   "source": [
    "# https://www.gmarket.co.kr/n/best"
   ]
  },
  {
   "cell_type": "code",
   "execution_count": 8,
   "id": "547ca495",
   "metadata": {},
   "outputs": [],
   "source": [
    "# 1.크롬실행 -> 지마켓이동\n",
    "driver = wb.Chrome()\n",
    "driver.get('https://www.gmarket.co.kr/n/best')"
   ]
  },
  {
   "cell_type": "code",
   "execution_count": 10,
   "id": "9ac66863",
   "metadata": {},
   "outputs": [],
   "source": [
    "# 2.첫번째 상품 이미지 클릭 --> 상세페이지 들어가기\n",
    "# 상품명을 바로 찍는게 아니고 상품이미지을 클릭해서 상세페이지 이동 후 상품명을 수집해 보자\n",
    "# 고로 먼저 상품이미지를 수집하자\n",
    "#gBestWrap > div.best-list > ul > li:nth-child(1) > div.thumb > a > img\n",
    "\n",
    "\n",
    "# img는 리스트 이므로 인덱스로 접근해서 클릭 --> 우선 첫번째 인덱스를 클릭해 이미지를 보자\n",
    "# 인덱스 번호만 바뀌면 다른 상품과 가격을 수집한다\n",
    "img = driver.find_elements(By.CSS_SELECTOR,'#gBestWrap > div.best-list > ul > li > div.thumb > a > img')\n",
    "#img\n",
    "img[0].click()"
   ]
  },
  {
   "cell_type": "code",
   "execution_count": 11,
   "id": "d0ed773d",
   "metadata": {},
   "outputs": [
    {
     "data": {
      "text/plain": [
       "'(15%+5%쿠폰) 시크릿무드 역마진 단하루/ 겨울마감+봄맞이 BEST신상 데일리룩 가디건/니트/자켓/팬츠/스커트'"
      ]
     },
     "execution_count": 11,
     "metadata": {},
     "output_type": "execute_result"
    }
   ],
   "source": [
    "# 상품명 수집\n",
    "# 이제 상품명 수집하는데 앞서 이미지 한개를 리스에서 빼왔으므로 상품명은 하나의 태그 하나의 선택자이다\n",
    "#itemcase_basic > div.box__item-title > h1\n",
    "# 단수개\n",
    "title = driver.find_element(By.CSS_SELECTOR,'#itemcase_basic > div.box__item-title > h1')\n",
    "title.text\n",
    "# text가 가능한 이유는  title이 리스트라면 적용불가 --> 한개의 요소(태그)이므로 가능"
   ]
  },
  {
   "cell_type": "code",
   "execution_count": null,
   "id": "318cec39",
   "metadata": {},
   "outputs": [],
   "source": [
    "# 쿠폰 적용가 수집\n",
    "#itemcase_basic > div.box__item-title > div.price > span.price_innerwrap.price_innerwrap-coupon > strong\n",
    "# 단수개\n",
    "price = driver.find_element(By.CSS_SELECTOR,'#itemcase_basic > div.box__item-title > div.price > span.price_innerwrap.price_innerwrap-coupon > strong')\n",
    "price.text"
   ]
  },
  {
   "cell_type": "code",
   "execution_count": null,
   "id": "4bbcde36",
   "metadata": {},
   "outputs": [],
   "source": [
    "#뒤로가기 -> 브라우저를 back해서 처음화면으로 가자\n",
    "driver.back()"
   ]
  },
  {
   "cell_type": "code",
   "execution_count": null,
   "id": "79dfd8f6",
   "metadata": {},
   "outputs": [],
   "source": [
    "# 반복문으로 20개 상품 수집하기\n",
    "# 즉 상품이미지 선택-->클릭-->해당1개상품명과 쿠폰가 수집->뒤로가기->두번째 상품이미지 선택->클릭->......반복이다 -->\n",
    "# 20개 상품이므로 20번 반복하면 된다\n",
    "\n",
    "\n",
    "# 주의점! -->요청과 응답사이 시간여유을 주자\n",
    "# 클라인언트가 서베에게 요청할때 필요 \n",
    "# 여기서는 서버에게 영향을 주는 요청은 이미지 보여주는 요청과 뒤로가기 요청\n",
    "\n",
    "# 텍스트를 수집하는 행위는 나만의 페이지에서 수집하는 것이므로 굳이 시간여유 필요없다\n",
    "# 즉 서버에게 요청을 하는 것이 아닌 나만의 페이지에서 상품명이나 가격을 수집하는 것이므로~\n",
    "\n",
    "# 예)개발자도구에서 네이버 화면의 텍스트를 변경하면 변경되지만 새로고침 하면 다시 원래대로 돌아온다\n",
    "# 화면의 텍스트를 변경 -> 현재페이지에서 나만의 페이지를 변경하는 것이므로 서버에게 요청하는 것이 아니다\n",
    "# 하지만 새로고침은 서버에게 요청하는 것이다 비동기나 동기 방식으로 통신을 요청하는 것이다\n",
    "# 새로고침은 전체 화면을 변경하라고 서버에게 요청하는 동기 방식 통신이므로 서버에게 시간여유를 줘야한다 \n",
    "\n",
    "\n",
    "    "
   ]
  },
  {
   "cell_type": "markdown",
   "id": "6df0f118",
   "metadata": {},
   "source": [
    "# 파이썬에서 반복문(for)의 진행상황을 체크하는 라이브러리\n",
    "- from tpdm.notebook import tqdm\n",
    "- while문에서 쓰이지 않는다 이유는 반복횟수가 정해지지 않아서 로딩화면을 표현할 수없다"
   ]
  },
  {
   "cell_type": "code",
   "execution_count": 3,
   "id": "0bbeeead",
   "metadata": {},
   "outputs": [],
   "source": [
    "from tqdm.notebook import tqdm"
   ]
  },
  {
   "cell_type": "code",
   "execution_count": 4,
   "id": "5d82712f",
   "metadata": {},
   "outputs": [
    {
     "data": {
      "application/vnd.jupyter.widget-view+json": {
       "model_id": "0088c9a74529471ba4079d30a5ebf3a2",
       "version_major": 2,
       "version_minor": 0
      },
      "text/plain": [
       "  0%|          | 0/20 [00:00<?, ?it/s]"
      ]
     },
     "metadata": {},
     "output_type": "display_data"
    }
   ],
   "source": [
    "# 리스트에 저장해야 휘발성이 없는 코드가 된다 --> 어딘가에 저장이 안되면 휘발성이다.\n",
    "title_list = []\n",
    "price_list = []\n",
    "#원래는 range(20) 인데 진행상황을 체크하기위해 tqdm(range(20))-->상황을 표현하므로 횟수범위를 함수의 매개변수로~ \n",
    "\n",
    "for i in tqdm(range(20)): \n",
    "    \n",
    "    img = driver.find_elements(By.CSS_SELECTOR,\"#gBestWrap > div.best-list > ul > li > div.thumb > a > img\")\n",
    "    img[i].click()\n",
    "    time.sleep(1)\n",
    "    \n",
    "    # 데이터수집\n",
    "    title = driver.find_element(By.CSS_SELECTOR,\"#itemcase_basic > div.box__item-title > h1\")\n",
    "\n",
    "# 쿠폰가 없는 경우가 있으므로 예외대상 코드    \n",
    "    try:\n",
    "        #에러가 나기 전까지 실행할 코드 작성\n",
    "        price = driver.find_element(By.CSS_SELECTOR,\"#itemcase_basic > div.box__item-title > div.price > span.price_innerwrap.price_innerwrap-coupon > strong\")  \n",
    "\n",
    "#일반가격을 예외로 처리 ->에러가 났을때 실행할 코드 작성->에러발생시 빈칸을 두면 안되므로 일반가격을 price에 넣는다. 그래야 나중에 표도 만들고 디비도 가능하다 \n",
    "    except:  \n",
    "        #에러가 났을때 실행할 코드 작성\n",
    "        price = driver.find_element(By.CSS_SELECTOR,'#itemcase_basic > div.box__item-title > div.price > span:nth-child(2) > strong')  \n",
    "        \n",
    "\n",
    "#itemcase_basic > div.box__item-title > div.price > span:nth-child(2) > strong -->일반가격 태그 선택자\n",
    "    \n",
    "    # 데이터 저장\n",
    "    title_list.append(title.text)  # text가 가능한 이유는  title이 리스트라면 적용불가 --> 한개의 요소(태그)이므로 가능\n",
    "    price_list.append(price.text)\n",
    "    driver.back()\n",
    "    time.sleep(1)"
   ]
  },
  {
   "cell_type": "code",
   "execution_count": 5,
   "id": "5c53ccae",
   "metadata": {},
   "outputs": [
    {
     "name": "stdout",
     "output_type": "stream",
     "text": [
      "20\n"
     ]
    },
    {
     "data": {
      "text/plain": [
       "['(15%+5%쿠폰) 시크릿무드 역마진 단하루/ 겨울마감+봄맞이 BEST신상 데일리룩 가디건/니트/자켓/팬츠/스커트',\n",
       " '(1+1행사)불스원샷 플래티넘 연료첨가제(엔진소음제거+연비향상 효과) 500ml +전황일작가 한정판 담요(증정)',\n",
       " '불스원샷 플래티넘 4in1 500ml 2종 택1(휘발유 경유) 2+2 사계절팩(총4병)',\n",
       " '(신세계타임스퀘어점패션관)신상 최저가 순면 기본 무지 반팔 티셔츠 3+1PACK PHD5TR3900',\n",
       " '대한민국 대표 그림 동화 작가 - 백희나 그림책 - 골라담기 핫딜',\n",
       " '(유니버스클럽 전용 쿠폰적용가 5천원) 메가박스 일반예매권 2D-주중/주말',\n",
       " '투게더 6종 3+2개 골라담기 +구매기프트 3개',\n",
       " '캘리포니아 오렌지 Mpark 캘리포니아 못난이 오렌지 10kg (박스당 최대30과)',\n",
       " '일화 부르르 제로콜라 체리 250ml X 30캔 제로칼로리 체리콕',\n",
       " '(내셔널지오그래픽키즈)(신세계경기점)내셔널지오그래픽키즈 컨셉 그래픽 맨투맨 팬츠 균일가 5종 택1',\n",
       " 'LIVE체감가6만4천원 갤럭시 버즈2 무선 블루투스 이어폰 SM-R177 +신세계5천원+선물포장 증정 (G라이브)',\n",
       " '뉴 크리스탈코트 플러스 유리막코팅제 500ml(광택+발수코팅효과) +다용도타월(증정품)',\n",
       " '(1+1행사)그라스 블루 차량용방향제 100ml (4종택1) +냉장고 겔 탈취제(증정품)',\n",
       " '제주삼다수 2L 24병 /생수전문배송',\n",
       " '오리온 다이제 초코 6P 312g X6개',\n",
       " '씨투엠에듀 도형학습의 기준 플라토 유치~초등 단계별 선택구매(전4권)',\n",
       " '기프트코드 10만원 / 구글 기프트카드',\n",
       " '15+5% 뱅뱅外 봄오픈 간절기 아우터/맨투맨/티셔츠/팬츠 외',\n",
       " '15+5% 뱅뱅外 봄오픈 간절기 아우터/맨투맨/티셔츠/팬츠 외',\n",
       " '레인OK 실리콘 발수 하이브리드 와이퍼 2개 SET (차종별선택)']"
      ]
     },
     "execution_count": 5,
     "metadata": {},
     "output_type": "execute_result"
    }
   ],
   "source": [
    "print(len(title_list))\n",
    "title_list"
   ]
  },
  {
   "cell_type": "code",
   "execution_count": 6,
   "id": "4981d10a",
   "metadata": {},
   "outputs": [
    {
     "name": "stdout",
     "output_type": "stream",
     "text": [
      "20\n"
     ]
    },
    {
     "data": {
      "text/plain": [
       "['8,000원',\n",
       " '23,930원',\n",
       " '41,580원',\n",
       " '15,240원',\n",
       " '6,600원',\n",
       " '15,000원',\n",
       " '21,900원',\n",
       " '30,730원',\n",
       " '11,830원',\n",
       " '27,410원',\n",
       " '74,190원',\n",
       " '10,450원',\n",
       " '18,680원',\n",
       " '22,800원',\n",
       " '13,020원',\n",
       " '26,120원',\n",
       " '96,000원',\n",
       " '10,400원',\n",
       " '10,400원',\n",
       " '20,400원']"
      ]
     },
     "execution_count": 6,
     "metadata": {},
     "output_type": "execute_result"
    }
   ],
   "source": [
    "print(len(price_list))\n",
    "price_list"
   ]
  },
  {
   "cell_type": "code",
   "execution_count": null,
   "id": "9ef487d1",
   "metadata": {},
   "outputs": [],
   "source": [
    "# 과정요약 \n",
    "# 이미지태그 전체를 찾아 img라는 변수에 넣는다--> 리스트에 담긴다\n",
    "# 0번째 ~19번째 이미지리스트를 클릭할 것이다 \n",
    "# 먼저 0번째 클릭 후 상세페이지로 간다 --> 이때 서버에게 시간여유준다 --> 해당상품명을 수집해 title리스에 담는다\n",
    "# -->해당상품 쿠폰가를 수집해 price리스트에 담는다 근데 쿠폰가태그가 없다면 예외처리로써 일반가태그(요소)를 price리스트에 담는다\n",
    "# 그리고 수집된 데이터를 각 리스트에 append한다\n",
    "# 브라우저 뒤로 가기를 한다 --> 이때 서버에게 요청하고 서버가 응답하는 통신 시간이 필요하므로 시간여유 준다\n",
    "# 이 로직 과정을 20번 반복하면 각 리스트에 20개의 상품명과 쿠폰가 혹은 일반가가 저장된다\n",
    "# 순서는 해당싸이트 이동 후 for문 돌리고 --> 리스트를 확인하면 된다"
   ]
  },
  {
   "cell_type": "code",
   "execution_count": null,
   "id": "b66903bd",
   "metadata": {},
   "outputs": [],
   "source": [
    "# 데이터 프레임"
   ]
  },
  {
   "cell_type": "code",
   "execution_count": null,
   "id": "9ec62247",
   "metadata": {},
   "outputs": [],
   "source": [
    "# csv파일 만들기"
   ]
  },
  {
   "cell_type": "code",
   "execution_count": null,
   "id": "50d193a7",
   "metadata": {},
   "outputs": [],
   "source": []
  }
 ],
 "metadata": {
  "kernelspec": {
   "display_name": "Python 3 (ipykernel)",
   "language": "python",
   "name": "python3"
  },
  "language_info": {
   "codemirror_mode": {
    "name": "ipython",
    "version": 3
   },
   "file_extension": ".py",
   "mimetype": "text/x-python",
   "name": "python",
   "nbconvert_exporter": "python",
   "pygments_lexer": "ipython3",
   "version": "3.11.5"
  }
 },
 "nbformat": 4,
 "nbformat_minor": 5
}
