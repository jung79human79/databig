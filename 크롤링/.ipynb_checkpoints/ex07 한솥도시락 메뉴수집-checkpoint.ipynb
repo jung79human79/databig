{
 "cells": [
  {
   "cell_type": "code",
   "execution_count": null,
   "id": "db5a29ef",
   "metadata": {},
   "outputs": [],
   "source": [
    "# 모든 데이터를 가지고 오는 것이 핵심\n",
    "# len()가 중요\n",
    "# 오류 제거 필요"
   ]
  },
  {
   "cell_type": "code",
   "execution_count": 1,
   "id": "afee06e2",
   "metadata": {},
   "outputs": [],
   "source": [
    "# 1.브라우저 역할을 하는 라이브러리 --> webdriver\n",
    "from selenium import webdriver as wb\n",
    "# 2. 컴용 키보드 라이브러리\n",
    "from selenium.webdriver.common.keys import Keys  #--> 대문자 주의\n",
    "#3.선택자를 구분지어 주는 라이브러리\n",
    "from selenium.webdriver.common.by import By   #--> 대문자 주의\n",
    "import pandas as pd"
   ]
  },
  {
   "cell_type": "code",
   "execution_count": null,
   "id": "46000f23",
   "metadata": {},
   "outputs": [],
   "source": [
    "# 크롤링 시험 1.네이버검색 ,2.멜론챠트 ,3.한솥도시락\n",
    "# 한솥도시락 프로세스\n",
    "# 화면 실행 -> 트라이실행 -> 데이터 수집 -> 길이확인 -> 데이터 정제(글자만) -> 리스트저장 -> 프레임 제작 -> csv파일 생성"
   ]
  },
  {
   "cell_type": "code",
   "execution_count": null,
   "id": "6bc6a8c7",
   "metadata": {},
   "outputs": [],
   "source": [
    "# https://www.hsd.co.kr/menu/menu_list -> 한솥도시락 사이트 화면을 조절해보면\n",
    "# 창의 크기에 따라 pc용 모바일용으로 페이지의 레이아웃이 변형 \n",
    "# 이것이 --> 반응형 웹페이지  --> 요즘 웹페이지 제작시 필요 기능\n",
    "# css로 수치계산 --> 비율을 계산 --> css의 미디어 쿼리 사용 --> % ,rem 등의 단위로 사용한다.\n",
    "# 요즘은 앱을 만들기 보다 반응형 웹페이지를 제작하는 추세 --> 어떤 디바이스에서도 잘 보이는 웹페이지 \n"
   ]
  },
  {
   "cell_type": "code",
   "execution_count": null,
   "id": "48ada4d2",
   "metadata": {},
   "outputs": [],
   "source": [
    "# https://www.hsd.co.kr/menu/menu_list"
   ]
  },
  {
   "cell_type": "code",
   "execution_count": null,
   "id": "6b09d265",
   "metadata": {},
   "outputs": [],
   "source": [
    "# 모든 상품과 가격을 추출"
   ]
  },
  {
   "cell_type": "code",
   "execution_count": 2,
   "id": "badaded6",
   "metadata": {},
   "outputs": [],
   "source": [
    "# 1.브라우저 실행 하고 사이트 이동\n",
    "driver = wb.Chrome()\n",
    "driver.get('https://www.hsd.co.kr/menu/menu_list')"
   ]
  },
  {
   "cell_type": "markdown",
   "id": "e6e9eec0",
   "metadata": {},
   "source": [
    "# 예외처리\n",
    "- try : 에러가 나기 전까지 실행할 코드 작성\n",
    "- except : 에러가 났을때 실행할 코드 작성\n",
    "- 주의점 :데이터를 수집하는 코드에서 사용 할때는 데이터가 없을때 '없다'라는 의미의 데이터를 꼭 넣어줘야 한다 \n",
    "    - --> 데이터의 갯수를 맞추기 위해서\n",
    "    - 데이터가 없을때 없다 하는 의미는 바로 널값을 주는 것이다\n",
    "    - 데이터의 갯수를 맞추기 위해서는 바로 데이터베이스의 칸을 채우는 것이다. \n",
    "- except ->코드가 멈추는게 아니고 예외처리 하는 것이다 \n",
    "- 예외처리하고 반복문이 계속 돌아간다"
   ]
  },
  {
   "cell_type": "code",
   "execution_count": null,
   "id": "346bdb67",
   "metadata": {},
   "outputs": [],
   "source": [
    "# 사람답게 코드를 작성해야한다\n",
    "# 클라이와 서버간에 요청과 응답사이에는 반드시 시간이 필요하다.\n",
    "# 그래서 파이썬에서 커널-> 런올하면 안된다.\n",
    "# 시간 라이브러리 --> time"
   ]
  },
  {
   "cell_type": "code",
   "execution_count": 3,
   "id": "191ebffd",
   "metadata": {},
   "outputs": [],
   "source": [
    "import time\n",
    "# time.sleep() --> ()안에 초단위"
   ]
  },
  {
   "cell_type": "code",
   "execution_count": 4,
   "id": "a227ef54",
   "metadata": {},
   "outputs": [
    {
     "name": "stdout",
     "output_type": "stream",
     "text": [
      "더보기왼료\n"
     ]
    }
   ],
   "source": [
    "# 초록색으로 변하는 명령어 : 기능을 담당\n",
    "# 반복문은 너무 빠른 처리문 --> 컴에게는~\n",
    "# 고로 데이터가 누적되버림 --> 길이가 또 달라진다\n",
    "# 짧은 순간에 데이터가 중복된다 -> 현재 94개기 맞는데 ime.sleep()을 안주면 순식간에 데이터가 중복되면서 갯수가 추가된다\n",
    "try :\n",
    "    for i in range(50):  # 50 숫자는 더보기가 몇번이상 발생할지는 몰라서 최대치를 적은 것인데 아무리 많아도 50번 이상은 가지 않을 것이다\n",
    "        btn_more = driver.find_element(By.CSS_SELECTOR,'#btn_more > span > a')\n",
    "        btn_more.click()\n",
    "        time.sleep(1)\n",
    "        # 예) title=driver.find_elements(By.CSS_SELECTOR,'div > div.item-text > h4')\n",
    "    \n",
    "except:   # 일종의 for문의 break 같다.\n",
    "    print('더보기왼료')\n",
    "        # 예) title='null' --> 상품명을 반복하는데 만약 비어 있다면 태그가 없는 것이다\n",
    "        # 나중에 디비에는 빈칸이 생성이 되고 따로 디비에서 널값을 주면 된다"
   ]
  },
  {
   "cell_type": "code",
   "execution_count": null,
   "id": "6ebe7834",
   "metadata": {},
   "outputs": [],
   "source": [
    "# 더보기 태그는 한개이므로 find_element\n",
    "# 더보기 끝까지 누르는 코드가 필요\n",
    "# 더보기를 몇번 누를까? --> 반복문 --> while문 -->브레이크 조건줘야 브레이크\n",
    "# 갯수가 미정이므로 while문을 사용하는데 브레이크 조건찾기가 어려움\n",
    "# while문은 디도스 공격의 일종이다 --> 아주 빠르게 페이지의 응답을 요청하므로\n",
    "# for문으로 해보자~ try, except, time 함수등을 사용\n",
    "\n",
    "\n",
    "# 더이상 더보기기 없으면 반복문 때문에 더이상 클릭이 안되므로 오류가 발생\n",
    "# 에러가 날때 반복멈추어 라는 코드가 없다\n",
    "# 코드가 실행되다가 에러 나오는 이유 = 더보기가 더이상 존재 하지 않기때문에\n",
    "# 더 누르라고 하니깐 에러발생\n",
    "\n",
    "#for i in range (50):\n",
    "#    btn_more = driver.find_element(By.CSS_SELECTOR,'#btn_more > span > a')\n",
    "#    btn_more.click()"
   ]
  },
  {
   "cell_type": "code",
   "execution_count": null,
   "id": "929a98f7",
   "metadata": {},
   "outputs": [],
   "source": [
    "# 2. 상품명 수집\n",
    "# <a href=\"javascript:;\" onclick=\"goDetail('1', '49', '541')\" class=\"item-cont\"></a>\n",
    "# #menuList_541 > div > a  --> 위의 a코드의 copy selector\n",
    "\n",
    "# 태그 검색하고 반드시 내용 확인\n",
    "# 예) a태그로 감싸진 것 안에 실제 태그가 있다\n",
    "# a태그로 감싼 이유는 사용자 편의성을 위해 이미지 전체를 클릭시 링크로 들어가게끔\n",
    "# 즉 글자만이 아닌 이미지 전체를 클릭해도 링크에 들어가게끔 편의성 주는 것\n",
    "# 그래서 a태그안의 실제 수집할 태그를 잘 봐야한다 ->거기서 선택자를 수집해야 한다\n",
    "# <h4 class=\"h fz_03\">사골 조랭이떡 만둣국</h4>\n",
    "# #menuList_541 > div > div.item-text > h4 --> 위의 h4코드의 copy selector"
   ]
  },
  {
   "attachments": {
    "image.png": {
     "image/png": "[encoded data removed]"
    }
   },
   "cell_type": "markdown",
   "id": "252999f2",
   "metadata": {},
   "source": [
    "![image.png](attachment:image.png)"
   ]
  },
  {
   "cell_type": "code",
   "execution_count": 5,
   "id": "0663052f",
   "metadata": {},
   "outputs": [],
   "source": [
    "# 2. 상품명 수집\n",
    "#menuList_541 > div > div.item-text > h4\n",
    "title=driver.find_elements(By.CSS_SELECTOR,'div > div.item-text > h4')"
   ]
  },
  {
   "cell_type": "code",
   "execution_count": 6,
   "id": "accdb729",
   "metadata": {},
   "outputs": [],
   "source": [
    "# 3.가격수집\n",
    "#menuList_541 > div > div.item-text > div > strong\n",
    "price=driver.find_elements(By.CSS_SELECTOR,'div > div.item-text > div > strong')"
   ]
  },
  {
   "cell_type": "code",
   "execution_count": 7,
   "id": "df016d42",
   "metadata": {},
   "outputs": [
    {
     "name": "stdout",
     "output_type": "stream",
     "text": [
      "94\n",
      "94\n"
     ]
    }
   ],
   "source": [
    "# 데이터의개수가 다른이유는 창이 실행될 때 창의 크기 모니터의 크기 네트워크 환경에 따라 다르다\n",
    "# 화면이 세로이거나 pc이거나 네트워크가 좋으면 더많은 갯수가 보일 것이다\n",
    "\n",
    "# 올바른 데이터 수집을 위해서는 더보기버튼을 다 눌러 줘여한다\n",
    "# 길이 확인  --> 개인 디바이스별로 다양한 결과도출\n",
    "print(len(title))\n",
    "print(len(price))\n",
    "# 길이가 각각 다르다\n",
    "# 화면이 켜질때(페이지 시작시) 모바일이냐? ,pc이냐?  네트워크 상태에 따라 상품갯수가 다양하게 나온다\n",
    "# 더보기를 누르면 화면이 깜빡거리면서 기존화면에 먼가가 추가된다 --> 전체페이지가 바뀌는 동기 통신은 아니다\n",
    "# 즉 페이지의 특정 부분만 업데이트가 되는 비동기 통신인데 처음 상품갯수가 다르고 추가되는 상품도 역시 디바이스별 통신상태별로\n",
    "# 다르게 나타날수 있으니 결국 갯수가 다르다.\n",
    "# 그래서 수집전에 더보기를 끝까지 눌러 모든 상품을 검색해야 한다 -->  즉 모든 데이터를 다 가져온 후 데이터를 수집하는 것이다"
   ]
  },
  {
   "cell_type": "code",
   "execution_count": 8,
   "id": "0edefdbf",
   "metadata": {},
   "outputs": [],
   "source": [
    "# 비어있는 리스트에 글자만 담자\n",
    "# 2개 만들기\n",
    "product_list = []\n",
    "title_list = []\n",
    "price_list = []\n",
    "for i in range(len(title)):\n",
    "    title_list.append(title[i].text)\n",
    "    price_list.append(price[i].text) \n",
    "    product_list.append(i+1)"
   ]
  },
  {
   "cell_type": "code",
   "execution_count": 9,
   "id": "06670628",
   "metadata": {},
   "outputs": [
    {
     "data": {
      "text/html": [
       "<div>\n",
       "<style scoped>\n",
       "    .dataframe tbody tr th:only-of-type {\n",
       "        vertical-align: middle;\n",
       "    }\n",
       "\n",
       "    .dataframe tbody tr th {\n",
       "        vertical-align: top;\n",
       "    }\n",
       "\n",
       "    .dataframe thead th {\n",
       "        text-align: right;\n",
       "    }\n",
       "</style>\n",
       "<table border=\"1\" class=\"dataframe\">\n",
       "  <thead>\n",
       "    <tr style=\"text-align: right;\">\n",
       "      <th></th>\n",
       "      <th>상품명</th>\n",
       "      <th>상품가격</th>\n",
       "    </tr>\n",
       "    <tr>\n",
       "      <th>상품리스트</th>\n",
       "      <th></th>\n",
       "      <th></th>\n",
       "    </tr>\n",
       "  </thead>\n",
       "  <tbody>\n",
       "    <tr>\n",
       "      <th>1</th>\n",
       "      <td>사골 조랭이떡 만둣국</td>\n",
       "      <td>5,900</td>\n",
       "    </tr>\n",
       "    <tr>\n",
       "      <th>2</th>\n",
       "      <td>한우 함박스테이크 &amp; 반달 돈까스</td>\n",
       "      <td>8,900</td>\n",
       "    </tr>\n",
       "    <tr>\n",
       "      <th>3</th>\n",
       "      <td>한우함박스테이크&amp;토네이도소세지</td>\n",
       "      <td>8,900</td>\n",
       "    </tr>\n",
       "    <tr>\n",
       "      <th>4</th>\n",
       "      <td>해바라기</td>\n",
       "      <td>10,000</td>\n",
       "    </tr>\n",
       "    <tr>\n",
       "      <th>5</th>\n",
       "      <td>매화</td>\n",
       "      <td>10,500</td>\n",
       "    </tr>\n",
       "    <tr>\n",
       "      <th>...</th>\n",
       "      <td>...</td>\n",
       "      <td>...</td>\n",
       "    </tr>\n",
       "    <tr>\n",
       "      <th>90</th>\n",
       "      <td>김치</td>\n",
       "      <td>400</td>\n",
       "    </tr>\n",
       "    <tr>\n",
       "      <th>91</th>\n",
       "      <td>무말랭이 무침</td>\n",
       "      <td>500</td>\n",
       "    </tr>\n",
       "    <tr>\n",
       "      <th>92</th>\n",
       "      <td>한솥밥</td>\n",
       "      <td>1,000</td>\n",
       "    </tr>\n",
       "    <tr>\n",
       "      <th>93</th>\n",
       "      <td>현미밥</td>\n",
       "      <td>1,700</td>\n",
       "    </tr>\n",
       "    <tr>\n",
       "      <th>94</th>\n",
       "      <td>리얼꿀 미니호떡</td>\n",
       "      <td>2,200</td>\n",
       "    </tr>\n",
       "  </tbody>\n",
       "</table>\n",
       "<p>94 rows × 2 columns</p>\n",
       "</div>"
      ],
      "text/plain": [
       "                      상품명    상품가격\n",
       "상품리스트                            \n",
       "1             사골 조랭이떡 만둣국   5,900\n",
       "2      한우 함박스테이크 & 반달 돈까스   8,900\n",
       "3        한우함박스테이크&토네이도소세지   8,900\n",
       "4                    해바라기  10,000\n",
       "5                      매화  10,500\n",
       "...                   ...     ...\n",
       "90                     김치     400\n",
       "91                무말랭이 무침     500\n",
       "92                    한솥밥   1,000\n",
       "93                    현미밥   1,700\n",
       "94               리얼꿀 미니호떡   2,200\n",
       "\n",
       "[94 rows x 2 columns]"
      ]
     },
     "execution_count": 9,
     "metadata": {},
     "output_type": "execute_result"
    }
   ],
   "source": [
    "# 데이터 프레임으로 표를 제작 --> 딕셔너리로 프레임에 들어갈 컬럼과 데이터을 생성하자\n",
    "dic = {'상품명':title_list,'상품가격':price_list,'상품리스트':product_list}\n",
    "menu = pd.DataFrame(dic)\n",
    "menu.set_index('상품리스트',inplace=True)\n",
    "menu"
   ]
  },
  {
   "cell_type": "code",
   "execution_count": 10,
   "id": "f08e9d69",
   "metadata": {},
   "outputs": [],
   "source": [
    "# 한글이 깨지지 않게 csv로 저장\n",
    "menu.to_csv('한솥메뉴.csv',encoding='euc-kr')"
   ]
  },
  {
   "cell_type": "code",
   "execution_count": null,
   "id": "ab131965",
   "metadata": {},
   "outputs": [],
   "source": [
    "# "
   ]
  },
  {
   "cell_type": "code",
   "execution_count": null,
   "id": "12969145",
   "metadata": {},
   "outputs": [],
   "source": []
  },
  {
   "cell_type": "code",
   "execution_count": null,
   "id": "2f3c9685",
   "metadata": {},
   "outputs": [],
   "source": []
  },
  {
   "cell_type": "code",
   "execution_count": null,
   "id": "8d064c10",
   "metadata": {},
   "outputs": [],
   "source": []
  }
 ],
 "metadata": {
  "kernelspec": {
   "display_name": "Python 3 (ipykernel)",
   "language": "python",
   "name": "python3"
  },
  "language_info": {
   "codemirror_mode": {
    "name": "ipython",
    "version": 3
   },
   "file_extension": ".py",
   "mimetype": "text/x-python",
   "name": "python",
   "nbconvert_exporter": "python",
   "pygments_lexer": "ipython3",
   "version": "3.11.5"
  }
 },
 "nbformat": 4,
 "nbformat_minor": 5
}
