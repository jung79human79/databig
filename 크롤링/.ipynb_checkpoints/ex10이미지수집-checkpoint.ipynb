{
 "cells": [
  {
   "cell_type": "code",
   "execution_count": 1,
   "id": "1ed929e4",
   "metadata": {},
   "outputs": [],
   "source": [
    "# 1.브라우저 역할을 하는 라이브러리 --> webdriver\n",
    "from selenium import webdriver as wb\n",
    "# 2. 컴용 키보드 라이브러리\n",
    "from selenium.webdriver.common.keys import Keys  #--> 대문자 주의\n",
    "#3.선택자를 구분지어 주는 라이브러리\n",
    "from selenium.webdriver.common.by import By   #--> 대문자 주의\n",
    "import pandas as pd\n",
    "import time\n"
   ]
  },
  {
   "cell_type": "code",
   "execution_count": null,
   "id": "af878d06",
   "metadata": {},
   "outputs": [],
   "source": [
    "# 딥러닝이나 인공지능분야"
   ]
  },
  {
   "cell_type": "code",
   "execution_count": 3,
   "id": "77bd072f",
   "metadata": {},
   "outputs": [],
   "source": [
    "# 파일시스템을 위한 라이브러리 (파일,폴더를 삭제,생성하는 라이브러리)\n",
    "import os\n",
    "# 이미지의 url을 실제 파일로 변환하는 라이브러리\n",
    "from urllib.request import urlretrieve"
   ]
  },
  {
   "cell_type": "code",
   "execution_count": 11,
   "id": "7ba99aa4",
   "metadata": {},
   "outputs": [],
   "source": [
    "# 파이썬 코드로 폴더 만들기\n",
    "# 컴에게 바탕화면에 이미지라는 폴더가 없다면 바탕화면에 이미지폴더를 만들어라.\n",
    "# dir() --> 디렉토리\n",
    "# C:\\Users\\SMHRD\\Desktop --> 슬래시로 기호변경\n",
    "# C:\\Users\\wjd1e\\OneDrive\\바탕 화면  -->한글명 이나 띄어쓰기는 인식안되는 경로\n",
    "# C:\\Users\\wjd1e  --> 야기로 해보니 성공\n",
    "\n",
    "\n",
    "if not os.path.isdir('C:/Users/wjd1e/이미지') :\n",
    "    os.mkdir('C:/Users/wjd1e/이미지')"
   ]
  },
  {
   "cell_type": "code",
   "execution_count": 12,
   "id": "31b05939",
   "metadata": {},
   "outputs": [],
   "source": [
    "driver = wb.Chrome()\n",
    "driver.get('https://search.naver.com/search.naver?ssc=tab.image.all&where=image&sm=tab_jum&query=%EA%B3%A0%EC%96%91%EC%9D%B4')\n",
    "\n",
    "# 매개변수는 이미지 --> 우클릭 --> 주소"
   ]
  },
  {
   "cell_type": "code",
   "execution_count": 13,
   "id": "1f9564c5",
   "metadata": {
    "collapsed": true
   },
   "outputs": [
    {
     "data": {
      "text/plain": [
       "[<selenium.webdriver.remote.webelement.WebElement (session=\"2795ad2210ca8d63b7338f6309a52f94\", element=\"f.EC4DFDE3CAE38A6E959B6E257D9F18CE.d.60665EBE40C397B3281B037E433C9294.e.232\")>,\n",
       " <selenium.webdriver.remote.webelement.WebElement (session=\"2795ad2210ca8d63b7338f6309a52f94\", element=\"f.EC4DFDE3CAE38A6E959B6E257D9F18CE.d.60665EBE40C397B3281B037E433C9294.e.233\")>,\n",
       " <selenium.webdriver.remote.webelement.WebElement (session=\"2795ad2210ca8d63b7338f6309a52f94\", element=\"f.EC4DFDE3CAE38A6E959B6E257D9F18CE.d.60665EBE40C397B3281B037E433C9294.e.88\")>,\n",
       " <selenium.webdriver.remote.webelement.WebElement (session=\"2795ad2210ca8d63b7338f6309a52f94\", element=\"f.EC4DFDE3CAE38A6E959B6E257D9F18CE.d.60665EBE40C397B3281B037E433C9294.e.89\")>,\n",
       " <selenium.webdriver.remote.webelement.WebElement (session=\"2795ad2210ca8d63b7338f6309a52f94\", element=\"f.EC4DFDE3CAE38A6E959B6E257D9F18CE.d.60665EBE40C397B3281B037E433C9294.e.90\")>,\n",
       " <selenium.webdriver.remote.webelement.WebElement (session=\"2795ad2210ca8d63b7338f6309a52f94\", element=\"f.EC4DFDE3CAE38A6E959B6E257D9F18CE.d.60665EBE40C397B3281B037E433C9294.e.91\")>,\n",
       " <selenium.webdriver.remote.webelement.WebElement (session=\"2795ad2210ca8d63b7338f6309a52f94\", element=\"f.EC4DFDE3CAE38A6E959B6E257D9F18CE.d.60665EBE40C397B3281B037E433C9294.e.92\")>,\n",
       " <selenium.webdriver.remote.webelement.WebElement (session=\"2795ad2210ca8d63b7338f6309a52f94\", element=\"f.EC4DFDE3CAE38A6E959B6E257D9F18CE.d.60665EBE40C397B3281B037E433C9294.e.93\")>,\n",
       " <selenium.webdriver.remote.webelement.WebElement (session=\"2795ad2210ca8d63b7338f6309a52f94\", element=\"f.EC4DFDE3CAE38A6E959B6E257D9F18CE.d.60665EBE40C397B3281B037E433C9294.e.94\")>,\n",
       " <selenium.webdriver.remote.webelement.WebElement (session=\"2795ad2210ca8d63b7338f6309a52f94\", element=\"f.EC4DFDE3CAE38A6E959B6E257D9F18CE.d.60665EBE40C397B3281B037E433C9294.e.95\")>,\n",
       " <selenium.webdriver.remote.webelement.WebElement (session=\"2795ad2210ca8d63b7338f6309a52f94\", element=\"f.EC4DFDE3CAE38A6E959B6E257D9F18CE.d.60665EBE40C397B3281B037E433C9294.e.234\")>,\n",
       " <selenium.webdriver.remote.webelement.WebElement (session=\"2795ad2210ca8d63b7338f6309a52f94\", element=\"f.EC4DFDE3CAE38A6E959B6E257D9F18CE.d.60665EBE40C397B3281B037E433C9294.e.235\")>,\n",
       " <selenium.webdriver.remote.webelement.WebElement (session=\"2795ad2210ca8d63b7338f6309a52f94\", element=\"f.EC4DFDE3CAE38A6E959B6E257D9F18CE.d.60665EBE40C397B3281B037E433C9294.e.236\")>,\n",
       " <selenium.webdriver.remote.webelement.WebElement (session=\"2795ad2210ca8d63b7338f6309a52f94\", element=\"f.EC4DFDE3CAE38A6E959B6E257D9F18CE.d.60665EBE40C397B3281B037E433C9294.e.237\")>,\n",
       " <selenium.webdriver.remote.webelement.WebElement (session=\"2795ad2210ca8d63b7338f6309a52f94\", element=\"f.EC4DFDE3CAE38A6E959B6E257D9F18CE.d.60665EBE40C397B3281B037E433C9294.e.238\")>,\n",
       " <selenium.webdriver.remote.webelement.WebElement (session=\"2795ad2210ca8d63b7338f6309a52f94\", element=\"f.EC4DFDE3CAE38A6E959B6E257D9F18CE.d.60665EBE40C397B3281B037E433C9294.e.239\")>,\n",
       " <selenium.webdriver.remote.webelement.WebElement (session=\"2795ad2210ca8d63b7338f6309a52f94\", element=\"f.EC4DFDE3CAE38A6E959B6E257D9F18CE.d.60665EBE40C397B3281B037E433C9294.e.240\")>,\n",
       " <selenium.webdriver.remote.webelement.WebElement (session=\"2795ad2210ca8d63b7338f6309a52f94\", element=\"f.EC4DFDE3CAE38A6E959B6E257D9F18CE.d.60665EBE40C397B3281B037E433C9294.e.241\")>,\n",
       " <selenium.webdriver.remote.webelement.WebElement (session=\"2795ad2210ca8d63b7338f6309a52f94\", element=\"f.EC4DFDE3CAE38A6E959B6E257D9F18CE.d.60665EBE40C397B3281B037E433C9294.e.242\")>,\n",
       " <selenium.webdriver.remote.webelement.WebElement (session=\"2795ad2210ca8d63b7338f6309a52f94\", element=\"f.EC4DFDE3CAE38A6E959B6E257D9F18CE.d.60665EBE40C397B3281B037E433C9294.e.243\")>,\n",
       " <selenium.webdriver.remote.webelement.WebElement (session=\"2795ad2210ca8d63b7338f6309a52f94\", element=\"f.EC4DFDE3CAE38A6E959B6E257D9F18CE.d.60665EBE40C397B3281B037E433C9294.e.244\")>,\n",
       " <selenium.webdriver.remote.webelement.WebElement (session=\"2795ad2210ca8d63b7338f6309a52f94\", element=\"f.EC4DFDE3CAE38A6E959B6E257D9F18CE.d.60665EBE40C397B3281B037E433C9294.e.245\")>,\n",
       " <selenium.webdriver.remote.webelement.WebElement (session=\"2795ad2210ca8d63b7338f6309a52f94\", element=\"f.EC4DFDE3CAE38A6E959B6E257D9F18CE.d.60665EBE40C397B3281B037E433C9294.e.246\")>,\n",
       " <selenium.webdriver.remote.webelement.WebElement (session=\"2795ad2210ca8d63b7338f6309a52f94\", element=\"f.EC4DFDE3CAE38A6E959B6E257D9F18CE.d.60665EBE40C397B3281B037E433C9294.e.247\")>,\n",
       " <selenium.webdriver.remote.webelement.WebElement (session=\"2795ad2210ca8d63b7338f6309a52f94\", element=\"f.EC4DFDE3CAE38A6E959B6E257D9F18CE.d.60665EBE40C397B3281B037E433C9294.e.248\")>,\n",
       " <selenium.webdriver.remote.webelement.WebElement (session=\"2795ad2210ca8d63b7338f6309a52f94\", element=\"f.EC4DFDE3CAE38A6E959B6E257D9F18CE.d.60665EBE40C397B3281B037E433C9294.e.249\")>,\n",
       " <selenium.webdriver.remote.webelement.WebElement (session=\"2795ad2210ca8d63b7338f6309a52f94\", element=\"f.EC4DFDE3CAE38A6E959B6E257D9F18CE.d.60665EBE40C397B3281B037E433C9294.e.250\")>,\n",
       " <selenium.webdriver.remote.webelement.WebElement (session=\"2795ad2210ca8d63b7338f6309a52f94\", element=\"f.EC4DFDE3CAE38A6E959B6E257D9F18CE.d.60665EBE40C397B3281B037E433C9294.e.251\")>,\n",
       " <selenium.webdriver.remote.webelement.WebElement (session=\"2795ad2210ca8d63b7338f6309a52f94\", element=\"f.EC4DFDE3CAE38A6E959B6E257D9F18CE.d.60665EBE40C397B3281B037E433C9294.e.252\")>,\n",
       " <selenium.webdriver.remote.webelement.WebElement (session=\"2795ad2210ca8d63b7338f6309a52f94\", element=\"f.EC4DFDE3CAE38A6E959B6E257D9F18CE.d.60665EBE40C397B3281B037E433C9294.e.253\")>,\n",
       " <selenium.webdriver.remote.webelement.WebElement (session=\"2795ad2210ca8d63b7338f6309a52f94\", element=\"f.EC4DFDE3CAE38A6E959B6E257D9F18CE.d.60665EBE40C397B3281B037E433C9294.e.254\")>,\n",
       " <selenium.webdriver.remote.webelement.WebElement (session=\"2795ad2210ca8d63b7338f6309a52f94\", element=\"f.EC4DFDE3CAE38A6E959B6E257D9F18CE.d.60665EBE40C397B3281B037E433C9294.e.255\")>,\n",
       " <selenium.webdriver.remote.webelement.WebElement (session=\"2795ad2210ca8d63b7338f6309a52f94\", element=\"f.EC4DFDE3CAE38A6E959B6E257D9F18CE.d.60665EBE40C397B3281B037E433C9294.e.256\")>,\n",
       " <selenium.webdriver.remote.webelement.WebElement (session=\"2795ad2210ca8d63b7338f6309a52f94\", element=\"f.EC4DFDE3CAE38A6E959B6E257D9F18CE.d.60665EBE40C397B3281B037E433C9294.e.257\")>,\n",
       " <selenium.webdriver.remote.webelement.WebElement (session=\"2795ad2210ca8d63b7338f6309a52f94\", element=\"f.EC4DFDE3CAE38A6E959B6E257D9F18CE.d.60665EBE40C397B3281B037E433C9294.e.258\")>,\n",
       " <selenium.webdriver.remote.webelement.WebElement (session=\"2795ad2210ca8d63b7338f6309a52f94\", element=\"f.EC4DFDE3CAE38A6E959B6E257D9F18CE.d.60665EBE40C397B3281B037E433C9294.e.259\")>,\n",
       " <selenium.webdriver.remote.webelement.WebElement (session=\"2795ad2210ca8d63b7338f6309a52f94\", element=\"f.EC4DFDE3CAE38A6E959B6E257D9F18CE.d.60665EBE40C397B3281B037E433C9294.e.260\")>,\n",
       " <selenium.webdriver.remote.webelement.WebElement (session=\"2795ad2210ca8d63b7338f6309a52f94\", element=\"f.EC4DFDE3CAE38A6E959B6E257D9F18CE.d.60665EBE40C397B3281B037E433C9294.e.261\")>,\n",
       " <selenium.webdriver.remote.webelement.WebElement (session=\"2795ad2210ca8d63b7338f6309a52f94\", element=\"f.EC4DFDE3CAE38A6E959B6E257D9F18CE.d.60665EBE40C397B3281B037E433C9294.e.262\")>,\n",
       " <selenium.webdriver.remote.webelement.WebElement (session=\"2795ad2210ca8d63b7338f6309a52f94\", element=\"f.EC4DFDE3CAE38A6E959B6E257D9F18CE.d.60665EBE40C397B3281B037E433C9294.e.263\")>,\n",
       " <selenium.webdriver.remote.webelement.WebElement (session=\"2795ad2210ca8d63b7338f6309a52f94\", element=\"f.EC4DFDE3CAE38A6E959B6E257D9F18CE.d.60665EBE40C397B3281B037E433C9294.e.264\")>,\n",
       " <selenium.webdriver.remote.webelement.WebElement (session=\"2795ad2210ca8d63b7338f6309a52f94\", element=\"f.EC4DFDE3CAE38A6E959B6E257D9F18CE.d.60665EBE40C397B3281B037E433C9294.e.265\")>,\n",
       " <selenium.webdriver.remote.webelement.WebElement (session=\"2795ad2210ca8d63b7338f6309a52f94\", element=\"f.EC4DFDE3CAE38A6E959B6E257D9F18CE.d.60665EBE40C397B3281B037E433C9294.e.266\")>,\n",
       " <selenium.webdriver.remote.webelement.WebElement (session=\"2795ad2210ca8d63b7338f6309a52f94\", element=\"f.EC4DFDE3CAE38A6E959B6E257D9F18CE.d.60665EBE40C397B3281B037E433C9294.e.267\")>,\n",
       " <selenium.webdriver.remote.webelement.WebElement (session=\"2795ad2210ca8d63b7338f6309a52f94\", element=\"f.EC4DFDE3CAE38A6E959B6E257D9F18CE.d.60665EBE40C397B3281B037E433C9294.e.268\")>,\n",
       " <selenium.webdriver.remote.webelement.WebElement (session=\"2795ad2210ca8d63b7338f6309a52f94\", element=\"f.EC4DFDE3CAE38A6E959B6E257D9F18CE.d.60665EBE40C397B3281B037E433C9294.e.269\")>,\n",
       " <selenium.webdriver.remote.webelement.WebElement (session=\"2795ad2210ca8d63b7338f6309a52f94\", element=\"f.EC4DFDE3CAE38A6E959B6E257D9F18CE.d.60665EBE40C397B3281B037E433C9294.e.270\")>,\n",
       " <selenium.webdriver.remote.webelement.WebElement (session=\"2795ad2210ca8d63b7338f6309a52f94\", element=\"f.EC4DFDE3CAE38A6E959B6E257D9F18CE.d.60665EBE40C397B3281B037E433C9294.e.271\")>]"
      ]
     },
     "execution_count": 13,
     "metadata": {},
     "output_type": "execute_result"
    }
   ],
   "source": [
    "# html 태그 중 여기서 수집된 태그는 닫힘이 없는 열린태그 ==> 이미지태그 ==> 컨텐츠가 없다 = 요소안에 글자가 없다\n",
    "# 지금껏 수집한 태그는 예)상품명 혹은 가격 등 태그(요소)에 닫힘태그도 있고 중간에 컨텐츠 즉 text로 추출할 수 있는 내용이 있었다\n",
    "\n",
    "#main_pack > section.sc_new.sp_nimage._fe_image_viewer_prepend_target > div.api_subject_bx._fe_image_tab_list_root.ani_fadein > div > div > div.image_tile._fe_image_tab_grid > div:nth-child(3) > div > div > div > img\n",
    "img = driver.find_elements(By.CSS_SELECTOR,'#main_pack > section.sc_new.sp_nimage._fe_image_viewer_prepend_target > div.api_subject_bx._fe_image_tab_list_root.ani_fadein > div > div > div.image_tile._fe_image_tab_grid > div > div > div > div > img')\n",
    "img \n",
    "# 리스트 형식\n",
    "# 선택자는 이미지 태그 --> copy selector"
   ]
  },
  {
   "cell_type": "code",
   "execution_count": 14,
   "id": "63bf6659",
   "metadata": {},
   "outputs": [
    {
     "data": {
      "text/plain": [
       "'https://search.pstatic.net/common/?src=http%3A%2F%2Fblogfiles.naver.net%2FMjAyNDAxMzFfMTg1%2FMDAxNzA2Njc4MjgxNzQw.tz57tX1rBFMXiRdwTAx6R7PE6B-mWRcL3jjZfOyV-3Mg.s0LE2hCTT7jSupkoykWEA5nsJbQ_QqtE5BqewqB0508g.PNG.rkddl2001tmf%2Fe36cdbc1-2812-40dd-b87a-78e3d532798c.png&type=a340'"
      ]
     },
     "execution_count": 14,
     "metadata": {},
     "output_type": "execute_result"
    }
   ],
   "source": [
    "# 이미지 태그의 속성중 src를 가져와라\n",
    "# get_attribute()--> 내가원하는 속성을 추출하자  \n",
    "# 이처럼 속성을 뽑는 함수를 적용하는 태그는 주로 이미지의 태그의 src / a택의 href(링크) 등이 있다\n",
    "\n",
    "img[0].get_attribute('src')"
   ]
  },
  {
   "cell_type": "code",
   "execution_count": 18,
   "id": "f4c22eae",
   "metadata": {
    "collapsed": true
   },
   "outputs": [
    {
     "name": "stdout",
     "output_type": "stream",
     "text": [
      "48\n"
     ]
    },
    {
     "data": {
      "text/plain": [
       "['https://search.pstatic.net/common/?src=http%3A%2F%2Fblogfiles.naver.net%2FMjAyNDAxMzFfMTg1%2FMDAxNzA2Njc4MjgxNzQw.tz57tX1rBFMXiRdwTAx6R7PE6B-mWRcL3jjZfOyV-3Mg.s0LE2hCTT7jSupkoykWEA5nsJbQ_QqtE5BqewqB0508g.PNG.rkddl2001tmf%2Fe36cdbc1-2812-40dd-b87a-78e3d532798c.png&type=a340',\n",
       " 'https://search.pstatic.net/common/?src=http%3A%2F%2Fblogfiles.naver.net%2FMjAyNDAxMzFfMjM5%2FMDAxNzA2NjYwMDQxMjE3.GQKm_AI0xv4ldp2wMWb1unFdrf9Q6PEFPsd_xfe9aFYg.YydHgc_jLUTJ9BDE1rYY697kcKATyWAJeNC58nmmLaQg.PNG.merry_diary%2F%25B0%25ED%25BE%25E7%25C0%25CC%25C7%25F4_%25281%2529.png&type=a340',\n",
       " 'https://search.pstatic.net/common/?src=http%3A%2F%2Fblogfiles.naver.net%2FMjAyMzEyMDRfNTkg%2FMDAxNzAxNjc4OTIyODgy.OA5rUxGFnTk32Lrvj93Hy0aJCIcD9FrE-u4oVfjthhcg.TqmAvNfuJQW9AhJCBjRs7Z7a0JSe4yTEt1Lx8fXHFAEg.PNG.gabipet%2F%25B0%25DC%25BF%25EF%25C3%25B6_%25B0%25ED%25BE%25E7%25C0%25CC_%25B0%25C7%25B0%25AD_%25B0%25FC%25B8%25AE%25C0%25C7_%25C7%25D9%25BD%25C9_%25C6%25C1006.png&type=a340',\n",
       " 'https://search.pstatic.net/sunny/?src=https%3A%2F%2Fpng.pngtree.com%2Fthumb_back%2Ffh260%2Fbackground%2F20230910%2Fpngtree-a-brown-cat-on-a-white-background-with-a-white-background-image_13165306.png&type=a340',\n",
       " 'https://search.pstatic.net/common/?src=http%3A%2F%2Fblogfiles.naver.net%2FMjAyNDAxMjZfNTEg%2FMDAxNzA2MjU5ODE4MzEy.x2xG8vN4tjbUwBgZPeGuPmCO2tDR8-XAH_wCkkxQ-kcg.qpVAEiL3zFPOw4D7STlrcCyFoYazyq2NIpQ0VXEdiEcg.JPEG.mjking0163%2F%25C1%25A6%25B8%25F1_%25BE%25F8%25B4%25C2_%25B5%25F0%25C0%25DA%25C0%25CE_%252823%2529.jpg&type=a340',\n",
       " 'https://search.pstatic.net/common/?src=http%3A%2F%2Fblogfiles.naver.net%2FMjAyMzEyMjdfMTA1%2FMDAxNzAzNjYyMjg4MDQz.sJvE_4lC7aSvn2qNjDFqck8-QvTYqEjjFQ4Wy-idGNQg.51a80329ezIx2HeuIMF2C44V5mkqzWj_vfntWtvzELcg.JPEG.animalandhuman%2FGettyImages-491143647.jpg&type=a340',\n",
       " 'https://search.pstatic.net/common/?src=http%3A%2F%2Fblogfiles.naver.net%2FMjAyNDAxMjNfMjU0%2FMDAxNzA2MDE1MDE4NTA0.PkGS58aZKLt5bM0mwPCCz9m_RbjLCRdldGQNH-Pf8YYg.SzCWaEj2Ft1JRvjK49Rma1CVdfDup0iSor0gZ0E36Pog.PNG.1004sunjeong%2F%25BF%25A2%25C1%25D2%25C6%25BD.png&type=a340',\n",
       " 'https://search.pstatic.net/common/?src=http%3A%2F%2Fblogfiles.naver.net%2FMjAyMzExMjZfMTk0%2FMDAxNzAwOTkwMzYwNzA5.X9sQfJ64ZyGYKI7BlQMf2om5-_RrhhX0gewDqMqq6Fsg.2L0tektOyJosxKGNTf5DiTUOtzcX3P30bgeGWc2-rDcg.PNG.gabipet%2F%25B0%25ED%25BE%25E7%25C0%25CC%25B4%25C2_%25C3%25DF%25C0%25A7%25B8%25A6_%25BE%25F3%25B8%25B6%25B3%25AA_%25C5%25BB%25B1%25EE_%25B9%25DD%25B7%25C1%25B9%25A6_%25B0%25DC%25BF%25EF%25B3%25AA%25B1%25E2008.png&type=a340',\n",
       " 'https://search.pstatic.net/sunny/?src=https%3A%2F%2Fw7.pngwing.com%2Fpngs%2F1017%2F61%2Fpng-transparent-cattery-dog-kitten-pet-cat.png&type=l340_165',\n",
       " 'https://search.pstatic.net/common/?src=http%3A%2F%2Fblogfiles.naver.net%2FMjAyNDAxMTNfMTIx%2FMDAxNzA1MTQ2MjE5ODIy.vnoAPMHodL1ai1jPZeRN9CiXW5CERenerEd_paOdnIMg.1fk1dn6GcpBLX2djCqlhcbgSaG_w55B1iiPlBVyj5tAg.PNG.hahanegoodclean%2F2660c007-e02a-4dd2-bf84-2544546ab135.png&type=a340',\n",
       " 'https://search.pstatic.net/common/?src=http%3A%2F%2Fblogfiles.naver.net%2FMjAyNDAxMzFfMjMw%2FMDAxNzA2Njc2MDUxNDUx.c8tIWtIS4n8I_evKAe5GxYSicwjEQxARoB7iSpZP8Bgg.WOlDPxKCZETxgTLe3DeCPNEju23c82QiYmi6xxXwTpUg.JPEG.owol0116%2F_787897cd-bbb9-4cae-8345-42068b34ccf3.jpeg&type=a340',\n",
       " 'https://search.pstatic.net/common/?src=http%3A%2F%2Fblogfiles.naver.net%2FMjAyNDAxMjRfMTI2%2FMDAxNzA2MDUzMjk0MTYy.v3lRy-W9rgb1PXSvxLOx31yuk3OIwolSAskIYknflAUg.ymI6FuGckjcmjpidki0DOKgRkRI_XP2-wblVHEFSErkg.JPEG.ucare-ah%2Fdaria-averina-_867Jy8LCkI-unsplash.jpg&type=a340',\n",
       " 'https://search.pstatic.net/common/?src=http%3A%2F%2Fblogfiles.naver.net%2FMjAyNDAxMTZfMjgx%2FMDAxNzA1Mzg1Nzk4NzE2.6u6hIPeXiK_mroYUSqcY5d5xI72jskF2FiufreVV5yIg.2nTdVz1gB3y-Cc1U7j-N-YuF4mlby-Tj_ukm1wQKemEg.PNG.chamnuri_ah%2Fb1.png&type=a340',\n",
       " 'https://search.pstatic.net/common/?src=http%3A%2F%2Fblogfiles.naver.net%2FMjAyNDAxMzFfMjUy%2FMDAxNzA2NjYwNzYzODQw.7XqNSRa0HqLJf9tDKyh3k3S2Muea4aCXexpYYd6yU5Mg.XoNjEksk4FhD26GiQMyAyvPkZUtlDH2U34AvqHLCohgg.JPEG.amc_hada2016%2F0119_%25C7%25CF%25B4%25D9_%25B0%25ED%25BE%25E7%25C0%25CC%25BA%25D0%25B8%25AE%25BA%25D2%25BE%25C8_%25BA%25ED%25B7%25CE%25B1%25D72.jpg&type=a340',\n",
       " 'https://search.pstatic.net/common/?src=http%3A%2F%2Fblogfiles.naver.net%2FMjAyMzEyMTRfMjgx%2FMDAxNzAyNTI5NTkxNzk3.LDcvZqNWlVpGqO6fLSKcIc42rhXtMEgA6CTWHvki1ZQg.ITpadAZcv3xo-zkBjEC_EF9ItJdbMTOv89JsxSHMCgQg.JPEG.appkorea90%2F%25B4%25EB%25C1%25F6_1_%25BA%25B9%25BB%25E7_7.jpg&type=a340',\n",
       " 'https://search.pstatic.net/common/?src=http%3A%2F%2Fblogfiles.naver.net%2FMjAyNDAxMjNfMjgg%2FMDAxNzA1OTkzMDU1Mjk4.ZbyiSzRSxPfWY8pgscce3VeaXMnOhqkOQvWyQj_HbVsg.ewVRq-sMDY0mPeP3J0r9Cm6SzIesZAQsXTcVY4BtDv4g.JPEG.blessamcblog%2F003.jpg&type=a340',\n",
       " 'https://search.pstatic.net/common/?src=http%3A%2F%2Fblogfiles.naver.net%2FMjAyMzEyMzBfMjg3%2FMDAxNzAzOTIyODY3MjAy.d3QAIiehYjK62eNXwCj0qkbXMgXBdFNfmgowh6roEPQg.1tZV_-l-HEWYGnHijPvCKrFMsIXaEIHHDMDq0oegYWMg.JPEG.doremicat_incheon%2F%25B8%25D5%25C4%25A1%25C5%25B2%25B0%25ED%25BE%25E7%25C0%25CC%25BA%25D0%25BE%25E72_%25285%2529.jpg&type=a340',\n",
       " 'https://search.pstatic.net/common/?src=http%3A%2F%2Fblogfiles.naver.net%2FMjAyMzEyMjZfMjEy%2FMDAxNzAzNTUyOTAyNjQw.clRrpPwwi1I8nb0QJ_o9bxlnRbh10ij51553BINTgWkg.r1Rng2P3bCrAvbfMKNMYj9B-i234sp1J6hbqHSOsvT4g.JPEG.jamsil25h%2F4.jpg&type=a340',\n",
       " 'https://search.pstatic.net/common/?src=http%3A%2F%2Fblogfiles.naver.net%2FMjAyNDAxMjVfMTM3%2FMDAxNzA2MTQ2NzkxNjM1.gTijdTmDZtkM94-LWIrWtuLkHjVbp4FCTi5hqv89BdYg.1ICTyFaWQ92ZZss7lTRLlstUiJiJsnjgmX6GddkpG7kg.PNG.oollpqlloo%2Fimage.png&type=a340',\n",
       " 'https://search.pstatic.net/common/?src=http%3A%2F%2Fblogfiles.naver.net%2FMjAyNDAxMjRfMTg5%2FMDAxNzA2MDIyOTA3NzQz.vdGqT0PkU2mo9fM5ktjzQf9ORyDrxiWI2Od8ViQFBQQg.oILrz4M8We6ZUDDBYSTc1JKTHMRtYOwtLUD93H9pmU0g.JPEG.alswls113500%2FIMG_2584.JPG&type=a340',\n",
       " 'https://search.pstatic.net/common/?src=http%3A%2F%2Fblogfiles.naver.net%2FMjAyNDAxMjVfOTEg%2FMDAxNzA2MTUzNjY2NjUz.i_eoAtOwNmfzEqSaQnXPai1J1Zl-dn7RRFL0f46BlIog.jLtVQYnaDCJW1EkDkcunFR2e_aec-eof5lzIsPwxqncg.PNG.merry_diary%2F%25B0%25ED%25BE%25E7%25C0%25CC%25C7%25A5%25C1%25A4_%25282%2529.png&type=a340',\n",
       " 'https://search.pstatic.net/common/?src=http%3A%2F%2Fblogfiles.naver.net%2FMjAyMzEyMDVfMjcx%2FMDAxNzAxNzM1MTMzMDM3.MphvZC1kKmh1xRETizxW8BwX1bpB4CJSuclSXuHEQ90g.lldUSwuS2OGyL0z2RxJzAtD5-Zv2YqezT0vVJaaxt9cg.PNG.newtop21c%2F8e96f611-1ac8-42af-923c-c3a35e277674.png&type=a340',\n",
       " 'https://search.pstatic.net/common/?src=http%3A%2F%2Fimgnews.naver.net%2Fimage%2F016%2F2024%2F01%2F31%2F20240131000335_0_20240131110909864.jpg&type=l340_165',\n",
       " 'https://search.pstatic.net/common/?src=http%3A%2F%2Fblogfiles.naver.net%2FMjAyMzEyMjZfMjE2%2FMDAxNzAzNTczNDY1MTc1.LDNjoV0hrsyDMwFd6gNCNkEcNVSJ3pq1OZS7b0rj8S8g.ArgGKMAJf9H2xG0WQztnk9e7YH-tuFCnBOiHcgzU15sg.JPEG.qkdakddl2%2F1_%25282%2529.jpg&type=a340',\n",
       " 'data:image/gif;base64,R0lGODlhAQABAIAAAAAAAP///yH5BAEAAAAALAAAAAABAAEAAAIBRAA7',\n",
       " 'data:image/gif;base64,R0lGODlhAQABAIAAAAAAAP///yH5BAEAAAAALAAAAAABAAEAAAIBRAA7',\n",
       " 'data:image/gif;base64,R0lGODlhAQABAIAAAAAAAP///yH5BAEAAAAALAAAAAABAAEAAAIBRAA7',\n",
       " 'data:image/gif;base64,R0lGODlhAQABAIAAAAAAAP///yH5BAEAAAAALAAAAAABAAEAAAIBRAA7',\n",
       " 'data:image/gif;base64,R0lGODlhAQABAIAAAAAAAP///yH5BAEAAAAALAAAAAABAAEAAAIBRAA7',\n",
       " 'data:image/gif;base64,R0lGODlhAQABAIAAAAAAAP///yH5BAEAAAAALAAAAAABAAEAAAIBRAA7',\n",
       " 'data:image/gif;base64,R0lGODlhAQABAIAAAAAAAP///yH5BAEAAAAALAAAAAABAAEAAAIBRAA7',\n",
       " 'data:image/gif;base64,R0lGODlhAQABAIAAAAAAAP///yH5BAEAAAAALAAAAAABAAEAAAIBRAA7',\n",
       " 'data:image/gif;base64,R0lGODlhAQABAIAAAAAAAP///yH5BAEAAAAALAAAAAABAAEAAAIBRAA7',\n",
       " 'data:image/gif;base64,R0lGODlhAQABAIAAAAAAAP///yH5BAEAAAAALAAAAAABAAEAAAIBRAA7',\n",
       " 'data:image/gif;base64,R0lGODlhAQABAIAAAAAAAP///yH5BAEAAAAALAAAAAABAAEAAAIBRAA7',\n",
       " 'data:image/gif;base64,R0lGODlhAQABAIAAAAAAAP///yH5BAEAAAAALAAAAAABAAEAAAIBRAA7',\n",
       " 'data:image/gif;base64,R0lGODlhAQABAIAAAAAAAP///yH5BAEAAAAALAAAAAABAAEAAAIBRAA7',\n",
       " 'data:image/gif;base64,R0lGODlhAQABAIAAAAAAAP///yH5BAEAAAAALAAAAAABAAEAAAIBRAA7',\n",
       " 'data:image/gif;base64,R0lGODlhAQABAIAAAAAAAP///yH5BAEAAAAALAAAAAABAAEAAAIBRAA7',\n",
       " 'data:image/gif;base64,R0lGODlhAQABAIAAAAAAAP///yH5BAEAAAAALAAAAAABAAEAAAIBRAA7',\n",
       " 'data:image/gif;base64,R0lGODlhAQABAIAAAAAAAP///yH5BAEAAAAALAAAAAABAAEAAAIBRAA7',\n",
       " 'data:image/gif;base64,R0lGODlhAQABAIAAAAAAAP///yH5BAEAAAAALAAAAAABAAEAAAIBRAA7',\n",
       " 'data:image/gif;base64,R0lGODlhAQABAIAAAAAAAP///yH5BAEAAAAALAAAAAABAAEAAAIBRAA7',\n",
       " 'data:image/gif;base64,R0lGODlhAQABAIAAAAAAAP///yH5BAEAAAAALAAAAAABAAEAAAIBRAA7',\n",
       " 'data:image/gif;base64,R0lGODlhAQABAIAAAAAAAP///yH5BAEAAAAALAAAAAABAAEAAAIBRAA7',\n",
       " 'data:image/gif;base64,R0lGODlhAQABAIAAAAAAAP///yH5BAEAAAAALAAAAAABAAEAAAIBRAA7',\n",
       " 'data:image/gif;base64,R0lGODlhAQABAIAAAAAAAP///yH5BAEAAAAALAAAAAABAAEAAAIBRAA7',\n",
       " 'data:image/gif;base64,R0lGODlhAQABAIAAAAAAAP///yH5BAEAAAAALAAAAAABAAEAAAIBRAA7']"
      ]
     },
     "execution_count": 18,
     "metadata": {},
     "output_type": "execute_result"
    }
   ],
   "source": [
    "img_list=[]\n",
    "\n",
    "for i in range(len(img)) :\n",
    "    img_list.append(img[i].get_attribute('src'))\n",
    "    \n",
    "print(len(img_list))\n",
    "img_list\n"
   ]
  },
  {
   "cell_type": "code",
   "execution_count": 19,
   "id": "2a55d45a",
   "metadata": {},
   "outputs": [],
   "source": [
    "# url 을 파일로 변환\n",
    "# 서버와는 별개이므로 타임슬립 필요없음\n",
    "# i가 숫자이므로 문자열로 변환해서 숫자자체를 파일이름으로 한다\n",
    "# +str(i)+  --> 파일이름을 지정하는 것\n",
    "\n",
    "for i in range(len(img_list)) :\n",
    "    \n",
    "    urlretrieve(img_list[i],\"C:/Users/wjd1e/이미지/\"+str(i)+\".jpg\")  #(파알로 변환할 리스트목록,경로/파일명/확장자)"
   ]
  },
  {
   "cell_type": "code",
   "execution_count": null,
   "id": "f82da9b8",
   "metadata": {},
   "outputs": [],
   "source": [
    "# 글자는 1byte\n",
    "# 이미지는 1000byte ? 대용량 --> 첫화면에서 대용량의 이미지 파일을 전부 가져올수는 없다\n",
    "# 약 20개정도 가져온다\n",
    "# 스크롤 다 내린 후 다시 실행하면 더 많은 이미지를 받아올수 있다\n",
    "\n",
    "# 비동기방식인 스크롤 내리기로 페이지에 많은 이미지를 확보한 후 코드를 다시 실행하면 \n",
    "# 더 많은 이미지를 폴더에 가져올수 있다\n",
    "# 스크롤 내리는 행위가 바로 요청한다 --> 자바스크립 --> 비동기 방식\n",
    "# 스크롤 다 내리면 --> 동기 통신\n",
    "# 서브릿은 동기 통신"
   ]
  },
  {
   "cell_type": "code",
   "execution_count": null,
   "id": "b4cb70ec",
   "metadata": {},
   "outputs": [],
   "source": [
    "# 서브릿 학습\n",
    "#정적페이지 = 위키백과 --> 하나의 html\n",
    "#동적페이지 = 네이버  --> 동기,비동기 --> 다수의 html\n"
   ]
  },
  {
   "cell_type": "code",
   "execution_count": null,
   "id": "03a25395",
   "metadata": {},
   "outputs": [],
   "source": []
  },
  {
   "cell_type": "code",
   "execution_count": null,
   "id": "010d85ca",
   "metadata": {},
   "outputs": [],
   "source": []
  },
  {
   "cell_type": "code",
   "execution_count": null,
   "id": "91ae386a",
   "metadata": {},
   "outputs": [],
   "source": []
  }
 ],
 "metadata": {
  "kernelspec": {
   "display_name": "Python 3 (ipykernel)",
   "language": "python",
   "name": "python3"
  },
  "language_info": {
   "codemirror_mode": {
    "name": "ipython",
    "version": 3
   },
   "file_extension": ".py",
   "mimetype": "text/x-python",
   "name": "python",
   "nbconvert_exporter": "python",
   "pygments_lexer": "ipython3",
   "version": "3.11.5"
  }
 },
 "nbformat": 4,
 "nbformat_minor": 5
}
