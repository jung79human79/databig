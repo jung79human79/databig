{
 "cells": [
  {
   "cell_type": "code",
   "execution_count": 12,
   "id": "d560047d",
   "metadata": {},
   "outputs": [],
   "source": [
    "# 계산기 불러오기\n",
    "import calcal as cal"
   ]
  },
  {
   "cell_type": "code",
   "execution_count": 16,
   "id": "f5ac4862",
   "metadata": {},
   "outputs": [
    {
     "data": {
      "text/plain": [
       "5"
      ]
     },
     "execution_count": 16,
     "metadata": {},
     "output_type": "execute_result"
    }
   ],
   "source": [
    "add(2,3)\n",
    "# cal.add(5,2)"
   ]
  },
  {
   "cell_type": "code",
   "execution_count": 15,
   "id": "c3d56805",
   "metadata": {},
   "outputs": [
    {
     "data": {
      "text/plain": [
       "3"
      ]
     },
     "execution_count": 15,
     "metadata": {},
     "output_type": "execute_result"
    }
   ],
   "source": [
    "cal.minus(5,2)"
   ]
  },
  {
   "cell_type": "code",
   "execution_count": 4,
   "id": "7af88b8d",
   "metadata": {},
   "outputs": [
    {
     "data": {
      "text/plain": [
       "6"
      ]
     },
     "execution_count": 4,
     "metadata": {},
     "output_type": "execute_result"
    }
   ],
   "source": [
    "cal.mul(2,3)"
   ]
  },
  {
   "cell_type": "code",
   "execution_count": 5,
   "id": "2ec1079e",
   "metadata": {},
   "outputs": [
    {
     "data": {
      "text/plain": [
       "0.2222222222222222"
      ]
     },
     "execution_count": 5,
     "metadata": {},
     "output_type": "execute_result"
    }
   ],
   "source": [
    "cal.div(2,9)"
   ]
  },
  {
   "cell_type": "code",
   "execution_count": 17,
   "id": "14b34144",
   "metadata": {},
   "outputs": [],
   "source": [
    "# 특정함수만 불러오기\n",
    "from calcal import add"
   ]
  },
  {
   "cell_type": "code",
   "execution_count": 18,
   "id": "6cc148fa",
   "metadata": {},
   "outputs": [
    {
     "data": {
      "text/plain": [
       "3"
      ]
     },
     "execution_count": 18,
     "metadata": {},
     "output_type": "execute_result"
    }
   ],
   "source": [
    "add(1,2)"
   ]
  },
  {
   "cell_type": "code",
   "execution_count": 19,
   "id": "e3f385c6",
   "metadata": {},
   "outputs": [
    {
     "data": {
      "text/plain": [
       "3"
      ]
     },
     "execution_count": 19,
     "metadata": {},
     "output_type": "execute_result"
    }
   ],
   "source": [
    "minus(5,2)"
   ]
  },
  {
   "cell_type": "code",
   "execution_count": 20,
   "id": "bce6fedf",
   "metadata": {},
   "outputs": [
    {
     "ename": "NameError",
     "evalue": "name 'mul' is not defined",
     "output_type": "error",
     "traceback": [
      "\u001b[1;31m---------------------------------------------------------------------------\u001b[0m",
      "\u001b[1;31mNameError\u001b[0m                                 Traceback (most recent call last)",
      "Cell \u001b[1;32mIn[20], line 1\u001b[0m\n\u001b[1;32m----> 1\u001b[0m mul(\u001b[38;5;241m5\u001b[39m,\u001b[38;5;241m2\u001b[39m)\n",
      "\u001b[1;31mNameError\u001b[0m: name 'mul' is not defined"
     ]
    }
   ],
   "source": [
    "mul(5,2)"
   ]
  },
  {
   "cell_type": "code",
   "execution_count": null,
   "id": "4b3056a1",
   "metadata": {},
   "outputs": [],
   "source": [
    "# 라이브러리 = 모듈 \n",
    "# 파이썬파일 확장자 =.py ==> 모듈\n",
    "# calcal.ipynb --> 파일 --> 다운로드as --> python.py  ==> .py확장자를 가진 파이썬 파일이 됨\n"
   ]
  },
  {
   "cell_type": "code",
   "execution_count": null,
   "id": "6accc4a7",
   "metadata": {},
   "outputs": [],
   "source": []
  }
 ],
 "metadata": {
  "kernelspec": {
   "display_name": "Python 3 (ipykernel)",
   "language": "python",
   "name": "python3"
  },
  "language_info": {
   "codemirror_mode": {
    "name": "ipython",
    "version": 3
   },
   "file_extension": ".py",
   "mimetype": "text/x-python",
   "name": "python",
   "nbconvert_exporter": "python",
   "pygments_lexer": "ipython3",
   "version": "3.11.5"
  }
 },
 "nbformat": 4,
 "nbformat_minor": 5
}
