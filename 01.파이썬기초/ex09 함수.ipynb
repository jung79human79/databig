{
 "cells": [
  {
   "cell_type": "code",
   "execution_count": 1,
   "id": "0acf56d6",
   "metadata": {},
   "outputs": [],
   "source": [
    "# 함수=로직을 구현\n",
    "def hello(name):\n",
    "    return f'{name}씨 안녕'"
   ]
  },
  {
   "cell_type": "code",
   "execution_count": 2,
   "id": "ee4bdeed",
   "metadata": {},
   "outputs": [
    {
     "data": {
      "text/plain": [
       "'재은씨 안녕'"
      ]
     },
     "execution_count": 2,
     "metadata": {},
     "output_type": "execute_result"
    }
   ],
   "source": [
    "hello('재은')"
   ]
  },
  {
   "cell_type": "code",
   "execution_count": 3,
   "id": "6675cb80",
   "metadata": {},
   "outputs": [
    {
     "data": {
      "text/plain": [
       "'우성씨 안녕'"
      ]
     },
     "execution_count": 3,
     "metadata": {},
     "output_type": "execute_result"
    }
   ],
   "source": [
    "hello('우성')"
   ]
  },
  {
   "cell_type": "code",
   "execution_count": 4,
   "id": "06940649",
   "metadata": {},
   "outputs": [],
   "source": [
    "def sum1(num1,num2):\n",
    "    re=num1+num2\n",
    "    return re"
   ]
  },
  {
   "cell_type": "code",
   "execution_count": 5,
   "id": "4cd107fe",
   "metadata": {},
   "outputs": [
    {
     "data": {
      "text/plain": [
       "13"
      ]
     },
     "execution_count": 5,
     "metadata": {},
     "output_type": "execute_result"
    }
   ],
   "source": [
    "sum1(3,10)"
   ]
  },
  {
   "cell_type": "code",
   "execution_count": 18,
   "id": "5340be08",
   "metadata": {},
   "outputs": [],
   "source": [
    "# 엔터를 쳐서 정의해줘야 함 \n",
    "# 엔터를 치지 않으면 함수 호출하는 코드도 함께 표현해야함\n",
    "def minus(a,b) :\n",
    "    re=a-b\n",
    "    return re"
   ]
  },
  {
   "cell_type": "code",
   "execution_count": 20,
   "id": "6e22e53d",
   "metadata": {},
   "outputs": [
    {
     "name": "stdout",
     "output_type": "stream",
     "text": [
      "첫정수입력>>3\n",
      "둘정수입력>>5\n",
      "-2\n"
     ]
    }
   ],
   "source": [
    "num1=int(input (\"첫정수입력>>\"))\n",
    "num2=int(input (\"둘정수입력>>\"))\n",
    "#minus(num1,num2)\n",
    "rs = minus(num1,num2)\n",
    "print(rs)"
   ]
  },
  {
   "cell_type": "code",
   "execution_count": 1,
   "id": "57639312",
   "metadata": {},
   "outputs": [],
   "source": [
    "# 내가 만든 함수 메모작성-->독스트링\n",
    "def cal(num3,num4,op) :\n",
    "    \"\"\"덧셈과 뺄셈을 해주는 함수\"\"\"\n",
    "    if op == '+':\n",
    "        \n",
    "        re = num3+num4\n",
    "    elif op == '-':\n",
    "        \n",
    "        re = num3-num4\n",
    "    else :\n",
    "        re ='꽝'\n",
    "    return re   \n"
   ]
  },
  {
   "cell_type": "code",
   "execution_count": 16,
   "id": "b18c9b9f",
   "metadata": {},
   "outputs": [
    {
     "name": "stdout",
     "output_type": "stream",
     "text": [
      "첫정수입력>>5\n",
      "둘정수입력>>3\n",
      "연산자입력(+,-)>>+\n",
      "결과 : 8\n"
     ]
    }
   ],
   "source": [
    "num3=int(input (\"첫정수입력>>\"))\n",
    "num4=int(input (\"둘정수입력>>\"))\n",
    "op=input (\"연산자입력(+,-)>>\")\n",
    "rs=cal(num3,num4,op)\n",
    "#print(f'결과 : {rs}')\n",
    "print('결과 : {}'.format(rs))"
   ]
  },
  {
   "cell_type": "code",
   "execution_count": 12,
   "id": "01b9f31b",
   "metadata": {},
   "outputs": [],
   "source": [
    "# 가변 매개변수\n",
    "# 여러개의 숫자를 받아서 모두 더해주는 함수\n",
    "def add(*args):   # 매개변수명은 랜덤\n",
    "    return sum(args) # 변수명 동일설정"
   ]
  },
  {
   "cell_type": "code",
   "execution_count": 13,
   "id": "b73e46e6",
   "metadata": {},
   "outputs": [
    {
     "data": {
      "text/plain": [
       "15"
      ]
     },
     "execution_count": 13,
     "metadata": {},
     "output_type": "execute_result"
    }
   ],
   "source": [
    "add(1,2,3,4,5)"
   ]
  },
  {
   "cell_type": "code",
   "execution_count": 14,
   "id": "f07f3ced",
   "metadata": {},
   "outputs": [],
   "source": [
    "# 리턴값은 무조건 하나\n",
    "def add_sub(num1,num2):\n",
    "    return num1+num2,num1-num2"
   ]
  },
  {
   "cell_type": "code",
   "execution_count": 17,
   "id": "1f58ea96",
   "metadata": {},
   "outputs": [
    {
     "name": "stdout",
     "output_type": "stream",
     "text": [
      "첫정수입력>>3\n",
      "둘정수입력>>2\n",
      "결과 : (5, 1)\n"
     ]
    }
   ],
   "source": [
    "num1=int(input (\"첫정수입력>>\"))\n",
    "num2=int(input (\"둘정수입력>>\"))\n",
    "rs=add_sub(num1,num2)\n",
    "print('결과 : {}'.format(rs))"
   ]
  },
  {
   "cell_type": "code",
   "execution_count": 18,
   "id": "68d93441",
   "metadata": {},
   "outputs": [
    {
     "data": {
      "text/plain": [
       "5"
      ]
     },
     "execution_count": 18,
     "metadata": {},
     "output_type": "execute_result"
    }
   ],
   "source": [
    "# 값을 하나씩 가져오는 방법: 인덱싱\n",
    "rs[0]"
   ]
  },
  {
   "cell_type": "code",
   "execution_count": 19,
   "id": "524c272b",
   "metadata": {},
   "outputs": [
    {
     "name": "stdout",
     "output_type": "stream",
     "text": [
      "8\n",
      "2\n"
     ]
    }
   ],
   "source": [
    "# 다중 변수 입력\n",
    "rs_add,rs_minus = add_sub(5,3)\n",
    "print(rs_add)\n",
    "print(rs_minus)"
   ]
  },
  {
   "cell_type": "code",
   "execution_count": 22,
   "id": "1469dc19",
   "metadata": {},
   "outputs": [],
   "source": [
    "# 함수 매개변수 기본값 설정하기 --> power=2\n",
    "def power_of_n(num,power=2):\n",
    "    return num**power   # **지수연산"
   ]
  },
  {
   "cell_type": "code",
   "execution_count": 24,
   "id": "bf04a65c",
   "metadata": {},
   "outputs": [
    {
     "data": {
      "text/plain": [
       "16"
      ]
     },
     "execution_count": 24,
     "metadata": {},
     "output_type": "execute_result"
    }
   ],
   "source": [
    "power_of_n(4) # 기본값power=2의 해당하는 매개변수는 생략가능 "
   ]
  },
  {
   "cell_type": "code",
   "execution_count": 23,
   "id": "c21510ee",
   "metadata": {},
   "outputs": [
    {
     "data": {
      "text/plain": [
       "64"
      ]
     },
     "execution_count": 23,
     "metadata": {},
     "output_type": "execute_result"
    }
   ],
   "source": [
    "power_of_n(4,3) # 기본값power=2은 매개변수'3'로 인해 변경가능-->4의3제곱"
   ]
  },
  {
   "cell_type": "code",
   "execution_count": 34,
   "id": "a83d723b",
   "metadata": {},
   "outputs": [
    {
     "name": "stdout",
     "output_type": "stream",
     "text": [
      "<class 'list'>\n",
      "['a', 4]\n",
      "<class 'tuple'>\n",
      "('a', 4)\n",
      "<class 'tuple'>\n",
      "('a', 4)\n",
      "<class 'str'>\n",
      "a\n",
      "<class 'int'>\n",
      "1\n",
      "<class 'tuple'>\n",
      "('a', 'b')\n",
      "<class 'tuple'>\n",
      "(1, 2)\n"
     ]
    }
   ],
   "source": [
    "ss=['a',4]\n",
    "sa='a',4\n",
    "sb=('a',4)\n",
    "print(type(ss))\n",
    "print(ss)\n",
    "print(type(sa))\n",
    "print(sa)\n",
    "print(type(sb))\n",
    "print(sb)\n",
    "sc='a'\n",
    "print(type(sc))\n",
    "print(sc)\n",
    "sd=1\n",
    "print(type(sd))\n",
    "print(sd)\n",
    "sf='a','b'\n",
    "sg=1,2\n",
    "print(type(sf))\n",
    "print(sf)\n",
    "print(type(sg))\n",
    "print(sg)"
   ]
  },
  {
   "cell_type": "code",
   "execution_count": null,
   "id": "40d8229a",
   "metadata": {},
   "outputs": [],
   "source": []
  }
 ],
 "metadata": {
  "kernelspec": {
   "display_name": "Python 3 (ipykernel)",
   "language": "python",
   "name": "python3"
  },
  "language_info": {
   "codemirror_mode": {
    "name": "ipython",
    "version": 3
   },
   "file_extension": ".py",
   "mimetype": "text/x-python",
   "name": "python",
   "nbconvert_exporter": "python",
   "pygments_lexer": "ipython3",
   "version": "3.11.5"
  }
 },
 "nbformat": 4,
 "nbformat_minor": 5
}
