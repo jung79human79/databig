{
 "cells": [
  {
   "cell_type": "code",
   "execution_count": null,
   "id": "304ef903",
   "metadata": {},
   "outputs": [],
   "source": [
    "a=[]\n",
    "print (a)\n",
    "b=[1,2,3]\n",
    "\n",
    "print (b)\n",
    "c=['라','마','바']\n",
    "print (c)\n",
    "d=[1,2,'가','사']\n",
    "print (d)\n",
    "e=[1,2,['나','다']]\n",
    "print (e)\n",
    "g= [[10]]\n",
    "print(g)\n",
    "g\n",
    "#h=[['대주']]\n",
    "#h\n",
    "f=['라', '마', '바']\n",
    "f\n",
    "#i=[1, 2, 3]\n",
    "#i"
   ]
  },
  {
   "cell_type": "code",
   "execution_count": null,
   "id": "2a472d08",
   "metadata": {},
   "outputs": [],
   "source": [
    "s= '우석:우건:준범'\n",
    "s\n",
    "print (s)"
   ]
  },
  {
   "cell_type": "code",
   "execution_count": null,
   "id": "15a3a4a6",
   "metadata": {},
   "outputs": [],
   "source": [
    "q=1,2,3\n",
    "# q\n",
    "print (q)"
   ]
  },
  {
   "cell_type": "code",
   "execution_count": null,
   "id": "866fb68b",
   "metadata": {},
   "outputs": [],
   "source": [
    "r=1,'가'\n",
    "r\n",
    "print(r)"
   ]
  },
  {
   "cell_type": "code",
   "execution_count": null,
   "id": "326aa76e",
   "metadata": {},
   "outputs": [],
   "source": [
    "z='로','가'\n",
    "z\n",
    "print(z)"
   ]
  },
  {
   "cell_type": "code",
   "execution_count": null,
   "id": "dded5980",
   "metadata": {},
   "outputs": [],
   "source": [
    "# 인덱싱 /슬라이싱 실습         # 스플릿 안된다\n",
    "list1=[0,1,2,3,4,5,6,7,8,9]\n",
    "\n",
    "print(list1)\n",
    "# 인덱싱 문제 \n",
    "# 숫자4\n",
    "# 숫자 4,9,7\n",
    "print(list1[4],[9],[7])\n",
    "print(list1[4])\n",
    "print(list1[4],list1[9],list1[7])\n",
    "list1[4],list1[9],list1[7]\n",
    "# print(list1[4]);print(list1[7]);print(list1[9])\n"
   ]
  },
  {
   "cell_type": "code",
   "execution_count": null,
   "id": "fed82e66",
   "metadata": {},
   "outputs": [],
   "source": [
    "# 2. 숫자 1,2,3과 ['a','b','c'] 를 이용해서 2차원 리스트를 만들자\n",
    "# list2 = [1,2,3,['a','b','c',['수박','복숭아']]]  # 3차원\n",
    "list2 = [1,2,3,['a','b','c']]  # 2차원\n",
    "print(list2)\n"
   ]
  },
  {
   "cell_type": "code",
   "execution_count": null,
   "id": "a7565cf6",
   "metadata": {},
   "outputs": [],
   "source": [
    "# temp 변수 지정 ['a','b','c']가 들어있는 리스트를 인덱싱\n",
    "temp = list2[3]\n",
    "\n",
    "print(temp)\n",
    "# temp에 저징된 리스트에서 b라는 문자만 인덱싱\n",
    "\n",
    "print(temp[1])\n",
    "temp[1]"
   ]
  },
  {
   "cell_type": "code",
   "execution_count": null,
   "id": "67756d22",
   "metadata": {},
   "outputs": [],
   "source": [
    "# 다른 형태로 b를 출력 #간결코드\n",
    "print(list2[3][1])\n",
    "list2[3][1]"
   ]
  },
  {
   "cell_type": "code",
   "execution_count": null,
   "id": "0d5ce564",
   "metadata": {},
   "outputs": [],
   "source": [
    "list3=[[0,1,2,3],\n",
    "       [4,5,6,7],\n",
    "       [8,9,10,11],\n",
    "       [12,13,14,15]]\n",
    "print(list3)\n",
    "list3"
   ]
  },
  {
   "cell_type": "code",
   "execution_count": null,
   "id": "911553f5",
   "metadata": {},
   "outputs": [],
   "source": [
    "print(list3[1][1])\n",
    "list3[1][1]"
   ]
  },
  {
   "cell_type": "code",
   "execution_count": null,
   "id": "62c42436",
   "metadata": {},
   "outputs": [],
   "source": [
    "# 리스트 슬라이싱\n",
    "# 슬라이싱 규칙 인덱스는 0부터 시작\n",
    "# 슬라이싱 끝 값은 항상+1을 해준다\n",
    "list4=[0,1,2,3,4,5,6,7,8,9]\n",
    "# 3부터7까지 슬라이싱\n",
    "list4 [3:8]\n",
    "print (list4 [3:8])\n",
    "# 0부터 4까지\n",
    "print (list4 [:5])\n",
    "# 6부터 9까지\n",
    "print (list4 [6:])\n",
    "# 전체숫자\n",
    "print (list4 [:])\n",
    "list4 [3:8]"
   ]
  },
  {
   "cell_type": "code",
   "execution_count": null,
   "id": "836232a6",
   "metadata": {},
   "outputs": [],
   "source": [
    "list1+list1     # 앞뒤로 붙는다 "
   ]
  },
  {
   "cell_type": "code",
   "execution_count": null,
   "id": "a507715d",
   "metadata": {},
   "outputs": [],
   "source": [
    "# 리스트 맨 뒤에 값을 추가 해보자\n",
    "# append(추가값)\n",
    "list5=[1,2,3,4,5]\n",
    "list5"
   ]
  },
  {
   "cell_type": "code",
   "execution_count": null,
   "id": "49de9e95",
   "metadata": {},
   "outputs": [],
   "source": [
    "# append(추가값) --> 리스트 맨뒤에 값을 추가해주는 함수\n",
    "list5.append(10)\n",
    "list5                    # 재실행하면 계속 추가됨 \n"
   ]
  },
  {
   "cell_type": "code",
   "execution_count": null,
   "id": "cc134e38",
   "metadata": {},
   "outputs": [],
   "source": [
    "# 인덱싱+ append 실습  다시 해보자!!\n",
    "\n",
    "list =['사과','포도',['수박','멜론'],'복숭아','딸기','오렌지']\n",
    "#print(list)\n",
    "\n",
    "# 뽑아온 과일을 저장할 리스트\n",
    "cho=[]\n",
    "# cho 에 담아줄 과일 인덱싱\n",
    "a=list[0]     #사과\n",
    "b=list[2][0]  #수박\n",
    "c=list[-1]    #오렌지\n",
    "\n",
    "# a.append(b)\n",
    "# b.append(c)\n",
    "# choice_list =[b]\n",
    "# choice_list =[ list_[0]+ list_[2][0] +list_[5]]\n",
    "# print (choice_list)\n",
    "\n",
    "\n",
    "\n",
    "# cho 쌓아주기\n",
    "cho.append(a)\n",
    "cho.append(b)\n",
    "cho.append(c)\n",
    "print(cho)\n",
    "cho"
   ]
  },
  {
   "cell_type": "code",
   "execution_count": null,
   "id": "4e585b0a",
   "metadata": {},
   "outputs": [],
   "source": [
    "list6 =['사과','포도',['수박','멜론'],'복숭아','딸기','오렌지']\n",
    "\n",
    "a=list6[0]     #사과\n",
    "b=list6[2][0]  #수박\n",
    "c=list6[-1]    #오렌지\n",
    "#d=[list6[0],list6[2][0],list6[-1]]\n",
    "d=[a,b,c]\n",
    "d\n",
    "#d.append(a)\n",
    "#d.append(b)\n",
    "#d.append(c)\n",
    "#print(d)"
   ]
  },
  {
   "cell_type": "code",
   "execution_count": null,
   "id": "fbdf74bc",
   "metadata": {},
   "outputs": [],
   "source": [
    "# insert함수 사용법\n",
    "# insert(인덱스번호,넣어줄 값)\n",
    "list7 = [0,1,2,3,4,5]\n",
    "list7.insert(1,5)\n",
    "list7"
   ]
  },
  {
   "cell_type": "code",
   "execution_count": null,
   "id": "20ee8ffb",
   "metadata": {},
   "outputs": [],
   "source": [
    "# insert 실습\n",
    "music_list = [['디셈버','심'],\n",
    "             ['bmk','물들어'],\n",
    "             ['sg워너비','해바라기']]\n",
    "music_list\n",
    "# music_list 인덱스 1인곳에 ['창모','메테오']\n",
    "# music_list 인덱스 3인곳에 ['대주','천재']\n",
    "# music_list 마지막에 ['재은','큐티']"
   ]
  },
  {
   "cell_type": "code",
   "execution_count": null,
   "id": "ead58ae8",
   "metadata": {},
   "outputs": [],
   "source": [
    "music_list.insert(1,['창모','메테오'])\n",
    "music_list.insert(3,['대주','천재'])\n",
    "#music_list.insert(5,['재은','큐티'])\n",
    "music_list.append(['재은','큐티'])\n",
    "music_list\n"
   ]
  },
  {
   "cell_type": "code",
   "execution_count": null,
   "id": "e517acf6",
   "metadata": {},
   "outputs": [],
   "source": [
    "# 실습다시해보자\n",
    "# 1. 인덱스 번호 /가수명/노래제목 입력받는 입력문 --> 변수에 저장\n",
    "#  insert문을 이용해서 music_list에 새로운 값을 추가해주세요\n",
    "put =int(input(\"인덱스>> \" ))\n",
    "si = input(\"가수명>> \" )\n",
    "ti = input(\"제목>> \" )\n",
    "\n",
    "music_list.insert(put,[si,ti])\n",
    "\n",
    "music_list\n",
    "\n"
   ]
  },
  {
   "cell_type": "code",
   "execution_count": null,
   "id": "84587100",
   "metadata": {},
   "outputs": [],
   "source": [
    "# 리스트 수정(변경)\n",
    "list8=[0,1,2,3,4,5,6,7]\n",
    "print(f'수정전 : {list8[5]}')\n",
    "list8[5]= 10\n",
    "print(f'수정후 : {list8[5]}')\n",
    "list8"
   ]
  },
  {
   "cell_type": "code",
   "execution_count": null,
   "id": "550d3c68",
   "metadata": {},
   "outputs": [],
   "source": [
    "# 여러개의 값을 변경 - 슬라이싱 이용\n",
    "\n",
    "list20 = [0, 1, 2, 3, 4, 5, 6, 7, 8, 9]\n",
    "\n",
    "list20[3:7]=[10]\n",
    "list20"
   ]
  },
  {
   "cell_type": "code",
   "execution_count": null,
   "id": "df903648",
   "metadata": {},
   "outputs": [],
   "source": [
    "list30 = [0, 1, 2, 3, 4, 5, 6, 7, 8, 9]\n",
    "list30[3:7]=[10,10,10,10]\n",
    "list30"
   ]
  },
  {
   "cell_type": "code",
   "execution_count": null,
   "id": "38979378",
   "metadata": {},
   "outputs": [],
   "source": [
    "list40 = ['사과','포도',['수박','멜론'],'복숭아','딸기','오렌지']\n",
    "list40.index('포도')\n",
    "list40.index(['수박','멜론'])\n",
    "list40.index('복숭아')"
   ]
  },
  {
   "cell_type": "code",
   "execution_count": null,
   "id": "22533187",
   "metadata": {},
   "outputs": [],
   "source": [
    "array = [1,2,3,4,5]\n",
    "array[4]=7\n",
    "array"
   ]
  },
  {
   "cell_type": "code",
   "execution_count": null,
   "id": "5df01157",
   "metadata": {},
   "outputs": [],
   "source": [
    "array[1]=['a','b','c']\n",
    "array"
   ]
  },
  {
   "cell_type": "code",
   "execution_count": null,
   "id": "04dd6169",
   "metadata": {},
   "outputs": [],
   "source": [
    "array[3:5]='d','e','f','g'\n",
    "array"
   ]
  },
  {
   "cell_type": "code",
   "execution_count": null,
   "id": "4011911e",
   "metadata": {},
   "outputs": [],
   "source": [
    "array[0:1]  # 슬라이싱은 범위 즉 리스트로 잘라온다 []안에 값이 들어온다\n"
   ]
  },
  {
   "cell_type": "code",
   "execution_count": null,
   "id": "f4fa3a1c",
   "metadata": {},
   "outputs": [],
   "source": [
    "array[0]    # 인덱싱은 []범위 없이 값만 가져온다"
   ]
  },
  {
   "cell_type": "code",
   "execution_count": null,
   "id": "65e8c652",
   "metadata": {},
   "outputs": [],
   "source": [
    "array[0:1]='h','i','j'\n",
    "array"
   ]
  },
  {
   "cell_type": "code",
   "execution_count": null,
   "id": "a51da979",
   "metadata": {},
   "outputs": [],
   "source": [
    "# 리스트 값 삭제\n",
    "list50= [0,1,2,3,4,5]\n",
    "del list50[5]   # 인덱스번호 넣기\n",
    "list50"
   ]
  },
  {
   "cell_type": "code",
   "execution_count": null,
   "id": "1ed64d94",
   "metadata": {},
   "outputs": [],
   "source": [
    "# 여러개 값 삭제\n",
    "ab= [0,1,2,3,4,5]\n",
    "del ab[1:5]\n",
    "ab"
   ]
  },
  {
   "cell_type": "code",
   "execution_count": null,
   "id": "e6807018",
   "metadata": {},
   "outputs": [],
   "source": [
    "# 다른 삭제법 \n",
    "abc= ['a','b','c','d','e']\n",
    "abc.remove('c')\n",
    "abc\n",
    "\n"
   ]
  },
  {
   "cell_type": "code",
   "execution_count": null,
   "id": "bf408c07",
   "metadata": {},
   "outputs": [],
   "source": [
    "abcd= ['a','b','c','d','e','c']\n",
    "abcd.remove('c')    # 처음 만나는 해당값을 지우고 되돌려준다\n",
    "abcd"
   ]
  },
  {
   "cell_type": "code",
   "execution_count": null,
   "id": "17fe29f7",
   "metadata": {},
   "outputs": [],
   "source": [
    "abcd.remove('c')   # 다시 한 번 실행하면 또 c가 지워진다 \n",
    "abcd"
   ]
  },
  {
   "cell_type": "code",
   "execution_count": 19,
   "id": "43398e30",
   "metadata": {},
   "outputs": [
    {
     "name": "stdout",
     "output_type": "stream",
     "text": [
      "[1, 7, 13, 27, 32, 45]\n"
     ]
    }
   ],
   "source": [
    "# 정렬 --> sort --> 오름차순 정렬\n",
    "abcde= [13,27,1,32,45,7]\n",
    "abcde.sort()\n",
    "print(abcde)"
   ]
  },
  {
   "cell_type": "code",
   "execution_count": 20,
   "id": "34e184f6",
   "metadata": {},
   "outputs": [
    {
     "data": {
      "text/plain": [
       "[7, 45, 32, 1, 27, 13]"
      ]
     },
     "execution_count": 20,
     "metadata": {},
     "output_type": "execute_result"
    }
   ],
   "source": [
    "# 리스트를 반대로 뒤집는 함수 --> reverse()\n",
    "abcdef= [13,27,1,32,45,7]\n",
    "abcdef.reverse()\n",
    "abcdef"
   ]
  },
  {
   "cell_type": "code",
   "execution_count": 3,
   "id": "5f77deb7",
   "metadata": {},
   "outputs": [
    {
     "data": {
      "text/plain": [
       "[45, 32, 27, 13, 7, 1]"
      ]
     },
     "execution_count": 3,
     "metadata": {},
     "output_type": "execute_result"
    }
   ],
   "source": [
    "# 내림 차순 정렬\n",
    "abcdefg= [13,27,1,32,45,7]\n",
    "abcdefg.sort(reverse=True) # sort내에 reverse 기본값이 존재하는데 false이다\n",
    "abcdefg"
   ]
  },
  {
   "cell_type": "code",
   "execution_count": 1,
   "id": "9dde5dcc",
   "metadata": {},
   "outputs": [
    {
     "data": {
      "text/plain": [
       "2"
      ]
     },
     "execution_count": 1,
     "metadata": {},
     "output_type": "execute_result"
    }
   ],
   "source": [
    "# 리스트 값 위치 출력 / 제거\n",
    "# 리스트 내부에 위치한 자료의 인덱스를 확인한 방법\n",
    "list15 = ['a', 'b', 'c','d', 'e']\n",
    "list15.index('c')\n",
    "\n"
   ]
  },
  {
   "cell_type": "code",
   "execution_count": 2,
   "id": "5ea8ad62",
   "metadata": {},
   "outputs": [
    {
     "data": {
      "text/plain": [
       "'e'"
      ]
     },
     "execution_count": 2,
     "metadata": {},
     "output_type": "execute_result"
    }
   ],
   "source": [
    "# pop  --> 마지막 값을 출력 후 리스트에서 제거\n",
    "list15.pop()"
   ]
  },
  {
   "cell_type": "code",
   "execution_count": 3,
   "id": "8d9f3cff",
   "metadata": {},
   "outputs": [
    {
     "data": {
      "text/plain": [
       "['a', 'b', 'c', 'd']"
      ]
     },
     "execution_count": 3,
     "metadata": {},
     "output_type": "execute_result"
    }
   ],
   "source": [
    "list15"
   ]
  },
  {
   "cell_type": "code",
   "execution_count": 4,
   "id": "82693592",
   "metadata": {},
   "outputs": [
    {
     "data": {
      "text/plain": [
       "4"
      ]
     },
     "execution_count": 4,
     "metadata": {},
     "output_type": "execute_result"
    }
   ],
   "source": [
    "# len(리스트) --> 리스트 내부의 값 갯수를 출력\n",
    "# 반복문 범위를 정하거나 리스트 내부의 데이터 갯수를 체크할때 사용 \n",
    "len(list15)"
   ]
  },
  {
   "cell_type": "code",
   "execution_count": 5,
   "id": "5f3e3a5e",
   "metadata": {},
   "outputs": [
    {
     "name": "stdout",
     "output_type": "stream",
     "text": [
      "a\n",
      "b\n",
      "c\n",
      "d\n"
     ]
    }
   ],
   "source": [
    "for i in range (len(list15)) :\n",
    "    print(list15[i])"
   ]
  },
  {
   "cell_type": "code",
   "execution_count": null,
   "id": "73738fc0",
   "metadata": {},
   "outputs": [],
   "source": [
    "# 튜플 tuple -->()로 작성 # 상수와 같은 개념 변경 안되는 값을 저장한다 예)주민번호\n",
    "# 추가 수정 삭제 모두 안됨\n",
    "# 리스트는 자바의 arraylist 튜플은 자바의 array"
   ]
  },
  {
   "cell_type": "code",
   "execution_count": null,
   "id": "254d59bf",
   "metadata": {},
   "outputs": [],
   "source": [
    "a_= () \n",
    "b_=(1,2,3)\n",
    "c_=('가','나','다')\n",
    "d_= (1,2,'라','마')\n",
    "e_= (1,2,('바','사'))\n",
    "print(f'{a_},{b_},{c_},{d_},{e_}')"
   ]
  },
  {
   "cell_type": "code",
   "execution_count": null,
   "id": "a877bbdf",
   "metadata": {},
   "outputs": [],
   "source": [
    "c_=('가','나','다')   # 수정안됨\n",
    "c_[1] = \"asd\"\n",
    "c_"
   ]
  },
  {
   "cell_type": "code",
   "execution_count": 1,
   "id": "65d13750",
   "metadata": {},
   "outputs": [
    {
     "data": {
      "text/plain": [
       "2"
      ]
     },
     "execution_count": 1,
     "metadata": {},
     "output_type": "execute_result"
    }
   ],
   "source": [
    "b_=(1,2,3)\n",
    "b_[1]"
   ]
  },
  {
   "cell_type": "code",
   "execution_count": 2,
   "id": "3915e406",
   "metadata": {},
   "outputs": [
    {
     "data": {
      "text/plain": [
       "(2, 3)"
      ]
     },
     "execution_count": 2,
     "metadata": {},
     "output_type": "execute_result"
    }
   ],
   "source": [
    "b_[1:]"
   ]
  },
  {
   "cell_type": "code",
   "execution_count": 3,
   "id": "caf13315",
   "metadata": {},
   "outputs": [
    {
     "data": {
      "text/plain": [
       "3"
      ]
     },
     "execution_count": 3,
     "metadata": {},
     "output_type": "execute_result"
    }
   ],
   "source": [
    "len(b_)  # 내부의 값 세어준다"
   ]
  },
  {
   "cell_type": "code",
   "execution_count": null,
   "id": "fe5441a7",
   "metadata": {},
   "outputs": [],
   "source": [
    "# in()--> 찾고자 하는 값(x)가 포함되면 참      # 찾고자 하는 문자열이나 숫자 있는지 여부파악\n",
    "# 아니면 거짓\n",
    "# not in() --> 찾고자 하는 값(x)가 포함 안되면 참\n",
    "# 아니면 거짓"
   ]
  },
  {
   "cell_type": "code",
   "execution_count": 5,
   "id": "9a1f45b8",
   "metadata": {},
   "outputs": [],
   "source": [
    "str1 = '마지막 시간입니다'"
   ]
  },
  {
   "cell_type": "code",
   "execution_count": 6,
   "id": "b8423eee",
   "metadata": {},
   "outputs": [
    {
     "data": {
      "text/plain": [
       "True"
      ]
     },
     "execution_count": 6,
     "metadata": {},
     "output_type": "execute_result"
    }
   ],
   "source": [
    "'마지막' in str1"
   ]
  },
  {
   "cell_type": "code",
   "execution_count": 2,
   "id": "8888081c",
   "metadata": {},
   "outputs": [
    {
     "data": {
      "text/plain": [
       "True"
      ]
     },
     "execution_count": 2,
     "metadata": {},
     "output_type": "execute_result"
    }
   ],
   "source": [
    "azz= [13,27,1,32,45,7]\n",
    "37 not in azz"
   ]
  },
  {
   "cell_type": "code",
   "execution_count": 3,
   "id": "417ccf8f",
   "metadata": {},
   "outputs": [
    {
     "data": {
      "text/plain": [
       "True"
      ]
     },
     "execution_count": 3,
     "metadata": {},
     "output_type": "execute_result"
    }
   ],
   "source": [
    "13 in azz"
   ]
  },
  {
   "cell_type": "code",
   "execution_count": 18,
   "id": "8353555f",
   "metadata": {},
   "outputs": [
    {
     "name": "stdout",
     "output_type": "stream",
     "text": [
      "문자입력>> 영\n",
      "영는 없는 단어입니다!\n"
     ]
    }
   ],
   "source": [
    "# 사용자가 입력한 글자가 문자열 안에 몇개 포함되었는지 출력\n",
    "text ='와~ 드디어 드디어 드디어 끝!'\n",
    "input1= input(\"문자입력>> \" )\n",
    "pp=text.count(input1)\n",
    "if (input1 in text) :\n",
    "    print (f'{input1}는 {pp}번 들어 있네요!')\n",
    "else :\n",
    "    print(f'{input1}는 없는 단어입니다!')\n"
   ]
  }
 ],
 "metadata": {
  "kernelspec": {
   "display_name": "Python 3 (ipykernel)",
   "language": "python",
   "name": "python3"
  },
  "language_info": {
   "codemirror_mode": {
    "name": "ipython",
    "version": 3
   },
   "file_extension": ".py",
   "mimetype": "text/x-python",
   "name": "python",
   "nbconvert_exporter": "python",
   "pygments_lexer": "ipython3",
   "version": "3.11.5"
  }
 },
 "nbformat": 4,
 "nbformat_minor": 5
}
