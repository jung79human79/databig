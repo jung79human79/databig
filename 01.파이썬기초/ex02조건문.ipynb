{
 "cells": [
  {
   "cell_type": "code",
   "execution_count": 8,
   "id": "2f5f3d92",
   "metadata": {},
   "outputs": [
    {
     "name": "stdout",
     "output_type": "stream",
     "text": [
      "정수입력>>10\n",
      "정수입력>>5\n",
      "a:10\n"
     ]
    }
   ],
   "source": [
    "a=int(input (\"정수입력>>\"))\n",
    "b=int(input (\"정수입력>>\"))\n",
    "# print (a if a>b else b) \n",
    "# 삼항연산자\n",
    "print (f'a:{a}')  if a>b else  print ('b:',b)"
   ]
  },
  {
   "cell_type": "code",
   "execution_count": 12,
   "id": "1257ac12",
   "metadata": {},
   "outputs": [
    {
     "name": "stdout",
     "output_type": "stream",
     "text": [
      "정수입력>>10\n",
      "10은 짝수\n"
     ]
    }
   ],
   "source": [
    "a=int(input (\"정수입력>>\"))\n",
    "# print(a ,'는(은) 짝수입니다') if a%2==0 else print (a,'는(은) 홀수입니다') \n",
    "# print('a는(은) 짝수입니다'if a%2==0 else 'a는(은) 홀수입니다') \n",
    "# print('cv''cb')\n",
    "print(f'{a}은 짝수' if a%2==0 else f'{a}은 홀수')"
   ]
  },
  {
   "cell_type": "code",
   "execution_count": 14,
   "id": "8f2b94d2",
   "metadata": {},
   "outputs": [
    {
     "name": "stdout",
     "output_type": "stream",
     "text": [
      "정수입력>>10\n",
      "정수입력>>5\n",
      "두 수의 차: 5\n"
     ]
    }
   ],
   "source": [
    "a=int(input (\"정수입력>>\"))\n",
    "b=int(input (\"정수입력>>\"))\n",
    "# print('두 수의 차:',a-b if a>b else b-a)\n",
    "\n",
    "print(f'두 수의 차:{a-b}' if a>b else f'두 수의 차:{b-a}')"
   ]
  },
  {
   "cell_type": "code",
   "execution_count": 18,
   "id": "9969d0c9",
   "metadata": {},
   "outputs": [
    {
     "name": "stdout",
     "output_type": "stream",
     "text": [
      "마스크개수>>17\n",
      "8개들이 마스크 개수 : 2\n",
      "5개들이 마스크 개수 : 1\n"
     ]
    }
   ],
   "source": [
    "mask = int(input (\"마스크개수>>\"))\n",
    "\n",
    "if mask>0 :\n",
    "    eight= mask//8\n",
    "     \n",
    "    if (mask%8)>5 :\n",
    "        five =2\n",
    "    else :\n",
    "        five =1\n",
    "        \n",
    "print (f'8개들이 마스크 개수 : {eight}')\n",
    "print (f'5개들이 마스크 개수 : {five}')"
   ]
  },
  {
   "cell_type": "code",
   "execution_count": 36,
   "id": "d9d48576",
   "metadata": {},
   "outputs": [
    {
     "name": "stdout",
     "output_type": "stream",
     "text": [
      "마스크개수>>35\n",
      "8개들이 마스크 개수 4\n",
      "5개들이 마스크 개수 1\n"
     ]
    }
   ],
   "source": [
    "mask = int(input (\"마스크개수>>\"))\n",
    "ep=mask//8\n",
    "if(mask//8)>0 :\n",
    "    print ('8개들이 마스크 개수',mask//8)\n",
    "else :\n",
    "    print ('8개들이 마스크 개수',0)\n",
    "if (mask-ep*8)>0 :\n",
    "    print ('5개들이 마스크 개수',(mask-ep*8)//5+1)"
   ]
  },
  {
   "cell_type": "code",
   "execution_count": 73,
   "id": "346213e9",
   "metadata": {},
   "outputs": [
    {
     "name": "stdout",
     "output_type": "stream",
     "text": [
      "정수입력>>65\n",
      "65점은 d학점 입니다\n"
     ]
    }
   ],
   "source": [
    "score=int(input (\"정수입력>>\"))\n",
    "grade =\" \"\n",
    "if (score>100) & (score<0):\n",
    "    print ('점수 잘못')\n",
    "else :\n",
    "    if score>=90 :\n",
    "        grade = 'a'\n",
    "    elif score>=80 :\n",
    "          grade = 'b'\n",
    "    elif score>=70 :\n",
    "          grade = 'c'\n",
    "    elif score>=60 :\n",
    "          grade = 'd'      \n",
    "    else :\n",
    "          grade = 'f'     \n",
    "    print (f'{score}점은 {grade}학점 입니다')"
   ]
  },
  {
   "cell_type": "code",
   "execution_count": 82,
   "id": "b3c83cef",
   "metadata": {},
   "outputs": [
    {
     "name": "stdout",
     "output_type": "stream",
     "text": [
      "정수입력>>12\n",
      "요금은 1125원 입니다.\n"
     ]
    }
   ],
   "source": [
    "age=int(input (\"정수입력>>\"))\n",
    "price = 1500\n",
    "\n",
    "if age<5 :\n",
    "    mw=price*0.5    \n",
    "elif (age>=5) & (age<20) :\n",
    "    mw=price*0.75    \n",
    "elif age>=65 :\n",
    "    mw=price*0.25    \n",
    "else :\n",
    "    mw=price    \n",
    "print (f'요금은 {int(mw)}원 입니다.')\n",
    "    "
   ]
  },
  {
   "cell_type": "code",
   "execution_count": 102,
   "id": "a9503e44",
   "metadata": {},
   "outputs": [
    {
     "name": "stdout",
     "output_type": "stream",
     "text": [
      "==============자판기=================\n",
      "==1.콜라==2.사이다==3.물====insert===\n",
      "== 600==    800==    1000 == 000원\n",
      "메뉴입력>>6\n",
      "가격입력>>2500\n",
      "메뉴를 잘못 선택함\n",
      "잔액은 2500\n"
     ]
    }
   ],
   "source": [
    "print('==============자판기=================')\n",
    "print('==1.콜라==2.사이다==3.물====insert===')\n",
    "print('== 600==    800==    1000 == 000원')\n",
    "\n",
    "menu = int(input (\"메뉴입력>>\"))\n",
    "price=int(input (\"가격입력>>\"))\n",
    "\n",
    "result = price\n",
    "\n",
    "if (menu==1) :\n",
    "    if (price>=600) :\n",
    "        result=price-600\n",
    "    else :\n",
    "        print('잔액부족')\n",
    "    print(f'잔돈 >> 1000원{result//1000}개, 500원{result%1000//500}개, 100원{result%1000%500//100}개')\n",
    "if (menu==2) :\n",
    "    if (price>=800) :\n",
    "        result=price-800\n",
    "    else :\n",
    "        print('잔액부족')\n",
    "    print(f'잔돈 >> 1000원{result//1000}개, 500원{result%1000//500}개, 100원{result%1000%500//100}개')\n",
    "if (menu==3) :\n",
    "    if (price>=1000) :\n",
    "        result=price-1000\n",
    "    else :\n",
    "        print('잔액부족')\n",
    "    print(f'잔돈 >> 1000원{result//1000}개, 500원{result%1000//500}개, 100원{result%1000%500//100}개')\n",
    "else :\n",
    "    print('메뉴를 잘못 선택함')\n",
    "    print(f'잔액은 {result}')\n"
   ]
  },
  {
   "cell_type": "code",
   "execution_count": 104,
   "id": "7a25de18",
   "metadata": {},
   "outputs": [
    {
     "name": "stdout",
     "output_type": "stream",
     "text": [
      "1.콜라 : 600원 ==2.사이다 :800원 ==3.물 : 1000원\n",
      "가격입력>>400\n",
      "메뉴입력>>1\n",
      "잔액부족\n",
      "1000원: 0장 , 500원: 0개 ,100원: 4개\n"
     ]
    }
   ],
   "source": [
    "# 자판기 프로그램\n",
    "change =0\n",
    "print('1.콜라 : 600원 ==2.사이다 :800원 ==3.물 : 1000원')\n",
    "money = int(input (\"가격입력>>\"))\n",
    "menu = int(input (\"메뉴입력>>\"))\n",
    "\n",
    "if menu == 1 :\n",
    "    if money<600 :\n",
    "        print('잔액부족')\n",
    "        change = money\n",
    "    else :\n",
    "        change = money-600\n",
    "        print('콜라')\n",
    "elif menu == 2 :\n",
    "    if money<800 :\n",
    "        print('잔액부족')\n",
    "        change = money\n",
    "    else :\n",
    "        change = money-800\n",
    "        print('사이다')\n",
    "elif menu ==3 :\n",
    "    if money<1000 :\n",
    "        print('잔액부족')\n",
    "        change = money\n",
    "    else :\n",
    "        change = money-1000\n",
    "        print('물')\n",
    "else :\n",
    "    print('잘못 선택함')\n",
    "    change = money\n",
    "    \n",
    "h= change//1000\n",
    "f= change%1000//500\n",
    "t= change%1000%500//100\n",
    "print(f'1000원: {h}장 , 500원: {f}개 ,100원: {t}개')\n"
   ]
  },
  {
   "cell_type": "code",
   "execution_count": 111,
   "id": "119d6cb9",
   "metadata": {},
   "outputs": [
    {
     "name": "stdout",
     "output_type": "stream",
     "text": [
      "======================자판기=====================\n",
      " 1.콜라(600원)   2.사이다(800원)    3.물(1000원)\n",
      "금액을 투입하세요 >>800\n",
      "메뉴를 선택하세요 >>3\n",
      "잔돈 >> 1000원 -1개, 500원 1개, 100원3개\n"
     ]
    }
   ],
   "source": [
    "# 우석자료인데 메뉴별 잔액부족이 구현 안되는 미스코드\n",
    "print(\"======================자판기=====================\")\n",
    "print(\" 1.콜라(600원)   2.사이다(800원)    3.물(1000원)\")\n",
    "mo=int(input(f\"금액을 투입하세요 >>\"))\n",
    "\n",
    "if(mo>=600):\n",
    "    co=int(input(f\"메뉴를 선택하세요 >>\"))\n",
    "    if(co==1):\n",
    "        cun = (mo-600)//1000\n",
    "        obeg = (mo-600)%1000//500\n",
    "        beg =(mo-600)%1000%500//100\n",
    "        print(f\"잔돈 >> 1000원 {cun}개, 500원 {obeg}개, 100원{beg}개\")   \n",
    "    elif(co==2):\n",
    "        cun = (mo-800)//1000\n",
    "        obeg = (mo-800)%1000//500\n",
    "        beg =(mo-800)%1000%500//100\n",
    "        print(f\"잔돈 >> 1000원 {cun}개, 500원 {obeg}개, 100원{beg}개\")   \n",
    "    elif(co==3):\n",
    "        cun = (mo-1000)//1000\n",
    "        obeg = (mo-1000)%1000//500\n",
    "        beg =(mo-1000)%1000%500//100  \n",
    "        print(f\"잔돈 >> 1000원 {cun}개, 500원 {obeg}개, 100원{beg}개\")   \n",
    "    else:\n",
    "        print(\"잘못입력 하였습니다.\")\n",
    "        print(f\"투입금액 >> {mo}\")\n",
    "else:\n",
    "    print(\"잔액이 부족합니다\")\n",
    "    print(f\"투입금액 >> {mo}\")"
   ]
  },
  {
   "cell_type": "code",
   "execution_count": null,
   "id": "1e9fd3af",
   "metadata": {},
   "outputs": [],
   "source": []
  }
 ],
 "metadata": {
  "kernelspec": {
   "display_name": "Python 3 (ipykernel)",
   "language": "python",
   "name": "python3"
  },
  "language_info": {
   "codemirror_mode": {
    "name": "ipython",
    "version": 3
   },
   "file_extension": ".py",
   "mimetype": "text/x-python",
   "name": "python",
   "nbconvert_exporter": "python",
   "pygments_lexer": "ipython3",
   "version": "3.11.5"
  }
 },
 "nbformat": 4,
 "nbformat_minor": 5
}
