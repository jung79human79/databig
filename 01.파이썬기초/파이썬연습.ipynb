{
 "cells": [
  {
   "cell_type": "code",
   "execution_count": null,
   "id": "ed519d2c",
   "metadata": {},
   "outputs": [],
   "source": [
    "a=int(input (\"정수입력>>\"))\n",
    "b=int(input (\"정수입력>>\"))\n",
    "print ('더 큰값: ' , a if a>b else b) \n",
    "# 삼항연산자\n",
    "#print ('a: ',a)  if a>b else  print (\"b :\",b)"
   ]
  },
  {
   "cell_type": "code",
   "execution_count": null,
   "id": "dbee9d3e",
   "metadata": {},
   "outputs": [],
   "source": [
    "print('a');print('b')"
   ]
  },
  {
   "cell_type": "code",
   "execution_count": null,
   "id": "8a9d29b1",
   "metadata": {},
   "outputs": [],
   "source": [
    "print('a', end=',');print('b')"
   ]
  },
  {
   "cell_type": "code",
   "execution_count": null,
   "id": "6a34dbd8",
   "metadata": {},
   "outputs": [],
   "source": [
    "# 문자의 양쪽 공백을 없애주는 함수\n",
    "s = '우석,우건,준범'\n",
    "s.strip(\"우석\")"
   ]
  },
  {
   "cell_type": "code",
   "execution_count": null,
   "id": "c1d53bca",
   "metadata": {},
   "outputs": [],
   "source": [
    "# strip(): 문자의 양쪽 공백을 없애주는 함수\n",
    "s='                    안녕하세요                            '\n",
    "s.strip()"
   ]
  },
  {
   "cell_type": "code",
   "execution_count": null,
   "id": "0131a44e",
   "metadata": {},
   "outputs": [],
   "source": [
    "# : 기호를 기준으로 분열\n",
    "s= '우석:우건:준범'\n",
    "s.split(\":\")"
   ]
  },
  {
   "cell_type": "code",
   "execution_count": null,
   "id": "8103520f",
   "metadata": {},
   "outputs": [],
   "source": [
    "# : 기호를 기준으로 분열\n",
    "s= '우석:우건:준범'\n",
    "s.split(\",\")"
   ]
  },
  {
   "cell_type": "code",
   "execution_count": null,
   "id": "2da8416a",
   "metadata": {},
   "outputs": [],
   "source": [
    "s = '우석,우건,준범'\n",
    "s.split(\"우석\")"
   ]
  },
  {
   "cell_type": "code",
   "execution_count": null,
   "id": "483265c0",
   "metadata": {},
   "outputs": [],
   "source": [
    "s = 'a,b,c'\n",
    "s.split('b')"
   ]
  },
  {
   "cell_type": "code",
   "execution_count": null,
   "id": "1becfbeb",
   "metadata": {},
   "outputs": [],
   "source": [
    "# split() 나누어준다 문자열을~\n",
    "# s= '우석,우건,준범'\n",
    "# s.split(\",\")[1]\n",
    "s= '우석:우건:준범'\n",
    "s.split(\":\")[1]"
   ]
  },
  {
   "cell_type": "code",
   "execution_count": null,
   "id": "bc208370",
   "metadata": {},
   "outputs": [],
   "source": [
    "s= '안냥하세요. 상원씨, 상원아~~'\n",
    "s.replace(\"상원\",\"연재\")"
   ]
  },
  {
   "cell_type": "code",
   "execution_count": null,
   "id": "4d72c775",
   "metadata": {},
   "outputs": [],
   "source": [
    "# replace() : 기존의 문자,바꿀문자\n",
    "s= '안녕   하세요'\n",
    "s.replace(\"  \",\"\")"
   ]
  },
  {
   "cell_type": "markdown",
   "id": "d40108b1",
   "metadata": {},
   "source": [
    "###  파이썬예제1\n",
    "- print"
   ]
  },
  {
   "cell_type": "code",
   "execution_count": null,
   "id": "5f786a73",
   "metadata": {},
   "outputs": [],
   "source": [
    "#화면에 Hello World 문자열을 출력하세요.\n",
    "print('Hello World')"
   ]
  },
  {
   "cell_type": "code",
   "execution_count": null,
   "id": "ca810958",
   "metadata": {},
   "outputs": [],
   "source": [
    "#화면에 Mary's cosmetics을 출력하세요. (중간에 '가 있음에 주의하세요)\n",
    "print(\"Mary's cosmetics\")"
   ]
  },
  {
   "cell_type": "code",
   "execution_count": null,
   "id": "5760a143",
   "metadata": {},
   "outputs": [],
   "source": [
    "#화면에 아래 문장을 출력하세요. (중간에 \"가 있음에 주의하세요.)\n",
    "print('신씨가 소리질렀다. \"도둑이야\".')"
   ]
  },
  {
   "cell_type": "code",
   "execution_count": null,
   "id": "fcd4de00",
   "metadata": {},
   "outputs": [],
   "source": [
    "#화면에 C:\\Windows를 출력하세요.\n",
    "print('C:\\Windows')"
   ]
  },
  {
   "cell_type": "code",
   "execution_count": null,
   "id": "bd5c9dac",
   "metadata": {},
   "outputs": [],
   "source": [
    "# `\\t`는 탭을 의미하고 `\\n'`은 줄바꿈을 의미합니다.\n",
    "print(\"안녕하세요.\\n만나서\\t\\t반갑습니다.\")"
   ]
  },
  {
   "cell_type": "code",
   "execution_count": null,
   "id": "e8620b79",
   "metadata": {},
   "outputs": [],
   "source": [
    "# 여러 값을 출력하려면 print 함수에서 쉼표로 구분해주면 됩니다. \n",
    "# 따라서 오늘은 다음에 공백이 하나 있고 일요일이 출력됩니다.\n",
    "print (\"오늘은\", \"일요일\")"
   ]
  },
  {
   "cell_type": "code",
   "execution_count": null,
   "id": "41dc54b3",
   "metadata": {},
   "outputs": [],
   "source": [
    "print('naver;kakao;sk;samsung')\n",
    "print('naver','kakao','sk','samsung',sep=';')\n",
    "print('naver/kakao/sk/samsung')\n",
    "print('naver','kakao','sk','samsung',sep='/')"
   ]
  },
  {
   "cell_type": "code",
   "execution_count": null,
   "id": "27bdd961",
   "metadata": {},
   "outputs": [],
   "source": [
    "# 다음 코드를 수정하여 줄바꿈이 없이 출력하세요. (힌트: end='') print 함수는 두 번 사용합니다. \n",
    "# 세미콜론 (;)은 한줄에 여러 개의 명령을 작성하기 위해 사용합니다.\n",
    "print(\"first\",end=' ');print(\"second\")\n",
    "print(\"first\",end=' ')\n",
    "print(\"second\")"
   ]
  },
  {
   "cell_type": "code",
   "execution_count": null,
   "id": "5a092821",
   "metadata": {},
   "outputs": [],
   "source": [
    "# 5/3의 결과를 화면에 출력하세요.\n",
    "print(5/3)\n",
    "print(5*3)"
   ]
  },
  {
   "cell_type": "markdown",
   "id": "9ff0c111",
   "metadata": {},
   "source": [
    "### 파이썬예제2\n",
    "- 변수"
   ]
  },
  {
   "cell_type": "code",
   "execution_count": null,
   "id": "544b1f10",
   "metadata": {},
   "outputs": [],
   "source": [
    "# 삼성전자라는 변수로 50,000원을 바인딩해보세요. \n",
    "# 삼성전자 주식 10주를 보유하고 있을 때 총 평가금액을 출력하세요.\n",
    "sam=50000\n",
    "sto=10\n",
    "amo=sam*sto\n",
    "print(f'총평가금액: {amo}')"
   ]
  },
  {
   "cell_type": "code",
   "execution_count": null,
   "id": "77ccc390",
   "metadata": {},
   "outputs": [],
   "source": [
    "a=298\n",
    "b=50000\n",
    "per=15.79\n",
    "print(f'시가총액: {a}',type(a))\n",
    "print(f'현재가: {b}',type(b))\n",
    "print(f'per: {per}',type(per))"
   ]
  },
  {
   "cell_type": "code",
   "execution_count": null,
   "id": "ba9a6e9c",
   "metadata": {},
   "outputs": [],
   "source": [
    "s = \"hello\"\n",
    "t = \"python\"\n",
    "print(s,'!',t)\n",
    "print(s+'!',t)  # +기호 사용하면 띄어쓰기 해제"
   ]
  },
  {
   "cell_type": "code",
   "execution_count": null,
   "id": "fa25f2b0",
   "metadata": {},
   "outputs": [],
   "source": [
    "print(2 + 2 * 3)"
   ]
  },
  {
   "cell_type": "code",
   "execution_count": null,
   "id": "6d96385e",
   "metadata": {},
   "outputs": [],
   "source": [
    "a = \"132\"\n",
    "print(type(a))"
   ]
  },
  {
   "cell_type": "code",
   "execution_count": null,
   "id": "1a4eac8e",
   "metadata": {},
   "outputs": [],
   "source": [
    "#num_str = int(\"720\")\n",
    "num_str = \"720\"\n",
    "num_int = int(num_str)\n",
    "print(num_str,type(num_str))\n",
    "print(num_int+1, type(num_int))"
   ]
  },
  {
   "cell_type": "code",
   "execution_count": null,
   "id": "183107e9",
   "metadata": {},
   "outputs": [],
   "source": [
    "num = 100\n",
    "a = str(num)\n",
    "print(num+1,type(num))\n",
    "print(a+'!!!', type(a))"
   ]
  },
  {
   "cell_type": "code",
   "execution_count": null,
   "id": "bb84d571",
   "metadata": {},
   "outputs": [],
   "source": [
    "# 문자열 \"15.79\"를 실수(float) 타입으로 변환해보세요.\n",
    "a=float(\"15.79\")\n",
    "print(a+1,type(a))"
   ]
  },
  {
   "cell_type": "code",
   "execution_count": null,
   "id": "5c66be18",
   "metadata": {},
   "outputs": [],
   "source": [
    "year = int(\"2020\")\n",
    "print(year+1,year+2,year+3)\n",
    "print(int(year)-3)  \n",
    "print(int(year)-2)  \n",
    "print(int(year)-1)  "
   ]
  },
  {
   "cell_type": "code",
   "execution_count": null,
   "id": "cfd01a7e",
   "metadata": {},
   "outputs": [],
   "source": [
    "# 에이컨이 월 48,584원에 무이자 36개월의 조건으로 홈쇼핑에서 판매되고 있습니다. \n",
    "# 총 금액은 계산한 후 이를 화면에 출력해보세요. (변수사용하기)\n",
    "mo = 48584\n",
    "mon= 36\n",
    "total = mo*mon\n",
    "print(f'총 금액 : {total}')"
   ]
  },
  {
   "cell_type": "markdown",
   "id": "121fb2bd",
   "metadata": {},
   "source": [
    "###  파이썬예제3\n",
    "- 문자열 1"
   ]
  },
  {
   "cell_type": "code",
   "execution_count": null,
   "id": "58cbbc40",
   "metadata": {},
   "outputs": [],
   "source": [
    "# letters가 바인딩하는 문자열에서 첫번째와 세번째 문자를 출력하세요.\n",
    "letters = 'python'\n",
    "print(type(letters))\n",
    "print(letters[0],letters[2])  # 문자열에도 인덱싱,슬라이싱 가능"
   ]
  },
  {
   "cell_type": "code",
   "execution_count": null,
   "id": "4763c75d",
   "metadata": {},
   "outputs": [],
   "source": [
    "# 자동차 번호가 다음과 같을 때 뒤에 4자리만 출력하세요.\n",
    "license_plate = \"24가 2210\"\n",
    "print(license_plate[4:])\n",
    "print(license_plate[-4:])"
   ]
  },
  {
   "cell_type": "code",
   "execution_count": null,
   "id": "69c5ce6b",
   "metadata": {},
   "outputs": [],
   "source": [
    "string = \"홀짝홀짝홀짝\"\n",
    "print(string[0]+string[2]+string[4])\n",
    "print(string[0],string[2],string[4])\n",
    "# 슬라이싱할 때 `시작인덱스:끝인덱스:오프셋`을 지정할 수 있습니다. \n",
    "print(string[::2])\n",
    "print(string[::1])\n",
    "print(string[::3])\n",
    "print(string[::4])\n",
    "print(string[::5])\n",
    "\n",
    "print(string[::6])\n",
    "print(string[::7])\n",
    "print(string[::8])"
   ]
  },
  {
   "cell_type": "code",
   "execution_count": null,
   "id": "9b9969a4",
   "metadata": {},
   "outputs": [],
   "source": [
    "# 인덱스는 무조건 왼-->오\n",
    "string = \"PYTHON\"\n",
    "print(string[-1:0:1]) # 오류: 오-->왼\n",
    "print(string[::-1])"
   ]
  },
  {
   "cell_type": "code",
   "execution_count": null,
   "id": "f4e6ca90",
   "metadata": {},
   "outputs": [],
   "source": [
    "# 아래의 전화번호에서 하이푼 ('-')을 제거하고 출력하세요.\n",
    "# 파이썬 문자열에서 replace 메서드를 사용하면 문자열을 일부를 치환할 수 있습니다. \n",
    "# 문자열은 수정할 수 없는 자료형이므로 기존 문자열은 그대로 두고 치환된 새로운 문자열이 리턴됩니다.\n",
    "phone_number = \"010-1111-2222\"\n",
    "print(phone_number[:3]+phone_number[4:8]+phone_number[9:])\n",
    "print(phone_number[:3],phone_number[4:8],phone_number[9:])\n",
    "phone_number1 = phone_number.replace(\"-\", \" \")   # 띄기 \n",
    "print(phone_number1)\n",
    "phone_number1 = phone_number.replace(\"-\", \"\")    #붙이기\n",
    "print(phone_number1)"
   ]
  },
  {
   "cell_type": "code",
   "execution_count": null,
   "id": "6815bc55",
   "metadata": {},
   "outputs": [],
   "source": [
    "url = \"http://sharebook.kr\"\n",
    "print(url[-2:])\n",
    "\n",
    "url_split = url.split('.')\n",
    "print(url_split,type(url_split))     # split--> 리스트 타입      \n",
    "print(url_split[-1])\n",
    "print(url_split[0])\n",
    "print(url_split[1])"
   ]
  },
  {
   "cell_type": "code",
   "execution_count": null,
   "id": "7b94cd0c",
   "metadata": {},
   "outputs": [],
   "source": [
    "# 문자열은 immutable(불변,수정불가)\n",
    "lang = 'python'\n",
    "lang[0] = 'v'  # 수정불가 --> 에러\n",
    "print(lang[0])"
   ]
  },
  {
   "cell_type": "code",
   "execution_count": null,
   "id": "568143f9",
   "metadata": {},
   "outputs": [],
   "source": [
    "string = 'abcdfe2a354a32a'\n",
    "print(string.replace('a','A'))"
   ]
  },
  {
   "cell_type": "code",
   "execution_count": null,
   "id": "fd286792",
   "metadata": {},
   "outputs": [],
   "source": [
    "string = 'abcd'\n",
    "a=string.replace('b', 'B')\n",
    "print(a)"
   ]
  },
  {
   "cell_type": "code",
   "execution_count": null,
   "id": "750a8bfa",
   "metadata": {},
   "outputs": [],
   "source": [
    "# `abcd`가 그대로 출력됩니다. 왜냐하면 문자열은 변경할 수 없는 자료형이기 때문입니다. \n",
    "# replace 메서드를 사용하면 원본은 그대로 둔채로 변경된 새로운 문자열 객체를 리턴해줍니다.\n",
    "string = 'abcd'\n",
    "string.replace('b', 'B')\n",
    "print(string)"
   ]
  },
  {
   "cell_type": "markdown",
   "id": "44c00ccd",
   "metadata": {},
   "source": [
    "### 파이썬예제3\n",
    "- 문자열 2"
   ]
  },
  {
   "cell_type": "code",
   "execution_count": null,
   "id": "d9ae17c9",
   "metadata": {},
   "outputs": [],
   "source": [
    "a = \"3\"\n",
    "b = \"4\"\n",
    "print(a + b)\n",
    "print(a,b)"
   ]
  },
  {
   "cell_type": "code",
   "execution_count": null,
   "id": "422d4483",
   "metadata": {},
   "outputs": [],
   "source": [
    "print(\"Hi\" * 3)"
   ]
  },
  {
   "cell_type": "code",
   "execution_count": null,
   "id": "a03fa376",
   "metadata": {},
   "outputs": [],
   "source": [
    "print('-'*80)"
   ]
  },
  {
   "cell_type": "code",
   "execution_count": null,
   "id": "9bab1903",
   "metadata": {},
   "outputs": [],
   "source": [
    "t1 = 'python'\n",
    "t2 = 'java'\n",
    "\n",
    "print((t1+' '+t2+' ')*4)"
   ]
  },
  {
   "cell_type": "code",
   "execution_count": null,
   "id": "e30db874",
   "metadata": {},
   "outputs": [],
   "source": [
    "# % formatting\n",
    "# `%s`는 문자열 데이터 타입의 값을 `%d`는 정수형 데이터 타입 값의 출력\n",
    "name1 = \"김민수\" \n",
    "age1 = 10\n",
    "name2 = \"이철희\"\n",
    "age2 = 13\n",
    "print(\"이름: %s 나이: %d\" % (name1, age1))\n",
    "print(\"이름: %s 나이: %d\" % (name2, age2))\n",
    "# format( )\n",
    "print('이름: {} 나이: {}'.format(name1, age1))\n",
    "print('이름: {} 나이: {}'.format(name2, age2))\n",
    "# f-string\n",
    "print(f'이름: {name1} 나이: {age1}')\n",
    "print(f'이름: {name2} 나이: { age2}')"
   ]
  },
  {
   "cell_type": "code",
   "execution_count": null,
   "id": "eb2bd47b",
   "metadata": {},
   "outputs": [],
   "source": [
    "# 컴마를 제거한 후(replace) 이를 정수 타입으로 변환 --> 문자열에 컴마가 있는 경우 바로 변환안됨\n",
    "상장주식수 = \"5,969,782,550\"\n",
    "print(상장주식수.replace(',',''),type(int(상장주식수.replace(',',''))))\n",
    "a = 상장주식수.replace(',','')\n",
    "b = int(a)\n",
    "print(a,type(b))"
   ]
  },
  {
   "cell_type": "code",
   "execution_count": null,
   "id": "f38d2422",
   "metadata": {},
   "outputs": [],
   "source": [
    "# 변수에 저장 혹은 print()에서 직접 지정해줘야 replace는 적용됨\n",
    "c = \"5,969,782,550\"\n",
    "c.replace(',','')\n",
    "print(c)"
   ]
  },
  {
   "cell_type": "code",
   "execution_count": null,
   "id": "559a7736",
   "metadata": {},
   "outputs": [],
   "source": [
    "# 문자열에서 '2020/03'만 출력하세요.\n",
    "분기 = \"2020/03(E) (IFRS연결)\"\n",
    "print(분기[:7])"
   ]
  },
  {
   "cell_type": "code",
   "execution_count": null,
   "id": "774cd32a",
   "metadata": {},
   "outputs": [],
   "source": [
    "# 문자열의 좌우의 공백이 있을 때 이를 제거\n",
    "data = \"   삼성전자    \"\n",
    "print(data.strip())"
   ]
  },
  {
   "cell_type": "markdown",
   "id": "605d19ab",
   "metadata": {},
   "source": [
    "### 파이썬예제3\n",
    "- 문자열 3"
   ]
  },
  {
   "cell_type": "code",
   "execution_count": null,
   "id": "f13650f6",
   "metadata": {},
   "outputs": [],
   "source": [
    "# 대문자 BTC_KRW로 변경하세요.\n",
    "ticker = \"btc_krw\"\n",
    "a=ticker.upper()\n",
    "print(a)"
   ]
  },
  {
   "cell_type": "code",
   "execution_count": null,
   "id": "86209ba3",
   "metadata": {},
   "outputs": [],
   "source": [
    "# 소문자-->대문자로 변경하세요.\n",
    "ticker1 = \"BTC_KRW\"\n",
    "b=ticker1.lower()\n",
    "print(b)"
   ]
  },
  {
   "cell_type": "code",
   "execution_count": null,
   "id": "941c51c8",
   "metadata": {},
   "outputs": [],
   "source": [
    "# 문자열 'hello'가 있을 때 이를 'Hello'로 변경해보세요.\n",
    "st= 'hello'\n",
    "c=st.capitalize()\n",
    "print(c)"
   ]
  },
  {
   "cell_type": "code",
   "execution_count": null,
   "id": "733e5ae3",
   "metadata": {},
   "outputs": [],
   "source": [
    "# 파일 이름이 문자열로 저장되어 있을 때 endswith 메서드를 사용해서 파일 이름이 'xlsx' 또는 'xls'로 끝나는지 확인해보세요.\n",
    "file_name = \"보고서.xlsx\"\n",
    "file_name.endswith(\"xlsx\")\n",
    "print(file_name.endswith(\"xlsx\"))\n",
    "file_name.endswith((\"xlsx\", \"xls\"))\n"
   ]
  },
  {
   "cell_type": "code",
   "execution_count": null,
   "id": "7c4bad8b",
   "metadata": {},
   "outputs": [],
   "source": [
    "# 파일 이름이 문자열로 저장되어 있을 때 startswith 메서드를 사용해서 파일 이름이 '2020'로 시작하는지 확인해보세요.\n",
    "file_name = \"2020_보고서.xlsx\"\n",
    "file_name.startswith(\"2020\")"
   ]
  },
  {
   "cell_type": "code",
   "execution_count": null,
   "id": "41d047f4",
   "metadata": {},
   "outputs": [],
   "source": [
    "# 공백을 기준으로 문자열을 나눠보세요.\n",
    "ab = \"hello world\"\n",
    "bc=ab.split()\n",
    "print(bc)\n",
    "print(bc[0])\n",
    "print(bc[1])"
   ]
  },
  {
   "cell_type": "code",
   "execution_count": null,
   "id": "1b1b8380",
   "metadata": {},
   "outputs": [],
   "source": [
    "ticker5 = \"btc_krw\"\n",
    "ticker5.split('_')"
   ]
  },
  {
   "cell_type": "code",
   "execution_count": null,
   "id": "f13d9a28",
   "metadata": {},
   "outputs": [],
   "source": [
    "date = \"2020-05-01\"\n",
    "date.split('-')"
   ]
  },
  {
   "cell_type": "code",
   "execution_count": null,
   "id": "10e7f993",
   "metadata": {},
   "outputs": [],
   "source": [
    "data2 = \"039490     \"\n",
    "data2.rstrip()"
   ]
  },
  {
   "cell_type": "code",
   "execution_count": null,
   "id": "3fa85e42",
   "metadata": {},
   "outputs": [],
   "source": [
    "data3 = \"     039490\"\n",
    "data3.lstrip()"
   ]
  },
  {
   "cell_type": "markdown",
   "id": "7e384436",
   "metadata": {},
   "source": [
    "### 파이썬예제4\n",
    "- 리스트 1"
   ]
  },
  {
   "cell_type": "code",
   "execution_count": null,
   "id": "af90e2f8",
   "metadata": {},
   "outputs": [],
   "source": [
    "movie_rank=['닥터 스트레인지','스플릿','럭키']\n",
    "movie_rank\n",
    "type(movie_rank)"
   ]
  },
  {
   "cell_type": "code",
   "execution_count": null,
   "id": "c448b779",
   "metadata": {},
   "outputs": [],
   "source": [
    "movie_rank.append('배트맨')\n",
    "movie_rank"
   ]
  },
  {
   "cell_type": "code",
   "execution_count": null,
   "id": "6582fbb7",
   "metadata": {},
   "outputs": [],
   "source": [
    "movie_rank.insert(1,'슈퍼맨')\n",
    "movie_rank"
   ]
  },
  {
   "cell_type": "code",
   "execution_count": null,
   "id": "25099ee7",
   "metadata": {},
   "outputs": [],
   "source": [
    "# 수정\n",
    "movie_rank[1]='앤트맨'\n",
    "movie_rank"
   ]
  },
  {
   "cell_type": "code",
   "execution_count": null,
   "id": "f04b6617",
   "metadata": {},
   "outputs": [],
   "source": [
    "# 삭제\n",
    "movie_rank.remove('럭키')\n",
    "movie_rank"
   ]
  },
  {
   "cell_type": "code",
   "execution_count": null,
   "id": "919f7f69",
   "metadata": {},
   "outputs": [],
   "source": [
    "del movie_rank[3]\n",
    "movie_rank"
   ]
  },
  {
   "cell_type": "code",
   "execution_count": null,
   "id": "da742f35",
   "metadata": {},
   "outputs": [],
   "source": [
    "del movie_rank[1]\n",
    "del movie_rank[1]\n",
    "movie_rank"
   ]
  },
  {
   "cell_type": "code",
   "execution_count": null,
   "id": "41f3ba06",
   "metadata": {},
   "outputs": [],
   "source": [
    "movie_rank.insert(1,'앤트맨')\n",
    "movie_rank.insert(1,'스플릿')\n",
    "movie_rank"
   ]
  },
  {
   "cell_type": "code",
   "execution_count": null,
   "id": "b8c329dd",
   "metadata": {},
   "outputs": [],
   "source": [
    "del movie_rank[1:3]\n",
    "movie_rank"
   ]
  },
  {
   "cell_type": "code",
   "execution_count": null,
   "id": "c4b356d8",
   "metadata": {},
   "outputs": [],
   "source": [
    "lang1 = [\"C\", \"C++\", \"JAVA\"]\n",
    "lang2 = [\"Python\", \"Go\", \"C#\"]\n",
    "lang=lang1+lang2\n",
    "lang"
   ]
  },
  {
   "cell_type": "code",
   "execution_count": null,
   "id": "264b1250",
   "metadata": {},
   "outputs": [],
   "source": [
    "# min(), max() 함수 사용\n",
    "nums = [1, 2, 3, 4, 5, 6, 7]\n",
    "print('min :',min(nums))\n",
    "print('max :',max(nums))"
   ]
  },
  {
   "cell_type": "code",
   "execution_count": null,
   "id": "2fc1b3ed",
   "metadata": {},
   "outputs": [],
   "source": [
    "nums = [1, 2, 3, 4, 5]\n",
    "sum(nums)"
   ]
  },
  {
   "cell_type": "code",
   "execution_count": null,
   "id": "d662c721",
   "metadata": {},
   "outputs": [],
   "source": [
    "cook = [\"피자\", \"김밥\", \"만두\", \"양념치킨\", \"족발\", \"피자\", \"김치만두\", \"쫄면\", \"소시지\", \"라면\", \"팥빙수\", \"김치전\"]\n",
    "len(cook)"
   ]
  },
  {
   "cell_type": "code",
   "execution_count": null,
   "id": "3595565e",
   "metadata": {},
   "outputs": [],
   "source": [
    "# mean은 배열에서 평균\n",
    "import numpy as np\n",
    "nums1 = [1, 2, 3, 4, 5]\n",
    "arr=np.array(nums1)\n",
    "arr.mean()"
   ]
  },
  {
   "cell_type": "code",
   "execution_count": null,
   "id": "98eee93c",
   "metadata": {},
   "outputs": [],
   "source": [
    "# 리스트에서 평균\n",
    "nums2 = [1, 2, 3, 4, 5]\n",
    "av=sum(nums2)/len(nums2)\n",
    "av"
   ]
  },
  {
   "cell_type": "markdown",
   "id": "d458b24b",
   "metadata": {},
   "source": [
    "###  파이썬예제4\n",
    "- 리스트 2"
   ]
  },
  {
   "cell_type": "code",
   "execution_count": null,
   "id": "c8fef853",
   "metadata": {},
   "outputs": [],
   "source": [
    "price = ['20180728', 100, 130, 140, 150, 160, 170]\n",
    "price[1:]"
   ]
  },
  {
   "cell_type": "code",
   "execution_count": null,
   "id": "0e4afe56",
   "metadata": {},
   "outputs": [],
   "source": [
    "nums = [1, 2, 3, 4, 5, 6, 7, 8, 9, 10]\n",
    "print(nums[::2])\n",
    "print(nums[1::2])\n",
    "print(nums[::-1])\n",
    "print(nums[0])"
   ]
  },
  {
   "cell_type": "code",
   "execution_count": null,
   "id": "91f42171",
   "metadata": {},
   "outputs": [],
   "source": [
    "interest = ['삼성전자', 'LG전자', 'Naver']\n",
    "print(interest[0],interest[2])\n",
    "print(interest[::2])"
   ]
  },
  {
   "cell_type": "code",
   "execution_count": null,
   "id": "9b7763ba",
   "metadata": {},
   "outputs": [],
   "source": [
    "interest1 = ['삼성전자', 'LG전자', 'Naver', 'SK하이닉스', '미래에셋대우']\n",
    "print(interest1[0],interest1[1],interest1[2],interest1[3],interest1[4])\n",
    "print(interest1[:])\n",
    "print(\" \".join(interest1))\n",
    "print(\"\".join(interest1))\n",
    "print(\"/\".join(interest1))\n",
    "print(\"\\n\".join(interest1))"
   ]
  },
  {
   "cell_type": "code",
   "execution_count": null,
   "id": "b1361897",
   "metadata": {},
   "outputs": [],
   "source": [
    "# 회사 이름이 슬래시 ('/')로 구분되어 하나의 문자열로 저장되어 있다.\n",
    "# 이를 interest 이름의 리스트로 분리 저장하라.\n",
    "# 문자열 split 메서드\n",
    "string = \"삼성전자/LG전자/Naver\"\n",
    "#inn = [string[0:4],string[5:9],string[10:]]\n",
    "inn=string.split('/')\n",
    "print(inn)"
   ]
  },
  {
   "cell_type": "code",
   "execution_count": null,
   "id": "c86e73c4",
   "metadata": {},
   "outputs": [],
   "source": [
    "string11 = \"삼성전자,LG전자,Naver\"\n",
    "string11.split(',')"
   ]
  },
  {
   "cell_type": "code",
   "execution_count": null,
   "id": "95c1abed",
   "metadata": {},
   "outputs": [],
   "source": [
    "# 오름차순\n",
    "data = [2, 4, 3, 1, 5, 10, 9]\n",
    "data.sort()\n",
    "print(data)"
   ]
  },
  {
   "cell_type": "code",
   "execution_count": null,
   "id": "1a622480",
   "metadata": {},
   "outputs": [],
   "source": [
    "# 오름차순\n",
    "data22 = [2, 4, 3, 1, 5, 10, 9]\n",
    "data20 = sorted(data22)\n",
    "print(data20)"
   ]
  },
  {
   "cell_type": "code",
   "execution_count": null,
   "id": "dd94bc22",
   "metadata": {},
   "outputs": [],
   "source": [
    "# 리스트를 반대로 뒤집는 함수 --> reverse()\n",
    "abcdef= [13,27,1,32,45,7]\n",
    "abcdef.reverse()\n",
    "abcdef"
   ]
  },
  {
   "cell_type": "code",
   "execution_count": null,
   "id": "c090253f",
   "metadata": {},
   "outputs": [],
   "source": [
    "# 내림 차순 정렬\n",
    "abcdefg= [13,27,1,32,45,7]\n",
    "abcdefg.sort(reverse=True) # sort내에 reverse 기본값이 존재하는데 false이다\n",
    "abcdefg"
   ]
  },
  {
   "cell_type": "markdown",
   "id": "49a16e17",
   "metadata": {},
   "source": [
    "### 파이썬예제5\n",
    "- 튜플"
   ]
  },
  {
   "cell_type": "code",
   "execution_count": null,
   "id": "0e260acf",
   "metadata": {},
   "outputs": [],
   "source": [
    "my_variable=()\n",
    "type(my_variable)\n",
    "print(type(my_variable))"
   ]
  },
  {
   "cell_type": "code",
   "execution_count": null,
   "id": "d69f5162",
   "metadata": {},
   "outputs": [],
   "source": [
    "movie_rank = ('닥터 스트레인지','스플릿','럭키')\n",
    "print(type(movie_rank))\n",
    "print(movie_rank)"
   ]
  },
  {
   "cell_type": "code",
   "execution_count": null,
   "id": "1950caab",
   "metadata": {},
   "outputs": [],
   "source": [
    "# 숫자 1 이 저장된 튜플을 생성하라.\n",
    "num = (1,)          # 쉼표를 입력\n",
    "print(type(num))"
   ]
  },
  {
   "cell_type": "code",
   "execution_count": null,
   "id": "75e731c3",
   "metadata": {},
   "outputs": [],
   "source": [
    "# tuple은 원소(element)의 값을 변경할 수 없습니다.\n",
    "t = (1, 2, 3)\n",
    "t[0] = 'a'  # 리스는 수정 가능\n",
    "t"
   ]
  },
  {
   "cell_type": "code",
   "execution_count": null,
   "id": "7491f9e8",
   "metadata": {},
   "outputs": [],
   "source": [
    "# tuple은 원소(element)의 값을 변경할 수 없습니다.\n",
    "t2 = 1,2,3\n",
    "t2[0] = 4\n",
    "t2"
   ]
  },
  {
   "cell_type": "code",
   "execution_count": null,
   "id": "2e784c43",
   "metadata": {},
   "outputs": [],
   "source": [
    "# 원칙적으로 튜플은 괄호와 함께 데이터를 정의해야 하지만, 사용자 편의를 위해 괄호 없이도 동작합니다.\n",
    "t = 1, 2, 3, 4\n",
    "print(type(t))\n",
    "c = '1','2'\n",
    "print(type(c))\n",
    "a = [1,2,3]\n",
    "print(type(a))"
   ]
  },
  {
   "cell_type": "code",
   "execution_count": null,
   "id": "4b4e4948",
   "metadata": {},
   "outputs": [],
   "source": [
    "# 변수 t가 ('A', 'b', 'c') 튜플을 가리키도록 수정\n",
    "# 새로운 튜플을 만들고 t 라는 변수를 업데이트 해야 합니다. 기존의 튜플 ('a', 'b', 'c')은 자동으로 삭제됩니다.\n",
    "t = ('a', 'b', 'c')\n",
    "t = ('A', 'b', 'c')\n",
    "t"
   ]
  },
  {
   "cell_type": "code",
   "execution_count": null,
   "id": "093899e8",
   "metadata": {},
   "outputs": [],
   "source": [
    "# 튜플을 리스트로 변환하라\n",
    "interest = ('삼성전자', 'LG전자', 'SK Hynix')\n",
    "data = list(interest)\n",
    "data"
   ]
  },
  {
   "cell_type": "code",
   "execution_count": null,
   "id": "f3ce93ec",
   "metadata": {},
   "outputs": [],
   "source": [
    "# 형변환 --> 문자열1개는 튜플,리스트로 변환가능  --> 정수1개는 변환불가 \n",
    "ab = 'a'\n",
    "print(type(ab))\n",
    "sd = tuple(ab)\n",
    "print(type(sd))\n",
    "print(sd)"
   ]
  },
  {
   "cell_type": "code",
   "execution_count": null,
   "id": "1f712c14",
   "metadata": {},
   "outputs": [],
   "source": [
    "ab2 = 'a'\n",
    "print(type(ab2))\n",
    "sd2 = list(ab2)\n",
    "print(type(sd2))\n",
    "print(sd2)"
   ]
  },
  {
   "cell_type": "code",
   "execution_count": null,
   "id": "92f2ebfe",
   "metadata": {},
   "outputs": [],
   "source": [
    "# 2개이상 문자로 된 문자열은 분리되면서 튜플,리스트로 변환\n",
    "ab3 = 'abc'\n",
    "print(type(ab3))\n",
    "sd3 = tuple(ab3)\n",
    "print(type(sd3))\n",
    "print(sd3)"
   ]
  },
  {
   "cell_type": "code",
   "execution_count": null,
   "id": "62115d2a",
   "metadata": {},
   "outputs": [],
   "source": [
    "ab4 = 'abc'\n",
    "print(type(ab4))\n",
    "sd4 = list(ab4)\n",
    "print(type(sd4))\n",
    "print(sd4)"
   ]
  },
  {
   "cell_type": "code",
   "execution_count": null,
   "id": "c1eec580",
   "metadata": {},
   "outputs": [],
   "source": [
    "# 정수는 튜플이나 리스트로 형변환 안됨\n",
    "ab5 = 1\n",
    "print(type(ab5))\n",
    "sd5 = tuple(ab5)\n",
    "print(type(sd5))\n",
    "print(sd5)"
   ]
  },
  {
   "cell_type": "code",
   "execution_count": null,
   "id": "251b6f3d",
   "metadata": {},
   "outputs": [],
   "source": [
    "# 정수는 튜플이나 리스트로 형변환 안됨\n",
    "ab6 = 123\n",
    "print(type(ab6))\n",
    "sd6 = list(ab6)\n",
    "print(type(sd6))\n",
    "print(sd6)"
   ]
  },
  {
   "cell_type": "code",
   "execution_count": null,
   "id": "e8b3b4bd",
   "metadata": {},
   "outputs": [],
   "source": [
    "interest2 = ['삼성전자', 'LG전자', 'SK Hynix']\n",
    "qw = tuple(interest2)\n",
    "qw"
   ]
  },
  {
   "cell_type": "code",
   "execution_count": null,
   "id": "1ae802dc",
   "metadata": {},
   "outputs": [],
   "source": [
    "temp = ('apple', 'banana', 'cake')\n",
    "a, b, c = temp\n",
    "print(a, b, c)\n",
    "print(temp)"
   ]
  },
  {
   "cell_type": "code",
   "execution_count": null,
   "id": "3e8eff62",
   "metadata": {},
   "outputs": [],
   "source": [
    "temp2 = ['apple', 'banana', 'cake']\n",
    "a, b, c = temp2\n",
    "print(a,b,c)\n",
    "print(temp2)"
   ]
  },
  {
   "cell_type": "code",
   "execution_count": null,
   "id": "69a5c46b",
   "metadata": {},
   "outputs": [],
   "source": [
    "# 1 부터 99까지의 정수 중 짝수만 저장된 튜플을 생성하라.\n",
    "op = []\n",
    "for i in range(1,100) :\n",
    "    if i%2==0 :\n",
    "        op.append(i)\n",
    "print(op)\n",
    "kl = tuple(op)\n",
    "print(kl)\n",
    "    "
   ]
  },
  {
   "cell_type": "code",
   "execution_count": null,
   "id": "691c109d",
   "metadata": {},
   "outputs": [],
   "source": [
    "data11 = tuple(range(2, 100, 2))\n",
    "print( data11 )"
   ]
  },
  {
   "cell_type": "code",
   "execution_count": null,
   "id": "30393859",
   "metadata": {},
   "outputs": [],
   "source": [
    "data12 = list(range(2, 100, 2))\n",
    "print( data12 )"
   ]
  },
  {
   "cell_type": "code",
   "execution_count": null,
   "id": "b4778773",
   "metadata": {},
   "outputs": [],
   "source": [
    "# 정수--> 인덱싱 불가 \n",
    "# 문자열 --> 인덱싱 가능\n",
    "vb = 123456\n",
    "#print(vb[0])\n",
    "vb1 = '123456'\n",
    "print(vb1[0])"
   ]
  },
  {
   "cell_type": "code",
   "execution_count": null,
   "id": "547ea359",
   "metadata": {},
   "outputs": [],
   "source": [
    "oo = [1,2,3,4,5]\n",
    "oo[:3] # 1,2,3       +1\n",
    "oo[4:1:-1] # 5,4,3   -1"
   ]
  },
  {
   "cell_type": "code",
   "execution_count": null,
   "id": "a4973939",
   "metadata": {},
   "outputs": [],
   "source": [
    "data13 = tuple(range(10,0,-1))\n",
    "print( data13 )"
   ]
  },
  {
   "cell_type": "code",
   "execution_count": null,
   "id": "111d5446",
   "metadata": {},
   "outputs": [],
   "source": [
    "data13 = list(range(10,0,-1))\n",
    "print( data13 )"
   ]
  },
  {
   "cell_type": "markdown",
   "id": "a7d7b024",
   "metadata": {},
   "source": [
    "### 파이썬예제6\n",
    "- 딕셔너리 1"
   ]
  },
  {
   "cell_type": "code",
   "execution_count": null,
   "id": "bf4e49de",
   "metadata": {},
   "outputs": [],
   "source": [
    "# 데이터 언패킹\n",
    "a, b, *c = (0, 1, 2, 3, 4, 5)\n",
    "print(a)\n",
    "print(b)\n",
    "print(c)"
   ]
  },
  {
   "cell_type": "code",
   "execution_count": null,
   "id": "a5acf4eb",
   "metadata": {},
   "outputs": [],
   "source": [
    "scores = [8.8, 8.9, 8.7, 9.2, 9.3, 9.7, 9.9, 9.5, 7.8, 9.4]\n",
    "*valid_score,_,_ = scores\n",
    "#*valid_score, = scores --> 전체\n",
    "#*valid_score,b,c = scores\n",
    "print(valid_score)"
   ]
  },
  {
   "cell_type": "code",
   "execution_count": null,
   "id": "febda6eb",
   "metadata": {},
   "outputs": [],
   "source": [
    "scores1 = ['a','b','c']\n",
    "*valid_score1, = scores1  #전체\n",
    "#*valid_score,b,c = scores\n",
    "print(valid_score1)"
   ]
  },
  {
   "cell_type": "code",
   "execution_count": null,
   "id": "3c15d822",
   "metadata": {},
   "outputs": [],
   "source": [
    "scores2 = [8.8, 8.9, 8.7, 9.2, 9.3, 9.7, 9.9, 9.5, 7.8, 9.4]\n",
    "_,_,*valid_score2 = scores2\n",
    "print(valid_score2)"
   ]
  },
  {
   "cell_type": "code",
   "execution_count": null,
   "id": "5266e62f",
   "metadata": {},
   "outputs": [],
   "source": [
    "scores3 = [8.8, 8.9, 8.7, 9.2, 9.3, 9.7, 9.9, 9.5, 7.8, 9.4]\n",
    "_,*a,_ = scores3\n",
    "print(a)"
   ]
  },
  {
   "cell_type": "code",
   "execution_count": null,
   "id": "88db8fe3",
   "metadata": {},
   "outputs": [],
   "source": [
    "temp={'메로나':1000 , '폴라포':1200 , '빵빠레':1800}\n",
    "temp"
   ]
  },
  {
   "cell_type": "code",
   "execution_count": null,
   "id": "1aeacfb3",
   "metadata": {},
   "outputs": [],
   "source": [
    "# 2개 추가\n",
    "temp['죠스바']=1200\n",
    "temp['월드콘']=1500\n",
    "temp"
   ]
  },
  {
   "cell_type": "code",
   "execution_count": null,
   "id": "eec0f4d3",
   "metadata": {},
   "outputs": [],
   "source": [
    "# 메로나 가격 출력\n",
    "aa = temp['메로나']\n",
    "print('메로나 가격 :' ,temp['메로나'])\n",
    "print(f'메로나 가격 : {aa}')"
   ]
  },
  {
   "cell_type": "code",
   "execution_count": null,
   "id": "465a0f95",
   "metadata": {},
   "outputs": [],
   "source": [
    "# 메로나 가격 수정\n",
    "temp['메로나']=1300\n",
    "temp"
   ]
  },
  {
   "cell_type": "code",
   "execution_count": null,
   "id": "57989df0",
   "metadata": {},
   "outputs": [],
   "source": [
    "# 메로나 삭제\n",
    "del temp['메로나']\n",
    "temp"
   ]
  },
  {
   "cell_type": "code",
   "execution_count": null,
   "id": "b99a18cd",
   "metadata": {},
   "outputs": [],
   "source": [
    "# 딕셔너리에 없는 키를 사용해서 인덱싱하면 에러가 발생합니다. --> 키에러\n",
    "icecream = {'폴라포': 1200, '빵빠레': 1800, '월드콘': 1500, '메로나': 1000}\n",
    "icecream['누가바']"
   ]
  },
  {
   "cell_type": "markdown",
   "id": "66688479",
   "metadata": {},
   "source": [
    "###  파이썬예제6\n",
    "- 딕셔너리 2"
   ]
  },
  {
   "cell_type": "code",
   "execution_count": null,
   "id": "2de3fa93",
   "metadata": {},
   "outputs": [],
   "source": [
    "inventory = {'메로나':[300,20],'비비빅':[400,3],'죠스바':[250,100]}\n",
    "inventory"
   ]
  },
  {
   "cell_type": "code",
   "execution_count": null,
   "id": "67c4262a",
   "metadata": {},
   "outputs": [],
   "source": [
    "# inventory 딕셔너리에서 메로나의 가격을 화면에 출력하라.\n",
    "# 딕셔너리 인덱싱\n",
    "print(inventory['메로나'][0],'원')"
   ]
  },
  {
   "cell_type": "code",
   "execution_count": null,
   "id": "e5f2139e",
   "metadata": {},
   "outputs": [],
   "source": [
    "# inventory 딕셔너리에서 메로나의 재고를 화면에 출력하라.\n",
    "print(inventory['메로나'][1],'개')"
   ]
  },
  {
   "cell_type": "code",
   "execution_count": null,
   "id": "3559e714",
   "metadata": {},
   "outputs": [],
   "source": [
    "# inventory 딕셔너리에 데이터를 추가하라.\n",
    "inventory['월드콘'] =[500,7]\n",
    "inventory"
   ]
  },
  {
   "cell_type": "code",
   "execution_count": null,
   "id": "9399c24d",
   "metadata": {},
   "outputs": [],
   "source": [
    "# key 값으로만 구성된 리스트 생성\n",
    "icecream = {'탱크보이': 1200, '폴라포': 1200, '빵빠레': 1800, '월드콘': 1500, '메로나': 1000}\n",
    "#icecream.keys()  # 완전 리스트 모양은 아니다\n",
    "#type(icecream.keys())\n",
    "#type(icecream)\n",
    "ice = list(icecream.keys())\n",
    "print(ice)"
   ]
  },
  {
   "cell_type": "code",
   "execution_count": null,
   "id": "aa58eeeb",
   "metadata": {},
   "outputs": [],
   "source": [
    "# values 값으로만 구성된 리스트 생성\n",
    "bbb=list(icecream.values())\n",
    "print(bbb)"
   ]
  },
  {
   "cell_type": "code",
   "execution_count": null,
   "id": "7f2d0b87",
   "metadata": {},
   "outputs": [],
   "source": [
    "print(sum(icecream.values()))\n",
    "print(sum(icecream.values()))"
   ]
  },
  {
   "cell_type": "code",
   "execution_count": null,
   "id": "145a6772",
   "metadata": {},
   "outputs": [],
   "source": [
    "# update 메서드  --> 같은 딕셔너리 추가\n",
    "icecream = {'탱크보이': 1200, '폴라포': 1200, '빵빠레': 1800, '월드콘': 1500, '메로나': 1000}\n",
    "new_product = {'팥빙수':2700, '아맛나':1000}\n",
    "icecream.update(new_product)\n",
    "icecream"
   ]
  },
  {
   "cell_type": "code",
   "execution_count": null,
   "id": "7afedf5f",
   "metadata": {},
   "outputs": [],
   "source": [
    "# zip과 dict(형변환)\n",
    "# 두 개의 튜플을 하나의 딕셔너리로 변환\n",
    "keys = (\"apple\", \"pear\", \"peach\")\n",
    "vals = (300, 250, 400)\n",
    "rel = dict(zip(keys, vals))\n",
    "rel\n",
    "#type(rel)"
   ]
  },
  {
   "cell_type": "code",
   "execution_count": null,
   "id": "c177478d",
   "metadata": {},
   "outputs": [],
   "source": [
    "# zip과 dict(형변환)\n",
    "# 두 개의 list을 하나의 딕셔너리로 변환\n",
    "date = ['09/05', '09/06', '09/07', '09/08', '09/09']\n",
    "close_price = [10500, 10300, 10100, 10800, 11000]\n",
    "close_table = dict(zip(date, close_price))\n",
    "close_table\n",
    "#type(close_table)"
   ]
  },
  {
   "cell_type": "markdown",
   "id": "0517377f",
   "metadata": {},
   "source": [
    "###  파이썬예제7\n",
    "- 분기문 1"
   ]
  },
  {
   "cell_type": "code",
   "execution_count": null,
   "id": "02cfa73a",
   "metadata": {},
   "outputs": [],
   "source": [
    "# 파이썬에서 True 혹은 False를 갖는 데이터 타입 --> bool` 타입\n",
    "print(3 == 5)\n",
    "print(3 < 5)"
   ]
  },
  {
   "cell_type": "code",
   "execution_count": null,
   "id": "06a5c491",
   "metadata": {},
   "outputs": [],
   "source": [
    "x = 4\n",
    "print(1 < x < 5)\n",
    "print ((3 == 3) and (4 != 3))"
   ]
  },
  {
   "cell_type": "code",
   "execution_count": null,
   "id": "646e7320",
   "metadata": {},
   "outputs": [],
   "source": [
    "print(3 => 4)  # 지원하지 않는 연산자"
   ]
  },
  {
   "cell_type": "code",
   "execution_count": null,
   "id": "4ea8ade7",
   "metadata": {},
   "outputs": [],
   "source": [
    "# 조건을 만족하지 않기 때문에 아무 결과도 출력되지 않습니다.\n",
    "if 4 < 3:\n",
    "    print(\"Hello World\")"
   ]
  },
  {
   "cell_type": "code",
   "execution_count": null,
   "id": "be9e7d87",
   "metadata": {},
   "outputs": [],
   "source": [
    "# 조건을 만족하지 않기 때문에 else에서 들여쓰기 된 문장이 실행됩니다.\n",
    "if 4 < 3:\n",
    "    print(\"Hello World.\")\n",
    "else:\n",
    "    print(\"Hi, there.\")"
   ]
  },
  {
   "cell_type": "code",
   "execution_count": null,
   "id": "4989d52e",
   "metadata": {},
   "outputs": [],
   "source": [
    "if True :\n",
    "    print (\"1\")\n",
    "    print (\"2\")\n",
    "else :\n",
    "    print(\"3\")\n",
    "print(\"4\")"
   ]
  },
  {
   "cell_type": "code",
   "execution_count": null,
   "id": "cc7737c2",
   "metadata": {},
   "outputs": [],
   "source": [
    "if True :\n",
    "    if False:\n",
    "        print(\"1\")\n",
    "        print(\"2\")\n",
    "    else:\n",
    "        print(\"3\")\n",
    "else :\n",
    "    print(\"4\")\n",
    "print(\"5\")"
   ]
  },
  {
   "cell_type": "markdown",
   "id": "1edb977f",
   "metadata": {},
   "source": [
    "### 파이썬예제7\n",
    "- 분기문 2"
   ]
  },
  {
   "cell_type": "code",
   "execution_count": null,
   "id": "139970a2",
   "metadata": {},
   "outputs": [],
   "source": [
    "a = input(\"사용자입력>> \")\n",
    "print(a*2)"
   ]
  },
  {
   "cell_type": "code",
   "execution_count": null,
   "id": "c9239a3b",
   "metadata": {},
   "outputs": [],
   "source": [
    "b = int(input(\"숫자를 입력하세요>> \"))\n",
    "print(b+10)"
   ]
  },
  {
   "cell_type": "code",
   "execution_count": null,
   "id": "38691098",
   "metadata": {},
   "outputs": [],
   "source": [
    "# 위와 동일 로직\n",
    "user = input(\"숫자를 입력하세요: \")\n",
    "print(10 + int(user))"
   ]
  },
  {
   "cell_type": "code",
   "execution_count": null,
   "id": "d1c5de99",
   "metadata": {},
   "outputs": [],
   "source": [
    "# 사용자로부터 하나의 숫자를 입력 받고 짝수/홀수를 판별하라.\n",
    "# 나의 연습\n",
    "c = input(\"\")\n",
    "\n",
    "if c=='1':\n",
    "    d = input(\"\")\n",
    "    if int(d) % 2 == 0:\n",
    "        print(\"짝수\")\n",
    "    else:\n",
    "        print(\"홀수\")\n",
    "else :\n",
    "    print('입력오류')\n"
   ]
  },
  {
   "cell_type": "code",
   "execution_count": null,
   "id": "d3f54f4a",
   "metadata": {},
   "outputs": [],
   "source": [
    "# 사용자로부터 하나의 숫자를 입력 받고 짝수/홀수를 판별하라.\n",
    "user = input(\"\")\n",
    "if int(user) % 2 == 0:\n",
    "    print(\"짝수\")\n",
    "else:\n",
    "    print(\"홀수\")"
   ]
  },
  {
   "cell_type": "code",
   "execution_count": null,
   "id": "c52334be",
   "metadata": {},
   "outputs": [],
   "source": [
    "# 사용자로부터 값을 입력받은 후 해당 값에 20을 더한 값을 출력하라. \n",
    "# 단 사용자가 입력한 값과 20을 더한 계산 값이 255를 초과하는 경우 255를 출력해야 한다.\n",
    "a = input(\"입력값>> \")\n",
    "\n",
    "if int(a)+20 <= 255 :\n",
    "    print(\"출력값: \",int(a)+20)\n",
    "else :\n",
    "    print(\"출력값: 255\")"
   ]
  },
  {
   "cell_type": "code",
   "execution_count": null,
   "id": "68c3be50",
   "metadata": {},
   "outputs": [],
   "source": [
    "a = input(\"입력값>> \")\n",
    "b = 255\n",
    "c = int(a)+20\n",
    "d = 0\n",
    "if c <= 255 :\n",
    "    d = c\n",
    "    #print(\"출력값: \",c)\n",
    "else :\n",
    "    d = b\n",
    "    #print(\"출력값: \",b)\n",
    "print(\"출력값: \",d)"
   ]
  },
  {
   "cell_type": "code",
   "execution_count": null,
   "id": "b7387a75",
   "metadata": {},
   "outputs": [],
   "source": [
    "user = input(\"입력값: \")\n",
    "num = 20 + int(user)\n",
    "if num > 255:\n",
    "    print(255)\n",
    "else:\n",
    "    print(num)"
   ]
  },
  {
   "cell_type": "code",
   "execution_count": null,
   "id": "bbac7d58",
   "metadata": {},
   "outputs": [],
   "source": [
    "# 사용자로부터 하나의 값을 입력받은 후 해당 값에 20을 뺀 값을 출력하라. 단 출력 값의 범위는 0~255이다. \n",
    "# 예를 들어 결괏값이 0보다 작은 값이되는 경우 0을 출력하고 255보다 큰 값이 되는 경우 255를 출력해야 한다.\n"
   ]
  },
  {
   "cell_type": "code",
   "execution_count": null,
   "id": "7967a0cf",
   "metadata": {},
   "outputs": [],
   "source": [
    "a = input(\"입력값>> \")\n",
    "b = int(a)-20\n",
    "c = 255\n",
    "d = 0\n",
    "if 0<=b<=255 :\n",
    "    d = b\n",
    "elif b < 0 :\n",
    "    d\n",
    "else :\n",
    "    d = c\n",
    "print(\"출력값: \",d)"
   ]
  },
  {
   "cell_type": "code",
   "execution_count": null,
   "id": "a1f7d44f",
   "metadata": {},
   "outputs": [],
   "source": [
    "user = input(\"입력값: \")\n",
    "num = int(user) - 20\n",
    "if num > 255:\n",
    "    print(255)\n",
    "elif num < 0:\n",
    "    print(0)\n",
    "else:\n",
    "    print(num)"
   ]
  },
  {
   "cell_type": "code",
   "execution_count": null,
   "id": "13ebdb33",
   "metadata": {},
   "outputs": [],
   "source": [
    "a = input(\"현재시간: \")\n",
    "if a[3:]=='00':     # 오답 \n",
    "    print('정각')\n",
    "else :\n",
    "    print('정각아님')"
   ]
  },
  {
   "cell_type": "code",
   "execution_count": null,
   "id": "09ae44e3",
   "metadata": {},
   "outputs": [],
   "source": [
    "time = input(\"현재시간: \")\n",
    "if time[-2:] == \"00\":        #정답\n",
    "    print(\"정각 입니다.\")\n",
    "else:\n",
    "    print(\"정각이 아닙니다.\")"
   ]
  },
  {
   "cell_type": "code",
   "execution_count": null,
   "id": "204f267c",
   "metadata": {},
   "outputs": [],
   "source": [
    "fruit = [\"사과\", \"포도\", \"홍시\"]\n",
    "*b, = fruit\n",
    "b"
   ]
  },
  {
   "cell_type": "code",
   "execution_count": null,
   "id": "14c1daf3",
   "metadata": {},
   "outputs": [],
   "source": [
    "# 사용자로 입력받은 단어가 아래 fruit 리스트에 포함되어 있는지를 확인하라. \n",
    "# 포함되었다면 \"정답입니다\"를 아닐 경우 \"오답입니다\" 출력하라.\n",
    "# 오답\n",
    "a = input(\"좋아하는 과일은?\")\n",
    "fruit = [\"사과\", \"포도\", \"홍시\"]\n",
    "*b, = fruit\n",
    "if a == b[0] or a == b[1] or a == b[2] :\n",
    "    print('정답입니다.')\n",
    "else :\n",
    "    print('오답입니다.')"
   ]
  },
  {
   "cell_type": "code",
   "execution_count": null,
   "id": "c18eeb30",
   "metadata": {},
   "outputs": [],
   "source": [
    "# 오답\n",
    "a = input(\"좋아하는 과일은?\")\n",
    "fruit = [\"사과\", \"포도\", \"홍시\"]\n",
    "\n",
    "if a == fruit[0] or a == fruit[1] or a == fruit[2] :\n",
    "    print('정답입니다.')\n",
    "else :\n",
    "    print('오답입니다.')"
   ]
  },
  {
   "cell_type": "code",
   "execution_count": null,
   "id": "591a47f8",
   "metadata": {},
   "outputs": [],
   "source": [
    "# 오답\n",
    "a = input(\"좋아하는 과일은?\")\n",
    "fruit = [\"사과\", \"포도\", \"홍시\"]\n",
    "\n",
    "for i in fruit :\n",
    "    if a == i :\n",
    "        print('정답입니다.')\n",
    "    else  :\n",
    "        print('오답입니다.')"
   ]
  },
  {
   "cell_type": "code",
   "execution_count": null,
   "id": "511d3301",
   "metadata": {},
   "outputs": [],
   "source": [
    "# 정답 --> in함수\n",
    "fruit = [\"사과\", \"포도\", \"홍시\"]\n",
    "user = input(\"좋아하는 과일은?\")\n",
    "if user in fruit:\n",
    "    print(\"정답입니다.\")\n",
    "else:\n",
    "    print(\"오답입니다.\")"
   ]
  },
  {
   "cell_type": "code",
   "execution_count": null,
   "id": "3333e05f",
   "metadata": {},
   "outputs": [],
   "source": [
    "warn_investment_list = [\"Microsoft\", \"Google\", \"Naver\", \"Kakao\", \"SAMSUNG\", \"LG\"]\n",
    "user = input(\"종목명을 입력>> \")\n",
    "if user in warn_investment_list :\n",
    "    print(\"투자 경고 종목입니다.\")\n",
    "else:\n",
    "    print(\"투자 경고 종목이 아닙니다.\")"
   ]
  },
  {
   "cell_type": "code",
   "execution_count": null,
   "id": "63ee3898",
   "metadata": {},
   "outputs": [],
   "source": [
    "fruit = {\"봄\" : \"딸기\", \"여름\" : \"토마토\", \"가을\" : \"사과\"}\n",
    "user = input(\"키값 입력>> \")\n",
    "if user in fruit :         # fruit.keys()도 같은 결과\n",
    "    print(\"정답입니다.\")\n",
    "else:\n",
    "    print(\"오답입니다.\")"
   ]
  },
  {
   "cell_type": "code",
   "execution_count": null,
   "id": "1e6f12ff",
   "metadata": {},
   "outputs": [],
   "source": [
    "fruit = {\"봄\" : \"딸기\", \"여름\" : \"토마토\", \"가을\" : \"사과\"}\n",
    "user = input(\"밸류값 입력>> \")\n",
    "if user in fruit.values() :   # values() 생략시 에러    \n",
    "    print(\"정답입니다.\")\n",
    "else:\n",
    "    print(\"오답입니다.\")"
   ]
  },
  {
   "cell_type": "markdown",
   "id": "2276c56e",
   "metadata": {},
   "source": [
    "### 파이썬예제7\n",
    "- 분기문 3"
   ]
  },
  {
   "cell_type": "code",
   "execution_count": null,
   "id": "bd4f58bf",
   "metadata": {},
   "outputs": [],
   "source": [
    "user = input(\"영어 문자 입력>> \")\n",
    "\n",
    "if user.islower() :\n",
    "    print(user.upper())\n",
    "elif user.isupper() :\n",
    "    print(user.lower())\n",
    "else :\n",
    "    print('영어를 적어라')"
   ]
  },
  {
   "cell_type": "code",
   "execution_count": null,
   "id": "46c13e0f",
   "metadata": {},
   "outputs": [],
   "source": [
    "score = input(\"점수입력>> \")\n",
    "gr = ''\n",
    "if 0<=int(score)<=100 :\n",
    "    if 81 <= int(score)  :\n",
    "        gr = 'A'\n",
    "    elif 61 <= int(score) :\n",
    "        gr = 'b'\n",
    "    elif 41 <= int(score) :\n",
    "        gr = 'c'\n",
    "    elif 21 <= int(score) :\n",
    "        gr = 'd'\n",
    "    else :\n",
    "        gr = 'e'\n",
    "    print('grade is',gr)\n",
    "else :\n",
    "    print('다시')\n",
    "       "
   ]
  },
  {
   "cell_type": "code",
   "execution_count": null,
   "id": "2efba4fb",
   "metadata": {},
   "outputs": [],
   "source": [
    "score = input(\"score: \")\n",
    "score = int(score)\n",
    "if 81 <= score <= 100:\n",
    "    print(\"grade is A\")\n",
    "elif 61 <= score <= 80:\n",
    "    print(\"grade is B\")\n",
    "elif 41 <= score <= 60:\n",
    "    print(\"grade is C\")\n",
    "elif 21 <= score <= 40:\n",
    "    print(\"grade is D\")\n",
    "else:\n",
    "    print(\"grade is E\")\n"
   ]
  },
  {
   "cell_type": "code",
   "execution_count": null,
   "id": "1653d628",
   "metadata": {},
   "outputs": [],
   "source": [
    "# 사용자로부터 달러, 엔, 유로, 또는 위안 금액을 입력받은 후 이를 원으로 변환하는 프로그램을 작성하라. \n",
    "# 각 통화별 환율은 다음과 같다. 사용자는 100 달러, 1000 엔, 13 유로, 100 위안과 같이 \n",
    "# 금액과 통화명 사이에 공백을 넣어 입력한다고 가정한다."
   ]
  },
  {
   "attachments": {
    "image.png": {
     "image/png": "[encoded data removed]"
    }
   },
   "cell_type": "markdown",
   "id": "7798e3f9",
   "metadata": {},
   "source": [
    "![image.png](attachment:image.png)"
   ]
  },
  {
   "cell_type": "code",
   "execution_count": null,
   "id": "51aaa120",
   "metadata": {},
   "outputs": [],
   "source": [
    "mo = input(\"금액과 통화명: \")\n",
    "aa = mo.split()   # mo.split(' ')\n",
    "# type(aa) --> list\n",
    "if '달러' in aa :\n",
    "    print(f'{float(aa[0])*1167:.2f}원')\n",
    "elif '엔' in aa :\n",
    "    print(float(aa[0])*1.096,'원')\n",
    "elif '유로' in aa :\n",
    "    print(float(aa[0])*1268,'원')\n",
    "elif '위안' in aa :\n",
    "    print(float(aa[0])*171,'원')\n",
    "else :\n",
    "    print(\"다시\")"
   ]
  },
  {
   "cell_type": "code",
   "execution_count": null,
   "id": "13ea6f71",
   "metadata": {},
   "outputs": [],
   "source": [
    "# 정답\n",
    "환율 = {\"달러\": 1167, \n",
    "        \"엔\": 1.096, \n",
    "        \"유로\": 1268, \n",
    "        \"위안\": 171}\n",
    "user = input(\"입력: \")\n",
    "num, currency = user.split()\n",
    "print(f'{float(num) * 환율[currency]:.2f}원')  # f-string 을 사용 --> 소수점 2자리--> :.2f"
   ]
  },
  {
   "cell_type": "code",
   "execution_count": null,
   "id": "0b0f6ed0",
   "metadata": {},
   "outputs": [],
   "source": [
    "# 사용자로부터 세 개의 숫자를 입력 받은 후 가장 큰 숫자를 출력하라.\n",
    "a = input(\"숫자1: \")\n",
    "b = input(\"숫자2: \")\n",
    "c = input(\"숫자3: \")\n",
    "list = [a,b,c]         # 형변환 안해도 됨\n",
    "#a,b,c = []  --> 에러\n",
    "print(list)\n",
    "print('최대값:',max(list)) # max함수에 의해 숫자로 변환된 것일까?"
   ]
  },
  {
   "cell_type": "code",
   "execution_count": null,
   "id": "9d7a9f45",
   "metadata": {},
   "outputs": [],
   "source": [
    "list = ['a','b','c'] \n",
    "print('최대값:',max(list))"
   ]
  },
  {
   "cell_type": "code",
   "execution_count": null,
   "id": "33a70e88",
   "metadata": {},
   "outputs": [],
   "source": [
    "list = ['가','나','다'] \n",
    "print('최대값:',max(list))"
   ]
  },
  {
   "cell_type": "code",
   "execution_count": null,
   "id": "b12345eb",
   "metadata": {},
   "outputs": [],
   "source": [
    "num1 = input(\"input number1: \")\n",
    "num2 = input(\"input number2: \")\n",
    "num3 = input(\"input number3: \")\n",
    "num1 = int(num1)\n",
    "num2 = int(num2)\n",
    "num3 = int(num3)\n",
    "\n",
    "if num1 >= num2 and num1 >= num3:\n",
    "    print(num1)\n",
    "elif num2 >= num1 and num2 >= num3:\n",
    "    print(num2)\n",
    "else:\n",
    "    print(num3)\n"
   ]
  },
  {
   "cell_type": "code",
   "execution_count": null,
   "id": "5def18dd",
   "metadata": {},
   "outputs": [],
   "source": [
    "# 휴대폰 번호 앞자리에 따라 통신사는 아래와 같이 구분된다. \n",
    "# 사용자로부터 휴대전화 번호를 입력 받고, 통신사를 출력하는 프로그램을 작성하라."
   ]
  },
  {
   "attachments": {
    "image.png": {
     "image/png": "[encoded data removed]"
    }
   },
   "cell_type": "markdown",
   "id": "fd5bb292",
   "metadata": {},
   "source": [
    "![image.png](attachment:image.png)"
   ]
  },
  {
   "cell_type": "code",
   "execution_count": null,
   "id": "259130fb",
   "metadata": {},
   "outputs": [],
   "source": [
    "num = input(\"휴대전화 번호 입력>> \")\n",
    "com = {\"011\": 'SKT', \n",
    "        \"016\": 'KT', \n",
    "        \"019\": 'LGU', \n",
    "        \"010\": '알수없음'}\n",
    "a,*b = num.split('-')\n",
    "print('당신은',com[a],'사용자입니다.')"
   ]
  },
  {
   "cell_type": "code",
   "execution_count": null,
   "id": "bd4f21a2",
   "metadata": {},
   "outputs": [],
   "source": [
    "number = input(\"휴대전화 번호 입력: \")\n",
    "num = number.split(\"-\")[0]\n",
    "if num == \"011\":\n",
    "    com = \"SKT\"\n",
    "elif num == \"016\":\n",
    "    com = \"KT\"\n",
    "elif num == \"019\":\n",
    "    com = \"LGU\"\n",
    "else:\n",
    "    com = \"알수없음\"\n",
    "print(f\"당신은 {com} 사용자입니다.\")"
   ]
  },
  {
   "cell_type": "code",
   "execution_count": null,
   "id": "7bc22f48",
   "metadata": {},
   "outputs": [],
   "source": [
    "# 우편번호는 5자리로 구성되는데, 앞의 세자리는 구를 나타낸다. \n",
    "# 예를들어, 강북구의 경우 010, 011, 012 세 자리로 시작한다.\n",
    "# 사용자로 부터 5자리 우편번호를 입력받고 구를 판별하라"
   ]
  },
  {
   "attachments": {
    "image.png": {
     "image/png": "[encoded data removed]"
    }
   },
   "cell_type": "markdown",
   "id": "fa53fb03",
   "metadata": {},
   "source": [
    "![image.png](attachment:image.png)"
   ]
  },
  {
   "cell_type": "code",
   "execution_count": null,
   "id": "cf153e62",
   "metadata": {},
   "outputs": [],
   "source": [
    "number = input(\"우편 번호 입력: \")\n",
    "a=number[:2]\n",
    "com = {'강북구':['010','011','012'], \n",
    "       '도봉구':['013','014','015'], \n",
    "        '노원구':['016','017','018','019']}\n",
    "if a == '01' :\n",
    "    if number[:3] in com['강북구'] :\n",
    "        print('강북구')\n",
    "    elif number[:3] in com['도봉구'] :\n",
    "        print('도봉구')\n",
    "    elif number[:3] in com['노원구'] :\n",
    "        print('노원구')\n",
    "    else :\n",
    "        print('해당구가 없어요')\n",
    "else :\n",
    "    print(\"01을 먼저 입력하세요\")"
   ]
  },
  {
   "cell_type": "code",
   "execution_count": null,
   "id": "748aa252",
   "metadata": {},
   "outputs": [],
   "source": [
    "우편번호 = input(\"우편번호: \")\n",
    "우편번호 = 우편번호[:3]\n",
    "if 우편번호 in [\"010\", \"011\", \"012\"]:   # 바로 리스트 생성\n",
    "    print(\"강북구\")\n",
    "elif 우편번호 in [\"014\", \"015\", \"016\"]:\n",
    "    print(\"도봉구\")\n",
    "else:\n",
    "    print(\"노원구\")\n"
   ]
  },
  {
   "cell_type": "code",
   "execution_count": null,
   "id": "e6c0554a",
   "metadata": {},
   "outputs": [],
   "source": [
    "# 주민등록번호 뒷 자리 7자리 중 첫째 자리는 성별을 나타내는데, 1, 3은 남자 2, 4는 여자를 의미한다. \n",
    "# 사용자로부터 13자리의 주민등록번호를 입력 받은 후 성별 (남자, 여자)를 출력하는 프로그램을 작성하라."
   ]
  },
  {
   "cell_type": "code",
   "execution_count": null,
   "id": "e44f5acb",
   "metadata": {},
   "outputs": [],
   "source": [
    "# 참고 --> int인 경우는 인덱싱이 안된다\n",
    "abc = input(\"주민번호 13자리: \")\n",
    "cvb = abc.split('-')[1]\n",
    "if len(abc) == 14   :                      #.empty --> 리스트내 비었는지 여부  cf) None은 str에서만 사용??\n",
    "    if (cvb[0]=='1') | (cvb[0]=='3') :\n",
    "        print('남자')\n",
    "    elif (cvb[0]=='2') | (cvb[0]=='4') :\n",
    "        print('여자')\n",
    "    else :\n",
    "        print('오류')\n",
    "else :\n",
    "    print('13자리입력해라')"
   ]
  },
  {
   "cell_type": "code",
   "execution_count": null,
   "id": "1f474ee8",
   "metadata": {},
   "outputs": [],
   "source": [
    "주민번호 = input(\"주민등록번호: \")\n",
    "주민번호 = 주민번호.split(\"-\")[1]\n",
    "if 주민번호[0] == \"1\" or 주민번호[0] == \"3\":\n",
    "    print(\"남자\")\n",
    "else:\n",
    "    print(\"여자\")"
   ]
  },
  {
   "cell_type": "code",
   "execution_count": null,
   "id": "7aacb36d",
   "metadata": {},
   "outputs": [],
   "source": [
    "# 주민등록번호의 뒷 자리 7자리 중 두번째와 세번째는 지역코드를 의미한다. \n",
    "# 주민 등록 번호를 입력 받은 후 출생지가 서울인지 아닌지 판단하는 코드를 작성하라"
   ]
  },
  {
   "attachments": {
    "image.png": {
     "image/png": "[encoded data removed]"
    }
   },
   "cell_type": "markdown",
   "id": "5bfa894d",
   "metadata": {},
   "source": [
    "![image.png](attachment:image.png)"
   ]
  },
  {
   "cell_type": "code",
   "execution_count": null,
   "id": "5c2adeca",
   "metadata": {},
   "outputs": [],
   "source": [
    "abc = input(\"주민번호 13자리: \")\n",
    "cvb = abc.split('-')[1]        # 타입은 문자열\n",
    "list1 = ['00','01','02','03','04','05','06','07','08']\n",
    "if len(abc) == 14 :\n",
    "    if cvb[1:3] in list1 :\n",
    "        print('서울입니다.')\n",
    "    else :\n",
    "        print('서울아닙니다.')\n",
    "else :\n",
    "    print('13자리입력해라')   "
   ]
  },
  {
   "cell_type": "code",
   "execution_count": null,
   "id": "e3490197",
   "metadata": {},
   "outputs": [],
   "source": [
    "주민번호 = input(\"주민등록번호: \")\n",
    "뒷자리 = 주민번호.split(\"-\")[1]\n",
    "if 0 <= int(뒷자리[1:3]) <= 8:\n",
    "    print(\"서울입니다.\")\n",
    "else:\n",
    "    print(\"서울이 아닙니다.\")"
   ]
  },
  {
   "cell_type": "code",
   "execution_count": null,
   "id": "6307c480",
   "metadata": {},
   "outputs": [],
   "source": [
    "# 주민등록번호는 13자리로 구성되는데 마지막 자리수는 주민등록번호의 유효성을 체크하는데 사용된다. \n",
    "# 먼저 앞에서부터 12자리의 숫자에 2, 3, 4, 5, 6, 7, 8, 9, 2, 3, 4, 5를 차례로 곱한 뒤 그 값을 전부 더한다. \n",
    "# 연산 결과 값을 11로 나누면 나머지가 나오는데 11에서 나머지를 뺀 값이 주민등록번호의 마지막 번호가 된다."
   ]
  },
  {
   "attachments": {
    "image.png": {
     "image/png": "[encoded data removed]"
    }
   },
   "cell_type": "markdown",
   "id": "7c85d9fa",
   "metadata": {},
   "source": [
    "![image.png](attachment:image.png)"
   ]
  },
  {
   "cell_type": "code",
   "execution_count": null,
   "id": "b8bc4935",
   "metadata": {},
   "outputs": [],
   "source": [
    "# 위와 같이 821010-1635210에 대해서 계산을 해보면 마지막 자리는 4가 되어야 함을 알 수 있다. \n",
    "# 즉, 821010-1635210은 유효하지 않은 주민등록번호임을 알 수 있다.\n",
    "# 다음과 같이 사용자로부터 주민등록번호를 입력받은 후 주민등록번호가 유효한지를 출력하는 프로그램을 작성하라."
   ]
  },
  {
   "cell_type": "code",
   "execution_count": 4,
   "id": "7ea012ac",
   "metadata": {},
   "outputs": [
    {
     "name": "stdout",
     "output_type": "stream",
     "text": [
      "주민번호 13자리: 821010-1635214\n",
      "유효한 주민등록번호입니다.\n"
     ]
    }
   ],
   "source": [
    "abc11 = input(\"주민번호 13자리: \")\n",
    "\n",
    "a = abc11.split('-')[0]       # 문자열이 split되면 리스트화~~ --> 근데 인덱싱하면 str\n",
    "b = abc11.split('-')[1][:6]       # 다시 리스트로 형변환은 불가 --> 튜플로는 가능\n",
    "str12 = abc11.split('-')[1]\n",
    "c =int(a[0])*2 + int(a[1])*3 +int(a[2])*4+int(a[3])*5+int(a[4])*6+int(a[5])*7+\\\n",
    "   int(b[0])*8+int(b[1])*9+int(b[2])*2+int(b[3])*3+int(b[4])*4+int(b[5])*5\n",
    "d = 11-(c%11)\n",
    "\n",
    "\n",
    "if len(abc11) == 14 :\n",
    "    if int(str12[len(str12)-1]) == d :\n",
    "        print('유효한 주민등록번호입니다.')\n",
    "    else :\n",
    "        print('유효하지 않은 주민등록번호입니다.')\n",
    "else :\n",
    "    print('13자리입력해라')\n",
    "\n"
   ]
  },
  {
   "cell_type": "code",
   "execution_count": 8,
   "id": "74ed205f",
   "metadata": {},
   "outputs": [
    {
     "name": "stdout",
     "output_type": "stream",
     "text": [
      "주민등록번호: 821010-1635214\n",
      "4\n",
      "유효한 주민등록번호입니다.\n"
     ]
    }
   ],
   "source": [
    "num = input(\"주민등록번호: \")\n",
    "계산1 = int(num[0]) * 2 + int(num[1]) * 3 + int(num[2]) * 4 + int(num[3]) * 5 + int(num[4]) * 6 + \\\n",
    "        int(num[5]) * 7 + int(num[7]) * 8 + int(num[8]) * 9 + int(num[9]) * 2 + int(num[10])* 3 + \\\n",
    "        int(num[11])* 4 + int(num[12]) * 5\n",
    "계산2 = 11 - (계산1 % 11)\n",
    "계산3 = str(계산2)\n",
    "\n",
    "if num[-1] == 계산3[-1] :\n",
    "    print(\"유효한 주민등록번호입니다.\")\n",
    "else:\n",
    "    print(\"유효하지 않은 주민등록번호입니다.\")\n"
   ]
  },
  {
   "cell_type": "code",
   "execution_count": null,
   "id": "0807daac",
   "metadata": {},
   "outputs": [],
   "source": [
    "a=[2,3]   # 튜플이나 리스트는 서로 연산 안됨 --> numpy는 가능함\n",
    "b=[2,4]\n",
    "cc=a*b\n",
    "cc"
   ]
  },
  {
   "cell_type": "code",
   "execution_count": 13,
   "id": "62c34f18",
   "metadata": {},
   "outputs": [
    {
     "data": {
      "text/plain": [
       "{'opening_price': '65856000',\n",
       " 'closing_price': '66655000',\n",
       " 'min_price': '65710000',\n",
       " 'max_price': '67500000',\n",
       " 'units_traded': '1700.19542161',\n",
       " 'acc_trade_value': '113504002515.3326',\n",
       " 'prev_closing_price': '65856000',\n",
       " 'units_traded_24H': '4015.07724184',\n",
       " 'acc_trade_value_24H': '264686639130.5932',\n",
       " 'fluctate_24H': '1409000',\n",
       " 'fluctate_rate_24H': '2.16',\n",
       " 'date': '1707767740224'}"
      ]
     },
     "execution_count": 13,
     "metadata": {},
     "output_type": "execute_result"
    }
   ],
   "source": [
    "# 아래 코드는 비트코인의 가격 정보를 딕셔너리로 가져오는 코드이다.\n",
    "import requests\n",
    "btc = requests.get(\"https://api.bithumb.com/public/ticker/\").json()['data']\n",
    "btc"
   ]
  },
  {
   "cell_type": "code",
   "execution_count": null,
   "id": "34d35897",
   "metadata": {},
   "outputs": [],
   "source": [
    "# btc 딕셔너리 안에는 시가, 종가, 최고가, 최저가 등이 저장되어 있다. \n",
    "# 최고가와 최저가의 차이를 변동폭으로 정의할 때 (시가 + 변동폭)이 최고가 보다 높을 경우 \"상승장\", \n",
    "# 그렇지 않은 경우 \"하락장\" 문자열을 출력하라."
   ]
  },
  {
   "attachments": {
    "image.png": {
     "image/png": "[encoded data removed]"
    }
   },
   "cell_type": "markdown",
   "id": "af28ba36",
   "metadata": {},
   "source": [
    "![image.png](attachment:image.png)"
   ]
  },
  {
   "cell_type": "code",
   "execution_count": 14,
   "id": "d8de64a1",
   "metadata": {},
   "outputs": [
    {
     "name": "stdout",
     "output_type": "stream",
     "text": [
      "상승장\n"
     ]
    }
   ],
   "source": [
    "aa = int(btc['max_price'])-int(btc['min_price']) \n",
    "bb = int(btc['opening_price'])+aa\n",
    "if bb > int(btc['max_price']) :\n",
    "    print('상승장')\n",
    "else :\n",
    "    print('하락장')"
   ]
  },
  {
   "cell_type": "code",
   "execution_count": 15,
   "id": "fe7a7afa",
   "metadata": {},
   "outputs": [
    {
     "name": "stdout",
     "output_type": "stream",
     "text": [
      "상승장\n"
     ]
    }
   ],
   "source": [
    "변동폭 = float(btc['max_price']) - float(btc['min_price'])\n",
    "시가 = float(btc['opening_price'])\n",
    "최고가 = float(btc['max_price'])\n",
    "\n",
    "if (시가+변동폭) > 최고가:\n",
    "    print(\"상승장\")\n",
    "else:\n",
    "    print(\"하락장\")"
   ]
  }
 ],
 "metadata": {
  "kernelspec": {
   "display_name": "Python 3 (ipykernel)",
   "language": "python",
   "name": "python3"
  },
  "language_info": {
   "codemirror_mode": {
    "name": "ipython",
    "version": 3
   },
   "file_extension": ".py",
   "mimetype": "text/x-python",
   "name": "python",
   "nbconvert_exporter": "python",
   "pygments_lexer": "ipython3",
   "version": "3.11.5"
  }
 },
 "nbformat": 4,
 "nbformat_minor": 5
}
