{
 "cells": [
  {
   "cell_type": "code",
   "execution_count": null,
   "id": "8ff0a834",
   "metadata": {},
   "outputs": [],
   "source": [
    "# while 반복문 실습\n",
    "num = 1\n",
    "while num<=10 :\n",
    "    print(f'파이썬 최고! {num}번째')\n",
    "    num += 1\n",
    "    "
   ]
  },
  {
   "cell_type": "code",
   "execution_count": null,
   "id": "a70d823c",
   "metadata": {},
   "outputs": [],
   "source": [
    "while True :\n",
    "    print('무한루프')\n",
    "    break"
   ]
  },
  {
   "cell_type": "code",
   "execution_count": null,
   "id": "4ca5046c",
   "metadata": {},
   "outputs": [],
   "source": [
    "# 3까지 출력된 후 break.\n",
    "num = 1\n",
    "\n",
    "while True :\n",
    "    print(num,end=' ')\n",
    "    num += 1\n",
    "    if num >3 :\n",
    "        break "
   ]
  },
  {
   "cell_type": "code",
   "execution_count": null,
   "id": "3851ade4",
   "metadata": {},
   "outputs": [],
   "source": [
    "# while문 활용 문제\n",
    "# while문 활용해서 이름 입력받고 \n",
    "# 입력받은 이름 최고! 라고 출력\n",
    "# 단 ,입력받은 이름이 강아람이면  아파서 속상해요 라고 출력 반복문 종료 \n",
    "while True :\n",
    "    input1= input(\"이름입력>> \" )\n",
    "    if input1 == '강아람' :\n",
    "        print('아파서 속상해요')\n",
    "        break\n",
    "    print(f'{input1} 최고!')\n",
    "    "
   ]
  },
  {
   "cell_type": "code",
   "execution_count": null,
   "id": "556213b2",
   "metadata": {},
   "outputs": [],
   "source": [
    "# 두수의 합 구하기\n",
    "# 두수가 0 이면 종료\n",
    "while True :\n",
    "    num1= int(input (\"첫번째 정수입력>>\"))\n",
    "    num2= int(input (\"두번째 정수입력>>\"))\n",
    "    if (num1 == 0) & (num2 ==0) :\n",
    "        print('프로그램종료')\n",
    "        break\n",
    "    print(f'두 정수의 합 : {num1+num2}')\n",
    "    "
   ]
  },
  {
   "cell_type": "code",
   "execution_count": null,
   "id": "237bccfd",
   "metadata": {},
   "outputs": [],
   "source": [
    "num1= int(input (\"현재 몸무게>>\"))\n",
    "num2= int(input (\"목표 몸무게>>\"))\n",
    "num3 = 1  #주차\n",
    "num5 = 0 \n",
    "while True :\n",
    "    num4 = int(input (f'{num3}주차 감량 몸무게>> '))\n",
    "    num3 +=1 \n",
    "    num5 += num4\n",
    "    if  num1-num5 <= num2 :\n",
    "        print(f'{num1-num5}kg 달성 축하합니다!!')\n",
    "        break\n"
   ]
  },
  {
   "cell_type": "code",
   "execution_count": null,
   "id": "517adb08",
   "metadata": {},
   "outputs": [],
   "source": [
    "# 교수님 방법\n",
    "w= int(input (\"현재 몸무게>>\"))\n",
    "g= int(input (\"목표 몸무게>>\"))\n",
    "week = 1\n",
    "\n",
    "while  w>=g :\n",
    "    num4 = int(input (f'{week}주차 감량 몸무게>> '))\n",
    "    week += 1\n",
    "    w -= num4\n",
    "    \n",
    "print(f'{w}kg 달성 축하합니다!!')\n",
    "\n"
   ]
  },
  {
   "cell_type": "code",
   "execution_count": null,
   "id": "d5e6fac4",
   "metadata": {},
   "outputs": [],
   "source": [
    "# 업다운 게임만들기 랜덤숫자 맞추기\n",
    "import random \n",
    "\n",
    "num = random.randint(1,100)  # 슬라이싱과는 달리 숫자 범위 그대로 생성\n",
    "\n",
    "while True :\n",
    "    a=int(input ('숫자 입력>> '))\n",
    "    \n",
    "    if num > a :\n",
    "        print(f'{a}보다 크다!!')\n",
    "    elif num < a :\n",
    "        print(f'{a}보다 작다!!')\n",
    "    else :\n",
    "        print('정답!!')\n",
    "        break\n"
   ]
  },
  {
   "cell_type": "code",
   "execution_count": 21,
   "id": "f5da7797",
   "metadata": {},
   "outputs": [
    {
     "name": "stdout",
     "output_type": "stream",
     "text": [
      "[1, 2, 3]\n"
     ]
    }
   ],
   "source": [
    "a=1,2,3\n",
    "b=[]\n",
    "#b=[a]\n",
    "b[0:]=a\n",
    "print(b)"
   ]
  },
  {
   "cell_type": "code",
   "execution_count": 28,
   "id": "3af6c891",
   "metadata": {},
   "outputs": [
    {
     "name": "stdout",
     "output_type": "stream",
     "text": [
      "[23]\n",
      "[21, 23]\n",
      "[62, 21, 23]\n",
      "[94, 62, 21, 23]\n",
      "[94, 94, 62, 21, 23]\n",
      "[39, 94, 94, 62, 21, 23]\n",
      "[92, 39, 94, 94, 62, 21, 23]\n",
      "[67, 92, 39, 94, 94, 62, 21, 23]\n",
      "[68, 67, 92, 39, 94, 94, 62, 21, 23]\n",
      "[55, 68, 67, 92, 39, 94, 94, 62, 21, 23]\n",
      "[55, 68, 67, 92, 39, 94, 94, 62, 21, 23]\n"
     ]
    }
   ],
   "source": [
    "import random\n",
    "list300=[]\n",
    "for i in range(0,10) :\n",
    "    num = random.randint(1,100)\n",
    "    list300.insert(0,num)   # 앞(시작)으로 추가\n",
    "    print(list300)\n",
    "print(list300)"
   ]
  },
  {
   "cell_type": "code",
   "execution_count": 32,
   "id": "bcb020cd",
   "metadata": {},
   "outputs": [
    {
     "name": "stdout",
     "output_type": "stream",
     "text": [
      "[0]\n",
      "[0, 1]\n",
      "[0, 1, 2]\n",
      "[0, 1, 2, 3]\n",
      "[0, 1, 2, 3, 4]\n",
      "[0, 1, 2, 3, 4, 5]\n",
      "[0, 1, 2, 3, 4, 5, 6]\n",
      "[0, 1, 2, 3, 4, 5, 6, 7]\n",
      "[0, 1, 2, 3, 4, 5, 6, 7, 8]\n",
      "[0, 1, 2, 3, 4, 5, 6, 7, 8, 9]\n",
      "[0, 1, 2, 3, 4, 5, 6, 7, 8, 9]\n"
     ]
    }
   ],
   "source": [
    "list3000=[]\n",
    "for i in range(0,10) :\n",
    "    num = i\n",
    "    list3000.append(num)  # 끝(뒤)으로 추가\n",
    "    print(list3000)\n",
    "print(list3000)"
   ]
  },
  {
   "cell_type": "code",
   "execution_count": null,
   "id": "e833f6d0",
   "metadata": {},
   "outputs": [],
   "source": [
    "# ?? 반복문으로 랜덤수도 좋고  어찌 됬든 리스트에 넣는 방법?? "
   ]
  },
  {
   "cell_type": "code",
   "execution_count": null,
   "id": "26fd54a3",
   "metadata": {},
   "outputs": [],
   "source": []
  }
 ],
 "metadata": {
  "kernelspec": {
   "display_name": "Python 3 (ipykernel)",
   "language": "python",
   "name": "python3"
  },
  "language_info": {
   "codemirror_mode": {
    "name": "ipython",
    "version": 3
   },
   "file_extension": ".py",
   "mimetype": "text/x-python",
   "name": "python",
   "nbconvert_exporter": "python",
   "pygments_lexer": "ipython3",
   "version": "3.11.5"
  }
 },
 "nbformat": 4,
 "nbformat_minor": 5
}
